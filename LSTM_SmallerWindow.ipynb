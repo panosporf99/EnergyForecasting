{
 "cells": [
  {
   "cell_type": "code",
   "execution_count": null,
   "metadata": {},
   "outputs": [],
   "source": []
  },
  {
   "cell_type": "code",
   "execution_count": 1,
   "metadata": {},
   "outputs": [
    {
     "name": "stdout",
     "output_type": "stream",
     "text": [
      "INFO:tensorflow:Enabling eager execution\n",
      "INFO:tensorflow:Enabling v2 tensorshape\n",
      "INFO:tensorflow:Enabling resource variables\n",
      "INFO:tensorflow:Enabling tensor equality\n",
      "INFO:tensorflow:Enabling control flow v2\n"
     ]
    }
   ],
   "source": [
    "import tensorflow as tf\n",
    "import pandas as pd \n",
    "import numpy as np\n",
    "import matplotlib.pyplot as plt\n",
    "from tensorflow.keras.models import Sequential\n",
    "from tensorflow.keras.layers import *\n",
    "from tensorflow.keras.callbacks import ModelCheckpoint\n",
    "from tensorflow.keras.losses import MeanSquaredError\n",
    "from tensorflow.keras.metrics import RootMeanSquaredError\n",
    "from tensorflow.keras.optimizers import Adam\n",
    "from keras_visualizer import visualizer\n",
    "from keras import models\n",
    "from keras.utils.vis_utils import plot_model"
   ]
  },
  {
   "cell_type": "code",
   "execution_count": 2,
   "metadata": {},
   "outputs": [
    {
     "name": "stdout",
     "output_type": "stream",
     "text": [
      "                               DateTime  Voltage Line 1 [V]  \\\n",
      "DateTime                                                      \n",
      "2020-08-02 00:00:00 2020-08-02 00:00:00              232.39   \n",
      "2020-08-02 01:00:00 2020-08-02 01:00:00              234.30   \n",
      "2020-08-02 02:00:00 2020-08-02 02:00:00              234.14   \n",
      "2020-08-02 03:00:00 2020-08-02 03:00:00              234.99   \n",
      "2020-08-02 04:00:00 2020-08-02 04:00:00              233.60   \n",
      "...                                 ...                 ...   \n",
      "2020-11-30 19:00:00 2020-11-30 19:00:00              233.59   \n",
      "2020-11-30 20:00:00 2020-11-30 20:00:00              233.99   \n",
      "2020-11-30 21:00:00 2020-11-30 21:00:00              233.38   \n",
      "2020-11-30 22:00:00 2020-11-30 22:00:00              233.50   \n",
      "2020-11-30 23:00:00 2020-11-30 23:00:00              232.89   \n",
      "\n",
      "                     Voltage Line 2 [V]  Voltage Line 3 [V]  \\\n",
      "DateTime                                                      \n",
      "2020-08-02 00:00:00              232.27              230.53   \n",
      "2020-08-02 01:00:00              234.51              232.35   \n",
      "2020-08-02 02:00:00              233.59              231.74   \n",
      "2020-08-02 03:00:00              234.59              232.55   \n",
      "2020-08-02 04:00:00              233.55              231.91   \n",
      "...                                 ...                 ...   \n",
      "2020-11-30 19:00:00              233.42              231.93   \n",
      "2020-11-30 20:00:00              234.11              232.65   \n",
      "2020-11-30 21:00:00              233.19              231.41   \n",
      "2020-11-30 22:00:00              232.91              231.56   \n",
      "2020-11-30 23:00:00              232.31              230.59   \n",
      "\n",
      "                     Current in Line 1 [Amp]  Current in Line 2 [Amp]  \\\n",
      "DateTime                                                                \n",
      "2020-08-02 00:00:00                    80.68                    78.04   \n",
      "2020-08-02 01:00:00                    92.21                    78.21   \n",
      "2020-08-02 02:00:00                    80.72                    69.16   \n",
      "2020-08-02 03:00:00                    85.04                    72.15   \n",
      "2020-08-02 04:00:00                    81.88                    65.06   \n",
      "...                                      ...                      ...   \n",
      "2020-11-30 19:00:00                    75.79                    82.21   \n",
      "2020-11-30 20:00:00                    72.91                    62.53   \n",
      "2020-11-30 21:00:00                    70.29                    72.40   \n",
      "2020-11-30 22:00:00                    80.09                    76.39   \n",
      "2020-11-30 23:00:00                    69.22                    72.51   \n",
      "\n",
      "                     Current in Line 3 [Amp]  \\\n",
      "DateTime                                       \n",
      "2020-08-02 00:00:00                    91.81   \n",
      "2020-08-02 01:00:00                    91.04   \n",
      "2020-08-02 02:00:00                    80.74   \n",
      "2020-08-02 03:00:00                    88.16   \n",
      "2020-08-02 04:00:00                    81.17   \n",
      "...                                      ...   \n",
      "2020-11-30 19:00:00                    78.28   \n",
      "2020-11-30 20:00:00                    67.83   \n",
      "2020-11-30 21:00:00                    81.45   \n",
      "2020-11-30 22:00:00                    71.99   \n",
      "2020-11-30 23:00:00                    74.78   \n",
      "\n",
      "                     Combined Active Power Line 1+2 +3 (watt)  \\\n",
      "DateTime                                                        \n",
      "2020-08-02 00:00:00                                  56683.98   \n",
      "2020-08-02 01:00:00                                  59487.19   \n",
      "2020-08-02 02:00:00                                  52798.79   \n",
      "2020-08-02 03:00:00                                  55698.04   \n",
      "2020-08-02 04:00:00                                  52330.48   \n",
      "...                                                       ...   \n",
      "2020-11-30 19:00:00                                  52057.36   \n",
      "2020-11-30 20:00:00                                  44937.44   \n",
      "2020-11-30 21:00:00                                  48802.58   \n",
      "2020-11-30 22:00:00                                  49585.46   \n",
      "2020-11-30 23:00:00                                  46653.30   \n",
      "\n",
      "                     Combined Apparent Power Line 1+2+3  \\\n",
      "DateTime                                                  \n",
      "2020-08-02 00:00:00                            57983.59   \n",
      "2020-08-02 01:00:00                            61091.12   \n",
      "2020-08-02 02:00:00                            53770.52   \n",
      "2020-08-02 03:00:00                            57424.54   \n",
      "2020-08-02 04:00:00                            53163.79   \n",
      "...                                                 ...   \n",
      "2020-11-30 19:00:00                            55031.18   \n",
      "2020-11-30 20:00:00                            47462.15   \n",
      "2020-11-30 21:00:00                            52115.82   \n",
      "2020-11-30 22:00:00                            53158.36   \n",
      "2020-11-30 23:00:00                            50223.58   \n",
      "\n",
      "                     Combined Reactive Power Line 1+2+3  ...  \\\n",
      "DateTime                                                 ...   \n",
      "2020-08-02 00:00:00                            11684.22  ...   \n",
      "2020-08-02 01:00:00                            13601.32  ...   \n",
      "2020-08-02 02:00:00                             8885.98  ...   \n",
      "2020-08-02 03:00:00                            13030.89  ...   \n",
      "2020-08-02 04:00:00                             8584.88  ...   \n",
      "...                                                 ...  ...   \n",
      "2020-11-30 19:00:00                            17593.00  ...   \n",
      "2020-11-30 20:00:00                            15053.53  ...   \n",
      "2020-11-30 21:00:00                            18048.29  ...   \n",
      "2020-11-30 22:00:00                            18749.11  ...   \n",
      "2020-11-30 23:00:00                            18488.18  ...   \n",
      "\n",
      "                     Current Neutral Line  Total Current in Line 1+2+3  \\\n",
      "DateTime                                                                 \n",
      "2020-08-02 00:00:00                 18.17                       250.42   \n",
      "2020-08-02 01:00:00                 23.96                       261.31   \n",
      "2020-08-02 02:00:00                 25.79                       230.61   \n",
      "2020-08-02 03:00:00                 24.14                       245.26   \n",
      "2020-08-02 04:00:00                 25.93                       228.12   \n",
      "...                                   ...                          ...   \n",
      "2020-11-30 19:00:00                  6.32                       236.15   \n",
      "2020-11-30 20:00:00                 17.59                       203.26   \n",
      "2020-11-30 21:00:00                 11.32                       224.24   \n",
      "2020-11-30 22:00:00                 11.08                       228.40   \n",
      "2020-11-30 23:00:00                  6.16                       216.55   \n",
      "\n",
      "                     Active Total Energy (Wh) [Wh]  \\\n",
      "DateTime                                             \n",
      "2020-08-02 00:00:00                     4282350848   \n",
      "2020-08-02 01:00:00                     4282409472   \n",
      "2020-08-02 02:00:00                     4282467584   \n",
      "2020-08-02 03:00:00                     4282525952   \n",
      "2020-08-02 04:00:00                     4282584320   \n",
      "...                                            ...   \n",
      "2020-11-30 19:00:00                     4480172544   \n",
      "2020-11-30 20:00:00                     4480225792   \n",
      "2020-11-30 21:00:00                     4480275968   \n",
      "2020-11-30 22:00:00                     4480325120   \n",
      "2020-11-30 23:00:00                     4480373248   \n",
      "\n",
      "                     Reactive Total Energy (VARh) [VARh]  \\\n",
      "DateTime                                                   \n",
      "2020-08-02 00:00:00                           1891807744   \n",
      "2020-08-02 01:00:00                           1891820160   \n",
      "2020-08-02 02:00:00                           1891832064   \n",
      "2020-08-02 03:00:00                           1891843968   \n",
      "2020-08-02 04:00:00                           1891856896   \n",
      "...                                                  ...   \n",
      "2020-11-30 19:00:00                           1972983680   \n",
      "2020-11-30 20:00:00                           1973002752   \n",
      "2020-11-30 21:00:00                           1973021568   \n",
      "2020-11-30 22:00:00                           1973040000   \n",
      "2020-11-30 23:00:00                           1973057152   \n",
      "\n",
      "                     Apparent Total Energy (Vah) [Vah]  Temp    Hi   Low  \\\n",
      "DateTime                                                                   \n",
      "2020-08-02 00:00:00                         4681609216  28.7  29.6  27.6   \n",
      "2020-08-02 01:00:00                         4681668096  26.0  27.4  25.2   \n",
      "2020-08-02 02:00:00                         4681725952  25.9  26.9  25.1   \n",
      "2020-08-02 03:00:00                         4681783808  25.3  26.4  24.4   \n",
      "2020-08-02 04:00:00                         4681842688  24.7  26.3  24.1   \n",
      "...                                                ...   ...   ...   ...   \n",
      "2020-11-30 19:00:00                         4895366656  14.4  15.1  14.1   \n",
      "2020-11-30 20:00:00                         4895422464  13.7  14.2  13.3   \n",
      "2020-11-30 21:00:00                         4895476224  13.4  13.7  13.2   \n",
      "2020-11-30 22:00:00                         4895528960  13.2  13.7  12.7   \n",
      "2020-11-30 23:00:00                         4895579648  12.8  13.4  12.6   \n",
      "\n",
      "                     Active Total Energy in MWh  Combined Active Power in MW  \n",
      "DateTime                                                                      \n",
      "2020-08-02 00:00:00                 4282.350848                     0.056684  \n",
      "2020-08-02 01:00:00                 4282.409472                     0.059487  \n",
      "2020-08-02 02:00:00                 4282.467584                     0.052799  \n",
      "2020-08-02 03:00:00                 4282.525952                     0.055698  \n",
      "2020-08-02 04:00:00                 4282.584320                     0.052330  \n",
      "...                                         ...                          ...  \n",
      "2020-11-30 19:00:00                 4480.172544                     0.052057  \n",
      "2020-11-30 20:00:00                 4480.225792                     0.044937  \n",
      "2020-11-30 21:00:00                 4480.275968                     0.048803  \n",
      "2020-11-30 22:00:00                 4480.325120                     0.049585  \n",
      "2020-11-30 23:00:00                 4480.373248                     0.046653  \n",
      "\n",
      "[2878 rows x 23 columns]\n"
     ]
    },
    {
     "data": {
      "image/png": "[encoded data removed]",
      "text/plain": [
       "<Figure size 640x480 with 1 Axes>"
      ]
     },
     "metadata": {},
     "output_type": "display_data"
    }
   ],
   "source": [
    "df = pd.read_csv('meter1_combined.csv')\n",
    "df.DateTime = pd.to_datetime(df.DateTime,dayfirst=True)\n",
    "df.index = pd.to_datetime(df['DateTime'], format='%d/%m/%Y %H:%M:%S')\n",
    "df[\"Active Total Energy in MWh\"]= df['Active Total Energy (Wh) [Wh]'].astype(float)/ 1000000\n",
    "df[\"Combined Active Power in MW\"] = df['Combined Active Power Line 1+2 +3 (watt)'].astype(float) / 1000000\n",
    "print(df)\n",
    "df['Combined Active Power in MW'].plot()\n",
    "# plt.show()\n",
    "target= df['Combined Active Power in MW']"
   ]
  },
  {
   "cell_type": "code",
   "execution_count": 3,
   "metadata": {},
   "outputs": [
    {
     "data": {
      "text/plain": [
       "((2876, 2, 1), (2876,))"
      ]
     },
     "execution_count": 3,
     "metadata": {},
     "output_type": "execute_result"
    }
   ],
   "source": [
    "#Convert TimeSeries\n",
    "#MODEL WITH JUST POWER\n",
    "def df_to_X_y(df, window_size=5):\n",
    "  df_as_np = df.to_numpy()\n",
    "  X = []\n",
    "  y = []\n",
    "  for i in range(len(df_as_np)-window_size):\n",
    "    row = [[a] for a in df_as_np[i:i+window_size]]\n",
    "    X.append(row)\n",
    "    label = df_as_np[i+window_size]\n",
    "    y.append(label)\n",
    "  return np.array(X), np.array(y)\n",
    "\n",
    "#Convert TimeSeries\n",
    "#Uses 5 hrs to predict the next hour ....\n",
    "WINDOW_SIZE = 2\n",
    "X1, y1 = df_to_X_y(target, WINDOW_SIZE)\n",
    "X1.shape, y1.shape"
   ]
  },
  {
   "cell_type": "code",
   "execution_count": 4,
   "metadata": {},
   "outputs": [
    {
     "name": "stdout",
     "output_type": "stream",
     "text": [
      "(2000, 2, 1) (2000,) (435, 2, 1) (435,) (441, 2, 1) (441,)\n"
     ]
    }
   ],
   "source": [
    "X_train1, y_train1 = X1[:2000], y1[:2000]\n",
    "X_val1, y_val1 = X1[2000:2435], y1[2000:2435]\n",
    "X_test1, y_test1 = X1[2435:], y1[2435:]\n",
    "print(X_train1.shape, y_train1.shape, X_val1.shape, y_val1.shape, X_test1.shape, y_test1.shape)"
   ]
  },
  {
   "cell_type": "code",
   "execution_count": 35,
   "metadata": {},
   "outputs": [
    {
     "name": "stdout",
     "output_type": "stream",
     "text": [
      "Model: \"sequential_2\"\n",
      "_________________________________________________________________\n",
      "Layer (type)                 Output Shape              Param #   \n",
      "=================================================================\n",
      "lstm_3 (LSTM)                (None, 64)                17152     \n",
      "_________________________________________________________________\n",
      "dense_6 (Dense)              (None, 8)                 520       \n",
      "_________________________________________________________________\n",
      "dense_7 (Dense)              (None, 1)                 9         \n",
      "=================================================================\n",
      "Total params: 17,681\n",
      "Trainable params: 17,681\n",
      "Non-trainable params: 0\n",
      "_________________________________________________________________\n"
     ]
    }
   ],
   "source": [
    "model1 = Sequential()\n",
    "model1.add(InputLayer(input_shape=(1, 2)))\n",
    "model1.add(LSTM(64))\n",
    "model1.add(Dense(8, 'relu'))\n",
    "model1.add(Dense(1, 'linear'))\n",
    "\n",
    "model1.summary()"
   ]
  },
  {
   "cell_type": "code",
   "execution_count": 6,
   "metadata": {},
   "outputs": [],
   "source": [
    "cp1 = ModelCheckpoint('model1/', save_best_only=True)\n",
    "model1.compile(loss=MeanSquaredError(), optimizer=Adam(learning_rate=0.0001), metrics=[RootMeanSquaredError()])"
   ]
  },
  {
   "cell_type": "code",
   "execution_count": 7,
   "metadata": {},
   "outputs": [
    {
     "name": "stdout",
     "output_type": "stream",
     "text": [
      "Epoch 1/50\n",
      "WARNING:tensorflow:Model was constructed with shape (None, 1, 2) for input KerasTensor(type_spec=TensorSpec(shape=(None, 1, 2), dtype=tf.float32, name='input_1'), name='input_1', description=\"created by layer 'input_1'\"), but it was called on an input with incompatible shape (None, 2, 1).\n"
     ]
    },
    {
     "ename": "ValueError",
     "evalue": "in user code:\n\n    C:\\Users\\User\\AppData\\Local\\Packages\\PythonSoftwareFoundation.Python.3.9_qbz5n2kfra8p0\\LocalCache\\local-packages\\Python39\\site-packages\\keras\\engine\\training.py:830 train_function  *\n        return step_function(self, iterator)\n    C:\\Users\\User\\AppData\\Local\\Packages\\PythonSoftwareFoundation.Python.3.9_qbz5n2kfra8p0\\LocalCache\\local-packages\\Python39\\site-packages\\keras\\engine\\training.py:813 run_step  *\n        outputs = model.train_step(data)\n    C:\\Users\\User\\AppData\\Local\\Packages\\PythonSoftwareFoundation.Python.3.9_qbz5n2kfra8p0\\LocalCache\\local-packages\\Python39\\site-packages\\keras\\engine\\training.py:770 train_step  *\n        y_pred = self(x, training=True)\n    C:\\Users\\User\\AppData\\Local\\Packages\\PythonSoftwareFoundation.Python.3.9_qbz5n2kfra8p0\\LocalCache\\local-packages\\Python39\\site-packages\\keras\\engine\\base_layer.py:1006 __call__  *\n        outputs = call_fn(inputs, *args, **kwargs)\n    C:\\Users\\User\\AppData\\Local\\Packages\\PythonSoftwareFoundation.Python.3.9_qbz5n2kfra8p0\\LocalCache\\local-packages\\Python39\\site-packages\\keras\\engine\\sequential.py:375 call  *\n        return super(Sequential, self).call(inputs, training=training, mask=mask)\n    C:\\Users\\User\\AppData\\Local\\Packages\\PythonSoftwareFoundation.Python.3.9_qbz5n2kfra8p0\\LocalCache\\local-packages\\Python39\\site-packages\\keras\\engine\\functional.py:416 call  *\n        inputs, training=training, mask=mask)\n    C:\\Users\\User\\AppData\\Local\\Packages\\PythonSoftwareFoundation.Python.3.9_qbz5n2kfra8p0\\LocalCache\\local-packages\\Python39\\site-packages\\keras\\engine\\functional.py:551 _run_internal_graph  *\n        outputs = node.layer(*args, **kwargs)\n    C:\\Users\\User\\AppData\\Local\\Packages\\PythonSoftwareFoundation.Python.3.9_qbz5n2kfra8p0\\LocalCache\\local-packages\\Python39\\site-packages\\keras\\engine\\base_layer.py:1006 __call__  *\n        outputs = call_fn(inputs, *args, **kwargs)\n    C:\\Users\\User\\AppData\\Local\\Packages\\PythonSoftwareFoundation.Python.3.9_qbz5n2kfra8p0\\LocalCache\\local-packages\\Python39\\site-packages\\keras\\engine\\functional.py:1442 call  *\n        return getattr(self._module, self._method_name)(*args, **kwargs)\n    C:\\Users\\User\\AppData\\Local\\Packages\\PythonSoftwareFoundation.Python.3.9_qbz5n2kfra8p0\\LocalCache\\local-packages\\Python39\\site-packages\\tensorflow\\python\\keras\\layers\\recurrent.py:668 __call__  **\n        return super(RNN, self).__call__(inputs, **kwargs)\n    C:\\Users\\User\\AppData\\Local\\Packages\\PythonSoftwareFoundation.Python.3.9_qbz5n2kfra8p0\\LocalCache\\local-packages\\Python39\\site-packages\\tensorflow\\python\\keras\\engine\\base_layer.py:1013 __call__\n        input_spec.assert_input_compatibility(self.input_spec, inputs, self.name)\n    C:\\Users\\User\\AppData\\Local\\Packages\\PythonSoftwareFoundation.Python.3.9_qbz5n2kfra8p0\\LocalCache\\local-packages\\Python39\\site-packages\\tensorflow\\python\\keras\\engine\\input_spec.py:267 assert_input_compatibility\n        raise ValueError('Input ' + str(input_index) +\n\n    ValueError: Input 0 is incompatible with layer lstm: expected shape=(None, None, 2), found shape=(None, 2, 1)\n",
     "output_type": "error",
     "traceback": [
      "\u001b[1;31m---------------------------------------------------------------------------\u001b[0m",
      "\u001b[1;31mValueError\u001b[0m                                Traceback (most recent call last)",
      "Cell \u001b[1;32mIn [7], line 1\u001b[0m\n\u001b[1;32m----> 1\u001b[0m model1\u001b[39m.\u001b[39;49mfit(X_train1, y_train1, validation_data\u001b[39m=\u001b[39;49m(X_val1, y_val1), epochs\u001b[39m=\u001b[39;49m\u001b[39m50\u001b[39;49m, callbacks\u001b[39m=\u001b[39;49m[cp1])\n\u001b[0;32m      2\u001b[0m \u001b[39mfrom\u001b[39;00m \u001b[39mtensorflow\u001b[39;00m\u001b[39m.\u001b[39;00m\u001b[39mkeras\u001b[39;00m\u001b[39m.\u001b[39;00m\u001b[39mmodels\u001b[39;00m \u001b[39mimport\u001b[39;00m load_model\n\u001b[0;32m      3\u001b[0m model1 \u001b[39m=\u001b[39m load_model(\u001b[39m'\u001b[39m\u001b[39mmodel1/\u001b[39m\u001b[39m'\u001b[39m)\n",
      "File \u001b[1;32m~\\AppData\\Local\\Packages\\PythonSoftwareFoundation.Python.3.9_qbz5n2kfra8p0\\LocalCache\\local-packages\\Python39\\site-packages\\keras\\engine\\training.py:1158\u001b[0m, in \u001b[0;36mModel.fit\u001b[1;34m(self, x, y, batch_size, epochs, verbose, callbacks, validation_split, validation_data, shuffle, class_weight, sample_weight, initial_epoch, steps_per_epoch, validation_steps, validation_batch_size, validation_freq, max_queue_size, workers, use_multiprocessing)\u001b[0m\n\u001b[0;32m   1151\u001b[0m \u001b[39mwith\u001b[39;00m tf\u001b[39m.\u001b[39mprofiler\u001b[39m.\u001b[39mexperimental\u001b[39m.\u001b[39mTrace(\n\u001b[0;32m   1152\u001b[0m     \u001b[39m'\u001b[39m\u001b[39mtrain\u001b[39m\u001b[39m'\u001b[39m,\n\u001b[0;32m   1153\u001b[0m     epoch_num\u001b[39m=\u001b[39mepoch,\n\u001b[0;32m   1154\u001b[0m     step_num\u001b[39m=\u001b[39mstep,\n\u001b[0;32m   1155\u001b[0m     batch_size\u001b[39m=\u001b[39mbatch_size,\n\u001b[0;32m   1156\u001b[0m     _r\u001b[39m=\u001b[39m\u001b[39m1\u001b[39m):\n\u001b[0;32m   1157\u001b[0m   callbacks\u001b[39m.\u001b[39mon_train_batch_begin(step)\n\u001b[1;32m-> 1158\u001b[0m   tmp_logs \u001b[39m=\u001b[39m \u001b[39mself\u001b[39;49m\u001b[39m.\u001b[39;49mtrain_function(iterator)\n\u001b[0;32m   1159\u001b[0m   \u001b[39mif\u001b[39;00m data_handler\u001b[39m.\u001b[39mshould_sync:\n\u001b[0;32m   1160\u001b[0m     context\u001b[39m.\u001b[39masync_wait()\n",
      "File \u001b[1;32m~\\AppData\\Local\\Packages\\PythonSoftwareFoundation.Python.3.9_qbz5n2kfra8p0\\LocalCache\\local-packages\\Python39\\site-packages\\tensorflow\\python\\eager\\def_function.py:889\u001b[0m, in \u001b[0;36mFunction.__call__\u001b[1;34m(self, *args, **kwds)\u001b[0m\n\u001b[0;32m    886\u001b[0m compiler \u001b[39m=\u001b[39m \u001b[39m\"\u001b[39m\u001b[39mxla\u001b[39m\u001b[39m\"\u001b[39m \u001b[39mif\u001b[39;00m \u001b[39mself\u001b[39m\u001b[39m.\u001b[39m_jit_compile \u001b[39melse\u001b[39;00m \u001b[39m\"\u001b[39m\u001b[39mnonXla\u001b[39m\u001b[39m\"\u001b[39m\n\u001b[0;32m    888\u001b[0m \u001b[39mwith\u001b[39;00m OptionalXlaContext(\u001b[39mself\u001b[39m\u001b[39m.\u001b[39m_jit_compile):\n\u001b[1;32m--> 889\u001b[0m   result \u001b[39m=\u001b[39m \u001b[39mself\u001b[39m\u001b[39m.\u001b[39m_call(\u001b[39m*\u001b[39margs, \u001b[39m*\u001b[39m\u001b[39m*\u001b[39mkwds)\n\u001b[0;32m    891\u001b[0m new_tracing_count \u001b[39m=\u001b[39m \u001b[39mself\u001b[39m\u001b[39m.\u001b[39mexperimental_get_tracing_count()\n\u001b[0;32m    892\u001b[0m without_tracing \u001b[39m=\u001b[39m (tracing_count \u001b[39m==\u001b[39m new_tracing_count)\n",
      "File \u001b[1;32m~\\AppData\\Local\\Packages\\PythonSoftwareFoundation.Python.3.9_qbz5n2kfra8p0\\LocalCache\\local-packages\\Python39\\site-packages\\tensorflow\\python\\eager\\def_function.py:933\u001b[0m, in \u001b[0;36mFunction._call\u001b[1;34m(self, *args, **kwds)\u001b[0m\n\u001b[0;32m    930\u001b[0m \u001b[39mtry\u001b[39;00m:\n\u001b[0;32m    931\u001b[0m   \u001b[39m# This is the first call of __call__, so we have to initialize.\u001b[39;00m\n\u001b[0;32m    932\u001b[0m   initializers \u001b[39m=\u001b[39m []\n\u001b[1;32m--> 933\u001b[0m   \u001b[39mself\u001b[39;49m\u001b[39m.\u001b[39;49m_initialize(args, kwds, add_initializers_to\u001b[39m=\u001b[39;49minitializers)\n\u001b[0;32m    934\u001b[0m \u001b[39mfinally\u001b[39;00m:\n\u001b[0;32m    935\u001b[0m   \u001b[39m# At this point we know that the initialization is complete (or less\u001b[39;00m\n\u001b[0;32m    936\u001b[0m   \u001b[39m# interestingly an exception was raised) so we no longer need a lock.\u001b[39;00m\n\u001b[0;32m    937\u001b[0m   \u001b[39mself\u001b[39m\u001b[39m.\u001b[39m_lock\u001b[39m.\u001b[39mrelease()\n",
      "File \u001b[1;32m~\\AppData\\Local\\Packages\\PythonSoftwareFoundation.Python.3.9_qbz5n2kfra8p0\\LocalCache\\local-packages\\Python39\\site-packages\\tensorflow\\python\\eager\\def_function.py:763\u001b[0m, in \u001b[0;36mFunction._initialize\u001b[1;34m(self, args, kwds, add_initializers_to)\u001b[0m\n\u001b[0;32m    760\u001b[0m \u001b[39mself\u001b[39m\u001b[39m.\u001b[39m_lifted_initializer_graph \u001b[39m=\u001b[39m lifted_initializer_graph\n\u001b[0;32m    761\u001b[0m \u001b[39mself\u001b[39m\u001b[39m.\u001b[39m_graph_deleter \u001b[39m=\u001b[39m FunctionDeleter(\u001b[39mself\u001b[39m\u001b[39m.\u001b[39m_lifted_initializer_graph)\n\u001b[0;32m    762\u001b[0m \u001b[39mself\u001b[39m\u001b[39m.\u001b[39m_concrete_stateful_fn \u001b[39m=\u001b[39m (\n\u001b[1;32m--> 763\u001b[0m     \u001b[39mself\u001b[39m\u001b[39m.\u001b[39m_stateful_fn\u001b[39m.\u001b[39m_get_concrete_function_internal_garbage_collected(  \u001b[39m# pylint: disable=protected-access\u001b[39;00m\n\u001b[0;32m    764\u001b[0m         \u001b[39m*\u001b[39margs, \u001b[39m*\u001b[39m\u001b[39m*\u001b[39mkwds))\n\u001b[0;32m    766\u001b[0m \u001b[39mdef\u001b[39;00m \u001b[39minvalid_creator_scope\u001b[39m(\u001b[39m*\u001b[39munused_args, \u001b[39m*\u001b[39m\u001b[39m*\u001b[39munused_kwds):\n\u001b[0;32m    767\u001b[0m   \u001b[39m\"\"\"Disables variable creation.\"\"\"\u001b[39;00m\n",
      "File \u001b[1;32m~\\AppData\\Local\\Packages\\PythonSoftwareFoundation.Python.3.9_qbz5n2kfra8p0\\LocalCache\\local-packages\\Python39\\site-packages\\tensorflow\\python\\eager\\function.py:3050\u001b[0m, in \u001b[0;36mFunction._get_concrete_function_internal_garbage_collected\u001b[1;34m(self, *args, **kwargs)\u001b[0m\n\u001b[0;32m   3048\u001b[0m   args, kwargs \u001b[39m=\u001b[39m \u001b[39mNone\u001b[39;00m, \u001b[39mNone\u001b[39;00m\n\u001b[0;32m   3049\u001b[0m \u001b[39mwith\u001b[39;00m \u001b[39mself\u001b[39m\u001b[39m.\u001b[39m_lock:\n\u001b[1;32m-> 3050\u001b[0m   graph_function, _ \u001b[39m=\u001b[39m \u001b[39mself\u001b[39;49m\u001b[39m.\u001b[39;49m_maybe_define_function(args, kwargs)\n\u001b[0;32m   3051\u001b[0m \u001b[39mreturn\u001b[39;00m graph_function\n",
      "File \u001b[1;32m~\\AppData\\Local\\Packages\\PythonSoftwareFoundation.Python.3.9_qbz5n2kfra8p0\\LocalCache\\local-packages\\Python39\\site-packages\\tensorflow\\python\\eager\\function.py:3444\u001b[0m, in \u001b[0;36mFunction._maybe_define_function\u001b[1;34m(self, args, kwargs)\u001b[0m\n\u001b[0;32m   3440\u001b[0m   \u001b[39mreturn\u001b[39;00m \u001b[39mself\u001b[39m\u001b[39m.\u001b[39m_define_function_with_shape_relaxation(\n\u001b[0;32m   3441\u001b[0m       args, kwargs, flat_args, filtered_flat_args, cache_key_context)\n\u001b[0;32m   3443\u001b[0m \u001b[39mself\u001b[39m\u001b[39m.\u001b[39m_function_cache\u001b[39m.\u001b[39mmissed\u001b[39m.\u001b[39madd(call_context_key)\n\u001b[1;32m-> 3444\u001b[0m graph_function \u001b[39m=\u001b[39m \u001b[39mself\u001b[39;49m\u001b[39m.\u001b[39;49m_create_graph_function(args, kwargs)\n\u001b[0;32m   3445\u001b[0m \u001b[39mself\u001b[39m\u001b[39m.\u001b[39m_function_cache\u001b[39m.\u001b[39mprimary[cache_key] \u001b[39m=\u001b[39m graph_function\n\u001b[0;32m   3447\u001b[0m \u001b[39mreturn\u001b[39;00m graph_function, filtered_flat_args\n",
      "File \u001b[1;32m~\\AppData\\Local\\Packages\\PythonSoftwareFoundation.Python.3.9_qbz5n2kfra8p0\\LocalCache\\local-packages\\Python39\\site-packages\\tensorflow\\python\\eager\\function.py:3279\u001b[0m, in \u001b[0;36mFunction._create_graph_function\u001b[1;34m(self, args, kwargs, override_flat_arg_shapes)\u001b[0m\n\u001b[0;32m   3274\u001b[0m missing_arg_names \u001b[39m=\u001b[39m [\n\u001b[0;32m   3275\u001b[0m     \u001b[39m\"\u001b[39m\u001b[39m%s\u001b[39;00m\u001b[39m_\u001b[39m\u001b[39m%d\u001b[39;00m\u001b[39m\"\u001b[39m \u001b[39m%\u001b[39m (arg, i) \u001b[39mfor\u001b[39;00m i, arg \u001b[39min\u001b[39;00m \u001b[39menumerate\u001b[39m(missing_arg_names)\n\u001b[0;32m   3276\u001b[0m ]\n\u001b[0;32m   3277\u001b[0m arg_names \u001b[39m=\u001b[39m base_arg_names \u001b[39m+\u001b[39m missing_arg_names\n\u001b[0;32m   3278\u001b[0m graph_function \u001b[39m=\u001b[39m ConcreteFunction(\n\u001b[1;32m-> 3279\u001b[0m     func_graph_module\u001b[39m.\u001b[39;49mfunc_graph_from_py_func(\n\u001b[0;32m   3280\u001b[0m         \u001b[39mself\u001b[39;49m\u001b[39m.\u001b[39;49m_name,\n\u001b[0;32m   3281\u001b[0m         \u001b[39mself\u001b[39;49m\u001b[39m.\u001b[39;49m_python_function,\n\u001b[0;32m   3282\u001b[0m         args,\n\u001b[0;32m   3283\u001b[0m         kwargs,\n\u001b[0;32m   3284\u001b[0m         \u001b[39mself\u001b[39;49m\u001b[39m.\u001b[39;49minput_signature,\n\u001b[0;32m   3285\u001b[0m         autograph\u001b[39m=\u001b[39;49m\u001b[39mself\u001b[39;49m\u001b[39m.\u001b[39;49m_autograph,\n\u001b[0;32m   3286\u001b[0m         autograph_options\u001b[39m=\u001b[39;49m\u001b[39mself\u001b[39;49m\u001b[39m.\u001b[39;49m_autograph_options,\n\u001b[0;32m   3287\u001b[0m         arg_names\u001b[39m=\u001b[39;49marg_names,\n\u001b[0;32m   3288\u001b[0m         override_flat_arg_shapes\u001b[39m=\u001b[39;49moverride_flat_arg_shapes,\n\u001b[0;32m   3289\u001b[0m         capture_by_value\u001b[39m=\u001b[39;49m\u001b[39mself\u001b[39;49m\u001b[39m.\u001b[39;49m_capture_by_value),\n\u001b[0;32m   3290\u001b[0m     \u001b[39mself\u001b[39m\u001b[39m.\u001b[39m_function_attributes,\n\u001b[0;32m   3291\u001b[0m     function_spec\u001b[39m=\u001b[39m\u001b[39mself\u001b[39m\u001b[39m.\u001b[39mfunction_spec,\n\u001b[0;32m   3292\u001b[0m     \u001b[39m# Tell the ConcreteFunction to clean up its graph once it goes out of\u001b[39;00m\n\u001b[0;32m   3293\u001b[0m     \u001b[39m# scope. This is not the default behavior since it gets used in some\u001b[39;00m\n\u001b[0;32m   3294\u001b[0m     \u001b[39m# places (like Keras) where the FuncGraph lives longer than the\u001b[39;00m\n\u001b[0;32m   3295\u001b[0m     \u001b[39m# ConcreteFunction.\u001b[39;00m\n\u001b[0;32m   3296\u001b[0m     shared_func_graph\u001b[39m=\u001b[39m\u001b[39mFalse\u001b[39;00m)\n\u001b[0;32m   3297\u001b[0m \u001b[39mreturn\u001b[39;00m graph_function\n",
      "File \u001b[1;32m~\\AppData\\Local\\Packages\\PythonSoftwareFoundation.Python.3.9_qbz5n2kfra8p0\\LocalCache\\local-packages\\Python39\\site-packages\\tensorflow\\python\\framework\\func_graph.py:999\u001b[0m, in \u001b[0;36mfunc_graph_from_py_func\u001b[1;34m(name, python_func, args, kwargs, signature, func_graph, autograph, autograph_options, add_control_dependencies, arg_names, op_return_value, collections, capture_by_value, override_flat_arg_shapes)\u001b[0m\n\u001b[0;32m    996\u001b[0m \u001b[39melse\u001b[39;00m:\n\u001b[0;32m    997\u001b[0m   _, original_func \u001b[39m=\u001b[39m tf_decorator\u001b[39m.\u001b[39munwrap(python_func)\n\u001b[1;32m--> 999\u001b[0m func_outputs \u001b[39m=\u001b[39m python_func(\u001b[39m*\u001b[39mfunc_args, \u001b[39m*\u001b[39m\u001b[39m*\u001b[39mfunc_kwargs)\n\u001b[0;32m   1001\u001b[0m \u001b[39m# invariant: `func_outputs` contains only Tensors, CompositeTensors,\u001b[39;00m\n\u001b[0;32m   1002\u001b[0m \u001b[39m# TensorArrays and `None`s.\u001b[39;00m\n\u001b[0;32m   1003\u001b[0m func_outputs \u001b[39m=\u001b[39m nest\u001b[39m.\u001b[39mmap_structure(convert, func_outputs,\n\u001b[0;32m   1004\u001b[0m                                   expand_composites\u001b[39m=\u001b[39m\u001b[39mTrue\u001b[39;00m)\n",
      "File \u001b[1;32m~\\AppData\\Local\\Packages\\PythonSoftwareFoundation.Python.3.9_qbz5n2kfra8p0\\LocalCache\\local-packages\\Python39\\site-packages\\tensorflow\\python\\eager\\def_function.py:672\u001b[0m, in \u001b[0;36mFunction._defun_with_scope.<locals>.wrapped_fn\u001b[1;34m(*args, **kwds)\u001b[0m\n\u001b[0;32m    668\u001b[0m \u001b[39mwith\u001b[39;00m default_graph\u001b[39m.\u001b[39m_variable_creator_scope(scope, priority\u001b[39m=\u001b[39m\u001b[39m50\u001b[39m):  \u001b[39m# pylint: disable=protected-access\u001b[39;00m\n\u001b[0;32m    669\u001b[0m   \u001b[39m# __wrapped__ allows AutoGraph to swap in a converted function. We give\u001b[39;00m\n\u001b[0;32m    670\u001b[0m   \u001b[39m# the function a weak reference to itself to avoid a reference cycle.\u001b[39;00m\n\u001b[0;32m    671\u001b[0m   \u001b[39mwith\u001b[39;00m OptionalXlaContext(compile_with_xla):\n\u001b[1;32m--> 672\u001b[0m     out \u001b[39m=\u001b[39m weak_wrapped_fn()\u001b[39m.\u001b[39m__wrapped__(\u001b[39m*\u001b[39margs, \u001b[39m*\u001b[39m\u001b[39m*\u001b[39mkwds)\n\u001b[0;32m    673\u001b[0m   \u001b[39mreturn\u001b[39;00m out\n",
      "File \u001b[1;32m~\\AppData\\Local\\Packages\\PythonSoftwareFoundation.Python.3.9_qbz5n2kfra8p0\\LocalCache\\local-packages\\Python39\\site-packages\\tensorflow\\python\\framework\\func_graph.py:986\u001b[0m, in \u001b[0;36mfunc_graph_from_py_func.<locals>.wrapper\u001b[1;34m(*args, **kwargs)\u001b[0m\n\u001b[0;32m    984\u001b[0m \u001b[39mexcept\u001b[39;00m \u001b[39mException\u001b[39;00m \u001b[39mas\u001b[39;00m e:  \u001b[39m# pylint:disable=broad-except\u001b[39;00m\n\u001b[0;32m    985\u001b[0m   \u001b[39mif\u001b[39;00m \u001b[39mhasattr\u001b[39m(e, \u001b[39m\"\u001b[39m\u001b[39mag_error_metadata\u001b[39m\u001b[39m\"\u001b[39m):\n\u001b[1;32m--> 986\u001b[0m     \u001b[39mraise\u001b[39;00m e\u001b[39m.\u001b[39mag_error_metadata\u001b[39m.\u001b[39mto_exception(e)\n\u001b[0;32m    987\u001b[0m   \u001b[39melse\u001b[39;00m:\n\u001b[0;32m    988\u001b[0m     \u001b[39mraise\u001b[39;00m\n",
      "\u001b[1;31mValueError\u001b[0m: in user code:\n\n    C:\\Users\\User\\AppData\\Local\\Packages\\PythonSoftwareFoundation.Python.3.9_qbz5n2kfra8p0\\LocalCache\\local-packages\\Python39\\site-packages\\keras\\engine\\training.py:830 train_function  *\n        return step_function(self, iterator)\n    C:\\Users\\User\\AppData\\Local\\Packages\\PythonSoftwareFoundation.Python.3.9_qbz5n2kfra8p0\\LocalCache\\local-packages\\Python39\\site-packages\\keras\\engine\\training.py:813 run_step  *\n        outputs = model.train_step(data)\n    C:\\Users\\User\\AppData\\Local\\Packages\\PythonSoftwareFoundation.Python.3.9_qbz5n2kfra8p0\\LocalCache\\local-packages\\Python39\\site-packages\\keras\\engine\\training.py:770 train_step  *\n        y_pred = self(x, training=True)\n    C:\\Users\\User\\AppData\\Local\\Packages\\PythonSoftwareFoundation.Python.3.9_qbz5n2kfra8p0\\LocalCache\\local-packages\\Python39\\site-packages\\keras\\engine\\base_layer.py:1006 __call__  *\n        outputs = call_fn(inputs, *args, **kwargs)\n    C:\\Users\\User\\AppData\\Local\\Packages\\PythonSoftwareFoundation.Python.3.9_qbz5n2kfra8p0\\LocalCache\\local-packages\\Python39\\site-packages\\keras\\engine\\sequential.py:375 call  *\n        return super(Sequential, self).call(inputs, training=training, mask=mask)\n    C:\\Users\\User\\AppData\\Local\\Packages\\PythonSoftwareFoundation.Python.3.9_qbz5n2kfra8p0\\LocalCache\\local-packages\\Python39\\site-packages\\keras\\engine\\functional.py:416 call  *\n        inputs, training=training, mask=mask)\n    C:\\Users\\User\\AppData\\Local\\Packages\\PythonSoftwareFoundation.Python.3.9_qbz5n2kfra8p0\\LocalCache\\local-packages\\Python39\\site-packages\\keras\\engine\\functional.py:551 _run_internal_graph  *\n        outputs = node.layer(*args, **kwargs)\n    C:\\Users\\User\\AppData\\Local\\Packages\\PythonSoftwareFoundation.Python.3.9_qbz5n2kfra8p0\\LocalCache\\local-packages\\Python39\\site-packages\\keras\\engine\\base_layer.py:1006 __call__  *\n        outputs = call_fn(inputs, *args, **kwargs)\n    C:\\Users\\User\\AppData\\Local\\Packages\\PythonSoftwareFoundation.Python.3.9_qbz5n2kfra8p0\\LocalCache\\local-packages\\Python39\\site-packages\\keras\\engine\\functional.py:1442 call  *\n        return getattr(self._module, self._method_name)(*args, **kwargs)\n    C:\\Users\\User\\AppData\\Local\\Packages\\PythonSoftwareFoundation.Python.3.9_qbz5n2kfra8p0\\LocalCache\\local-packages\\Python39\\site-packages\\tensorflow\\python\\keras\\layers\\recurrent.py:668 __call__  **\n        return super(RNN, self).__call__(inputs, **kwargs)\n    C:\\Users\\User\\AppData\\Local\\Packages\\PythonSoftwareFoundation.Python.3.9_qbz5n2kfra8p0\\LocalCache\\local-packages\\Python39\\site-packages\\tensorflow\\python\\keras\\engine\\base_layer.py:1013 __call__\n        input_spec.assert_input_compatibility(self.input_spec, inputs, self.name)\n    C:\\Users\\User\\AppData\\Local\\Packages\\PythonSoftwareFoundation.Python.3.9_qbz5n2kfra8p0\\LocalCache\\local-packages\\Python39\\site-packages\\tensorflow\\python\\keras\\engine\\input_spec.py:267 assert_input_compatibility\n        raise ValueError('Input ' + str(input_index) +\n\n    ValueError: Input 0 is incompatible with layer lstm: expected shape=(None, None, 2), found shape=(None, 2, 1)\n"
     ]
    }
   ],
   "source": [
    "model1.fit(X_train1, y_train1, validation_data=(X_val1, y_val1), epochs=50, callbacks=[cp1])\n",
    "from tensorflow.keras.models import load_model\n",
    "model1 = load_model('model1/')"
   ]
  },
  {
   "cell_type": "code",
   "execution_count": null,
   "metadata": {},
   "outputs": [],
   "source": [
    "train_predictions = model1.predict(X_train1).flatten()\n",
    "train_results = pd.DataFrame(data={'Train Predictions':train_predictions, 'Actuals':y_train1})"
   ]
  },
  {
   "cell_type": "code",
   "execution_count": null,
   "metadata": {},
   "outputs": [],
   "source": [
    "import matplotlib.pyplot as plt\n",
    "plt.plot(train_results['Train Predictions'][50:100])\n",
    "plt.plot(train_results['Actuals'][50:100])\n",
    "plt.legend(['Actuals','Train Predictions'])\n",
    "plt.show()"
   ]
  },
  {
   "cell_type": "code",
   "execution_count": null,
   "metadata": {},
   "outputs": [],
   "source": [
    "val_predictions = model1.predict(X_val1).flatten()\n",
    "val_results = pd.DataFrame(data={'Val Predictions':val_predictions, 'Actuals':y_val1})\n",
    "val_results"
   ]
  },
  {
   "cell_type": "code",
   "execution_count": null,
   "metadata": {},
   "outputs": [],
   "source": [
    "plt.plot(val_results['Val Predictions'][:100])\n",
    "plt.plot(val_results['Actuals'][:100])\n",
    "plt.legend(['Actuals','Validation Predictions'])"
   ]
  },
  {
   "cell_type": "code",
   "execution_count": 51,
   "metadata": {},
   "outputs": [
    {
     "ename": "ValueError",
     "evalue": "in user code:\n\n    C:\\Users\\User\\AppData\\Local\\Packages\\PythonSoftwareFoundation.Python.3.9_qbz5n2kfra8p0\\LocalCache\\local-packages\\Python39\\site-packages\\tensorflow\\python\\keras\\engine\\training.py:1569 predict_function  *\n        return step_function(self, iterator)\n    C:\\Users\\User\\AppData\\Local\\Packages\\PythonSoftwareFoundation.Python.3.9_qbz5n2kfra8p0\\LocalCache\\local-packages\\Python39\\site-packages\\tensorflow\\python\\keras\\engine\\training.py:1559 step_function  **\n        outputs = model.distribute_strategy.run(run_step, args=(data,))\n    C:\\Users\\User\\AppData\\Local\\Packages\\PythonSoftwareFoundation.Python.3.9_qbz5n2kfra8p0\\LocalCache\\local-packages\\Python39\\site-packages\\tensorflow\\python\\distribute\\distribute_lib.py:1285 run\n        return self._extended.call_for_each_replica(fn, args=args, kwargs=kwargs)\n    C:\\Users\\User\\AppData\\Local\\Packages\\PythonSoftwareFoundation.Python.3.9_qbz5n2kfra8p0\\LocalCache\\local-packages\\Python39\\site-packages\\tensorflow\\python\\distribute\\distribute_lib.py:2833 call_for_each_replica\n        return self._call_for_each_replica(fn, args, kwargs)\n    C:\\Users\\User\\AppData\\Local\\Packages\\PythonSoftwareFoundation.Python.3.9_qbz5n2kfra8p0\\LocalCache\\local-packages\\Python39\\site-packages\\tensorflow\\python\\distribute\\distribute_lib.py:3608 _call_for_each_replica\n        return fn(*args, **kwargs)\n    C:\\Users\\User\\AppData\\Local\\Packages\\PythonSoftwareFoundation.Python.3.9_qbz5n2kfra8p0\\LocalCache\\local-packages\\Python39\\site-packages\\tensorflow\\python\\keras\\engine\\training.py:1552 run_step  **\n        outputs = model.predict_step(data)\n    C:\\Users\\User\\AppData\\Local\\Packages\\PythonSoftwareFoundation.Python.3.9_qbz5n2kfra8p0\\LocalCache\\local-packages\\Python39\\site-packages\\tensorflow\\python\\keras\\engine\\training.py:1525 predict_step\n        return self(x, training=False)\n    C:\\Users\\User\\AppData\\Local\\Packages\\PythonSoftwareFoundation.Python.3.9_qbz5n2kfra8p0\\LocalCache\\local-packages\\Python39\\site-packages\\tensorflow\\python\\keras\\engine\\base_layer.py:1013 __call__\n        input_spec.assert_input_compatibility(self.input_spec, inputs, self.name)\n    C:\\Users\\User\\AppData\\Local\\Packages\\PythonSoftwareFoundation.Python.3.9_qbz5n2kfra8p0\\LocalCache\\local-packages\\Python39\\site-packages\\tensorflow\\python\\keras\\engine\\input_spec.py:267 assert_input_compatibility\n        raise ValueError('Input ' + str(input_index) +\n\n    ValueError: Input 0 is incompatible with layer sequential_2: expected shape=(None, None, 2), found shape=(None, 2, 1)\n",
     "output_type": "error",
     "traceback": [
      "\u001b[1;31m---------------------------------------------------------------------------\u001b[0m",
      "\u001b[1;31mValueError\u001b[0m                                Traceback (most recent call last)",
      "Cell \u001b[1;32mIn [51], line 1\u001b[0m\n\u001b[1;32m----> 1\u001b[0m test_predictions \u001b[39m=\u001b[39m model1\u001b[39m.\u001b[39;49mpredict(X_test1)\u001b[39m.\u001b[39mflatten()\n\u001b[0;32m      2\u001b[0m test_results \u001b[39m=\u001b[39m pd\u001b[39m.\u001b[39mDataFrame(data\u001b[39m=\u001b[39m{\u001b[39m'\u001b[39m\u001b[39mTest Predictions\u001b[39m\u001b[39m'\u001b[39m:test_predictions, \u001b[39m'\u001b[39m\u001b[39mActuals\u001b[39m\u001b[39m'\u001b[39m:y_test1},index\u001b[39m=\u001b[39mdf[\u001b[39m'\u001b[39m\u001b[39mDateTime\u001b[39m\u001b[39m'\u001b[39m][\u001b[39m2437\u001b[39m:]\u001b[39m.\u001b[39mindex)\n\u001b[0;32m      3\u001b[0m test_results\n",
      "File \u001b[1;32m~\\AppData\\Local\\Packages\\PythonSoftwareFoundation.Python.3.9_qbz5n2kfra8p0\\LocalCache\\local-packages\\Python39\\site-packages\\tensorflow\\python\\keras\\engine\\training.py:1727\u001b[0m, in \u001b[0;36mModel.predict\u001b[1;34m(self, x, batch_size, verbose, steps, callbacks, max_queue_size, workers, use_multiprocessing)\u001b[0m\n\u001b[0;32m   1725\u001b[0m \u001b[39mfor\u001b[39;00m step \u001b[39min\u001b[39;00m data_handler\u001b[39m.\u001b[39msteps():\n\u001b[0;32m   1726\u001b[0m   callbacks\u001b[39m.\u001b[39mon_predict_batch_begin(step)\n\u001b[1;32m-> 1727\u001b[0m   tmp_batch_outputs \u001b[39m=\u001b[39m \u001b[39mself\u001b[39;49m\u001b[39m.\u001b[39;49mpredict_function(iterator)\n\u001b[0;32m   1728\u001b[0m   \u001b[39mif\u001b[39;00m data_handler\u001b[39m.\u001b[39mshould_sync:\n\u001b[0;32m   1729\u001b[0m     context\u001b[39m.\u001b[39masync_wait()\n",
      "File \u001b[1;32m~\\AppData\\Local\\Packages\\PythonSoftwareFoundation.Python.3.9_qbz5n2kfra8p0\\LocalCache\\local-packages\\Python39\\site-packages\\tensorflow\\python\\eager\\def_function.py:889\u001b[0m, in \u001b[0;36mFunction.__call__\u001b[1;34m(self, *args, **kwds)\u001b[0m\n\u001b[0;32m    886\u001b[0m compiler \u001b[39m=\u001b[39m \u001b[39m\"\u001b[39m\u001b[39mxla\u001b[39m\u001b[39m\"\u001b[39m \u001b[39mif\u001b[39;00m \u001b[39mself\u001b[39m\u001b[39m.\u001b[39m_jit_compile \u001b[39melse\u001b[39;00m \u001b[39m\"\u001b[39m\u001b[39mnonXla\u001b[39m\u001b[39m\"\u001b[39m\n\u001b[0;32m    888\u001b[0m \u001b[39mwith\u001b[39;00m OptionalXlaContext(\u001b[39mself\u001b[39m\u001b[39m.\u001b[39m_jit_compile):\n\u001b[1;32m--> 889\u001b[0m   result \u001b[39m=\u001b[39m \u001b[39mself\u001b[39m\u001b[39m.\u001b[39m_call(\u001b[39m*\u001b[39margs, \u001b[39m*\u001b[39m\u001b[39m*\u001b[39mkwds)\n\u001b[0;32m    891\u001b[0m new_tracing_count \u001b[39m=\u001b[39m \u001b[39mself\u001b[39m\u001b[39m.\u001b[39mexperimental_get_tracing_count()\n\u001b[0;32m    892\u001b[0m without_tracing \u001b[39m=\u001b[39m (tracing_count \u001b[39m==\u001b[39m new_tracing_count)\n",
      "File \u001b[1;32m~\\AppData\\Local\\Packages\\PythonSoftwareFoundation.Python.3.9_qbz5n2kfra8p0\\LocalCache\\local-packages\\Python39\\site-packages\\tensorflow\\python\\eager\\def_function.py:933\u001b[0m, in \u001b[0;36mFunction._call\u001b[1;34m(self, *args, **kwds)\u001b[0m\n\u001b[0;32m    930\u001b[0m \u001b[39mtry\u001b[39;00m:\n\u001b[0;32m    931\u001b[0m   \u001b[39m# This is the first call of __call__, so we have to initialize.\u001b[39;00m\n\u001b[0;32m    932\u001b[0m   initializers \u001b[39m=\u001b[39m []\n\u001b[1;32m--> 933\u001b[0m   \u001b[39mself\u001b[39;49m\u001b[39m.\u001b[39;49m_initialize(args, kwds, add_initializers_to\u001b[39m=\u001b[39;49minitializers)\n\u001b[0;32m    934\u001b[0m \u001b[39mfinally\u001b[39;00m:\n\u001b[0;32m    935\u001b[0m   \u001b[39m# At this point we know that the initialization is complete (or less\u001b[39;00m\n\u001b[0;32m    936\u001b[0m   \u001b[39m# interestingly an exception was raised) so we no longer need a lock.\u001b[39;00m\n\u001b[0;32m    937\u001b[0m   \u001b[39mself\u001b[39m\u001b[39m.\u001b[39m_lock\u001b[39m.\u001b[39mrelease()\n",
      "File \u001b[1;32m~\\AppData\\Local\\Packages\\PythonSoftwareFoundation.Python.3.9_qbz5n2kfra8p0\\LocalCache\\local-packages\\Python39\\site-packages\\tensorflow\\python\\eager\\def_function.py:763\u001b[0m, in \u001b[0;36mFunction._initialize\u001b[1;34m(self, args, kwds, add_initializers_to)\u001b[0m\n\u001b[0;32m    760\u001b[0m \u001b[39mself\u001b[39m\u001b[39m.\u001b[39m_lifted_initializer_graph \u001b[39m=\u001b[39m lifted_initializer_graph\n\u001b[0;32m    761\u001b[0m \u001b[39mself\u001b[39m\u001b[39m.\u001b[39m_graph_deleter \u001b[39m=\u001b[39m FunctionDeleter(\u001b[39mself\u001b[39m\u001b[39m.\u001b[39m_lifted_initializer_graph)\n\u001b[0;32m    762\u001b[0m \u001b[39mself\u001b[39m\u001b[39m.\u001b[39m_concrete_stateful_fn \u001b[39m=\u001b[39m (\n\u001b[1;32m--> 763\u001b[0m     \u001b[39mself\u001b[39m\u001b[39m.\u001b[39m_stateful_fn\u001b[39m.\u001b[39m_get_concrete_function_internal_garbage_collected(  \u001b[39m# pylint: disable=protected-access\u001b[39;00m\n\u001b[0;32m    764\u001b[0m         \u001b[39m*\u001b[39margs, \u001b[39m*\u001b[39m\u001b[39m*\u001b[39mkwds))\n\u001b[0;32m    766\u001b[0m \u001b[39mdef\u001b[39;00m \u001b[39minvalid_creator_scope\u001b[39m(\u001b[39m*\u001b[39munused_args, \u001b[39m*\u001b[39m\u001b[39m*\u001b[39munused_kwds):\n\u001b[0;32m    767\u001b[0m   \u001b[39m\"\"\"Disables variable creation.\"\"\"\u001b[39;00m\n",
      "File \u001b[1;32m~\\AppData\\Local\\Packages\\PythonSoftwareFoundation.Python.3.9_qbz5n2kfra8p0\\LocalCache\\local-packages\\Python39\\site-packages\\tensorflow\\python\\eager\\function.py:3050\u001b[0m, in \u001b[0;36mFunction._get_concrete_function_internal_garbage_collected\u001b[1;34m(self, *args, **kwargs)\u001b[0m\n\u001b[0;32m   3048\u001b[0m   args, kwargs \u001b[39m=\u001b[39m \u001b[39mNone\u001b[39;00m, \u001b[39mNone\u001b[39;00m\n\u001b[0;32m   3049\u001b[0m \u001b[39mwith\u001b[39;00m \u001b[39mself\u001b[39m\u001b[39m.\u001b[39m_lock:\n\u001b[1;32m-> 3050\u001b[0m   graph_function, _ \u001b[39m=\u001b[39m \u001b[39mself\u001b[39;49m\u001b[39m.\u001b[39;49m_maybe_define_function(args, kwargs)\n\u001b[0;32m   3051\u001b[0m \u001b[39mreturn\u001b[39;00m graph_function\n",
      "File \u001b[1;32m~\\AppData\\Local\\Packages\\PythonSoftwareFoundation.Python.3.9_qbz5n2kfra8p0\\LocalCache\\local-packages\\Python39\\site-packages\\tensorflow\\python\\eager\\function.py:3444\u001b[0m, in \u001b[0;36mFunction._maybe_define_function\u001b[1;34m(self, args, kwargs)\u001b[0m\n\u001b[0;32m   3440\u001b[0m   \u001b[39mreturn\u001b[39;00m \u001b[39mself\u001b[39m\u001b[39m.\u001b[39m_define_function_with_shape_relaxation(\n\u001b[0;32m   3441\u001b[0m       args, kwargs, flat_args, filtered_flat_args, cache_key_context)\n\u001b[0;32m   3443\u001b[0m \u001b[39mself\u001b[39m\u001b[39m.\u001b[39m_function_cache\u001b[39m.\u001b[39mmissed\u001b[39m.\u001b[39madd(call_context_key)\n\u001b[1;32m-> 3444\u001b[0m graph_function \u001b[39m=\u001b[39m \u001b[39mself\u001b[39;49m\u001b[39m.\u001b[39;49m_create_graph_function(args, kwargs)\n\u001b[0;32m   3445\u001b[0m \u001b[39mself\u001b[39m\u001b[39m.\u001b[39m_function_cache\u001b[39m.\u001b[39mprimary[cache_key] \u001b[39m=\u001b[39m graph_function\n\u001b[0;32m   3447\u001b[0m \u001b[39mreturn\u001b[39;00m graph_function, filtered_flat_args\n",
      "File \u001b[1;32m~\\AppData\\Local\\Packages\\PythonSoftwareFoundation.Python.3.9_qbz5n2kfra8p0\\LocalCache\\local-packages\\Python39\\site-packages\\tensorflow\\python\\eager\\function.py:3279\u001b[0m, in \u001b[0;36mFunction._create_graph_function\u001b[1;34m(self, args, kwargs, override_flat_arg_shapes)\u001b[0m\n\u001b[0;32m   3274\u001b[0m missing_arg_names \u001b[39m=\u001b[39m [\n\u001b[0;32m   3275\u001b[0m     \u001b[39m\"\u001b[39m\u001b[39m%s\u001b[39;00m\u001b[39m_\u001b[39m\u001b[39m%d\u001b[39;00m\u001b[39m\"\u001b[39m \u001b[39m%\u001b[39m (arg, i) \u001b[39mfor\u001b[39;00m i, arg \u001b[39min\u001b[39;00m \u001b[39menumerate\u001b[39m(missing_arg_names)\n\u001b[0;32m   3276\u001b[0m ]\n\u001b[0;32m   3277\u001b[0m arg_names \u001b[39m=\u001b[39m base_arg_names \u001b[39m+\u001b[39m missing_arg_names\n\u001b[0;32m   3278\u001b[0m graph_function \u001b[39m=\u001b[39m ConcreteFunction(\n\u001b[1;32m-> 3279\u001b[0m     func_graph_module\u001b[39m.\u001b[39;49mfunc_graph_from_py_func(\n\u001b[0;32m   3280\u001b[0m         \u001b[39mself\u001b[39;49m\u001b[39m.\u001b[39;49m_name,\n\u001b[0;32m   3281\u001b[0m         \u001b[39mself\u001b[39;49m\u001b[39m.\u001b[39;49m_python_function,\n\u001b[0;32m   3282\u001b[0m         args,\n\u001b[0;32m   3283\u001b[0m         kwargs,\n\u001b[0;32m   3284\u001b[0m         \u001b[39mself\u001b[39;49m\u001b[39m.\u001b[39;49minput_signature,\n\u001b[0;32m   3285\u001b[0m         autograph\u001b[39m=\u001b[39;49m\u001b[39mself\u001b[39;49m\u001b[39m.\u001b[39;49m_autograph,\n\u001b[0;32m   3286\u001b[0m         autograph_options\u001b[39m=\u001b[39;49m\u001b[39mself\u001b[39;49m\u001b[39m.\u001b[39;49m_autograph_options,\n\u001b[0;32m   3287\u001b[0m         arg_names\u001b[39m=\u001b[39;49marg_names,\n\u001b[0;32m   3288\u001b[0m         override_flat_arg_shapes\u001b[39m=\u001b[39;49moverride_flat_arg_shapes,\n\u001b[0;32m   3289\u001b[0m         capture_by_value\u001b[39m=\u001b[39;49m\u001b[39mself\u001b[39;49m\u001b[39m.\u001b[39;49m_capture_by_value),\n\u001b[0;32m   3290\u001b[0m     \u001b[39mself\u001b[39m\u001b[39m.\u001b[39m_function_attributes,\n\u001b[0;32m   3291\u001b[0m     function_spec\u001b[39m=\u001b[39m\u001b[39mself\u001b[39m\u001b[39m.\u001b[39mfunction_spec,\n\u001b[0;32m   3292\u001b[0m     \u001b[39m# Tell the ConcreteFunction to clean up its graph once it goes out of\u001b[39;00m\n\u001b[0;32m   3293\u001b[0m     \u001b[39m# scope. This is not the default behavior since it gets used in some\u001b[39;00m\n\u001b[0;32m   3294\u001b[0m     \u001b[39m# places (like Keras) where the FuncGraph lives longer than the\u001b[39;00m\n\u001b[0;32m   3295\u001b[0m     \u001b[39m# ConcreteFunction.\u001b[39;00m\n\u001b[0;32m   3296\u001b[0m     shared_func_graph\u001b[39m=\u001b[39m\u001b[39mFalse\u001b[39;00m)\n\u001b[0;32m   3297\u001b[0m \u001b[39mreturn\u001b[39;00m graph_function\n",
      "File \u001b[1;32m~\\AppData\\Local\\Packages\\PythonSoftwareFoundation.Python.3.9_qbz5n2kfra8p0\\LocalCache\\local-packages\\Python39\\site-packages\\tensorflow\\python\\framework\\func_graph.py:999\u001b[0m, in \u001b[0;36mfunc_graph_from_py_func\u001b[1;34m(name, python_func, args, kwargs, signature, func_graph, autograph, autograph_options, add_control_dependencies, arg_names, op_return_value, collections, capture_by_value, override_flat_arg_shapes)\u001b[0m\n\u001b[0;32m    996\u001b[0m \u001b[39melse\u001b[39;00m:\n\u001b[0;32m    997\u001b[0m   _, original_func \u001b[39m=\u001b[39m tf_decorator\u001b[39m.\u001b[39munwrap(python_func)\n\u001b[1;32m--> 999\u001b[0m func_outputs \u001b[39m=\u001b[39m python_func(\u001b[39m*\u001b[39mfunc_args, \u001b[39m*\u001b[39m\u001b[39m*\u001b[39mfunc_kwargs)\n\u001b[0;32m   1001\u001b[0m \u001b[39m# invariant: `func_outputs` contains only Tensors, CompositeTensors,\u001b[39;00m\n\u001b[0;32m   1002\u001b[0m \u001b[39m# TensorArrays and `None`s.\u001b[39;00m\n\u001b[0;32m   1003\u001b[0m func_outputs \u001b[39m=\u001b[39m nest\u001b[39m.\u001b[39mmap_structure(convert, func_outputs,\n\u001b[0;32m   1004\u001b[0m                                   expand_composites\u001b[39m=\u001b[39m\u001b[39mTrue\u001b[39;00m)\n",
      "File \u001b[1;32m~\\AppData\\Local\\Packages\\PythonSoftwareFoundation.Python.3.9_qbz5n2kfra8p0\\LocalCache\\local-packages\\Python39\\site-packages\\tensorflow\\python\\eager\\def_function.py:672\u001b[0m, in \u001b[0;36mFunction._defun_with_scope.<locals>.wrapped_fn\u001b[1;34m(*args, **kwds)\u001b[0m\n\u001b[0;32m    668\u001b[0m \u001b[39mwith\u001b[39;00m default_graph\u001b[39m.\u001b[39m_variable_creator_scope(scope, priority\u001b[39m=\u001b[39m\u001b[39m50\u001b[39m):  \u001b[39m# pylint: disable=protected-access\u001b[39;00m\n\u001b[0;32m    669\u001b[0m   \u001b[39m# __wrapped__ allows AutoGraph to swap in a converted function. We give\u001b[39;00m\n\u001b[0;32m    670\u001b[0m   \u001b[39m# the function a weak reference to itself to avoid a reference cycle.\u001b[39;00m\n\u001b[0;32m    671\u001b[0m   \u001b[39mwith\u001b[39;00m OptionalXlaContext(compile_with_xla):\n\u001b[1;32m--> 672\u001b[0m     out \u001b[39m=\u001b[39m weak_wrapped_fn()\u001b[39m.\u001b[39m__wrapped__(\u001b[39m*\u001b[39margs, \u001b[39m*\u001b[39m\u001b[39m*\u001b[39mkwds)\n\u001b[0;32m    673\u001b[0m   \u001b[39mreturn\u001b[39;00m out\n",
      "File \u001b[1;32m~\\AppData\\Local\\Packages\\PythonSoftwareFoundation.Python.3.9_qbz5n2kfra8p0\\LocalCache\\local-packages\\Python39\\site-packages\\tensorflow\\python\\framework\\func_graph.py:986\u001b[0m, in \u001b[0;36mfunc_graph_from_py_func.<locals>.wrapper\u001b[1;34m(*args, **kwargs)\u001b[0m\n\u001b[0;32m    984\u001b[0m \u001b[39mexcept\u001b[39;00m \u001b[39mException\u001b[39;00m \u001b[39mas\u001b[39;00m e:  \u001b[39m# pylint:disable=broad-except\u001b[39;00m\n\u001b[0;32m    985\u001b[0m   \u001b[39mif\u001b[39;00m \u001b[39mhasattr\u001b[39m(e, \u001b[39m\"\u001b[39m\u001b[39mag_error_metadata\u001b[39m\u001b[39m\"\u001b[39m):\n\u001b[1;32m--> 986\u001b[0m     \u001b[39mraise\u001b[39;00m e\u001b[39m.\u001b[39mag_error_metadata\u001b[39m.\u001b[39mto_exception(e)\n\u001b[0;32m    987\u001b[0m   \u001b[39melse\u001b[39;00m:\n\u001b[0;32m    988\u001b[0m     \u001b[39mraise\u001b[39;00m\n",
      "\u001b[1;31mValueError\u001b[0m: in user code:\n\n    C:\\Users\\User\\AppData\\Local\\Packages\\PythonSoftwareFoundation.Python.3.9_qbz5n2kfra8p0\\LocalCache\\local-packages\\Python39\\site-packages\\tensorflow\\python\\keras\\engine\\training.py:1569 predict_function  *\n        return step_function(self, iterator)\n    C:\\Users\\User\\AppData\\Local\\Packages\\PythonSoftwareFoundation.Python.3.9_qbz5n2kfra8p0\\LocalCache\\local-packages\\Python39\\site-packages\\tensorflow\\python\\keras\\engine\\training.py:1559 step_function  **\n        outputs = model.distribute_strategy.run(run_step, args=(data,))\n    C:\\Users\\User\\AppData\\Local\\Packages\\PythonSoftwareFoundation.Python.3.9_qbz5n2kfra8p0\\LocalCache\\local-packages\\Python39\\site-packages\\tensorflow\\python\\distribute\\distribute_lib.py:1285 run\n        return self._extended.call_for_each_replica(fn, args=args, kwargs=kwargs)\n    C:\\Users\\User\\AppData\\Local\\Packages\\PythonSoftwareFoundation.Python.3.9_qbz5n2kfra8p0\\LocalCache\\local-packages\\Python39\\site-packages\\tensorflow\\python\\distribute\\distribute_lib.py:2833 call_for_each_replica\n        return self._call_for_each_replica(fn, args, kwargs)\n    C:\\Users\\User\\AppData\\Local\\Packages\\PythonSoftwareFoundation.Python.3.9_qbz5n2kfra8p0\\LocalCache\\local-packages\\Python39\\site-packages\\tensorflow\\python\\distribute\\distribute_lib.py:3608 _call_for_each_replica\n        return fn(*args, **kwargs)\n    C:\\Users\\User\\AppData\\Local\\Packages\\PythonSoftwareFoundation.Python.3.9_qbz5n2kfra8p0\\LocalCache\\local-packages\\Python39\\site-packages\\tensorflow\\python\\keras\\engine\\training.py:1552 run_step  **\n        outputs = model.predict_step(data)\n    C:\\Users\\User\\AppData\\Local\\Packages\\PythonSoftwareFoundation.Python.3.9_qbz5n2kfra8p0\\LocalCache\\local-packages\\Python39\\site-packages\\tensorflow\\python\\keras\\engine\\training.py:1525 predict_step\n        return self(x, training=False)\n    C:\\Users\\User\\AppData\\Local\\Packages\\PythonSoftwareFoundation.Python.3.9_qbz5n2kfra8p0\\LocalCache\\local-packages\\Python39\\site-packages\\tensorflow\\python\\keras\\engine\\base_layer.py:1013 __call__\n        input_spec.assert_input_compatibility(self.input_spec, inputs, self.name)\n    C:\\Users\\User\\AppData\\Local\\Packages\\PythonSoftwareFoundation.Python.3.9_qbz5n2kfra8p0\\LocalCache\\local-packages\\Python39\\site-packages\\tensorflow\\python\\keras\\engine\\input_spec.py:267 assert_input_compatibility\n        raise ValueError('Input ' + str(input_index) +\n\n    ValueError: Input 0 is incompatible with layer sequential_2: expected shape=(None, None, 2), found shape=(None, 2, 1)\n"
     ]
    }
   ],
   "source": [
    "test_predictions = model1.predict(X_test1).flatten()\n",
    "test_results = pd.DataFrame(data={'Test Predictions':test_predictions, 'Actuals':y_test1},index=df['DateTime'][2437:].index)\n",
    "test_results"
   ]
  },
  {
   "cell_type": "code",
   "execution_count": null,
   "metadata": {},
   "outputs": [],
   "source": [
    "plt.plot(test_results['Test Predictions'][:100])\n",
    "plt.plot(test_results['Actuals'][:100])\n",
    "plt.legend(['Actuals','Test Predictions'])"
   ]
  },
  {
   "cell_type": "code",
   "execution_count": 55,
   "metadata": {},
   "outputs": [],
   "source": [
    "from sklearn.metrics import mean_squared_error as mse\n",
    "from sklearn.metrics import r2_score as r2\n",
    "from sklearn.metrics import mean_absolute_percentage_error as mape\n",
    "\n",
    "def plot_predictions1(model, X, y, start=0, end=100):\n",
    "  predictions = model.predict(X).flatten()\n",
    "  df = pd.DataFrame(data={'Predictions':predictions, 'Actuals':y})\n",
    "  plt.plot(df['Predictions'][start:end])\n",
    "  plt.plot(df['Actuals'][start:end])\n",
    "  plt.legend(['Actuals','Test Predictions'])\n",
    "  return df, mse(y, predictions), r2(y,predictions), mape (y,predictions)\n",
    "\n",
    "#plot_predictions1(model1, X_test1, y_test1)"
   ]
  },
  {
   "cell_type": "code",
   "execution_count": 37,
   "metadata": {},
   "outputs": [
    {
     "data": {
      "text/plain": [
       "DateTime\n",
       "2020-08-02 00:00:00    0.056684\n",
       "2020-08-02 01:00:00    0.059487\n",
       "2020-08-02 02:00:00    0.052799\n",
       "2020-08-02 03:00:00    0.055698\n",
       "2020-08-02 04:00:00    0.052330\n",
       "Name: Combined Active Power in MW, dtype: float64"
      ]
     },
     "execution_count": 37,
     "metadata": {},
     "output_type": "execute_result"
    }
   ],
   "source": [
    "target.head()"
   ]
  },
  {
   "cell_type": "code",
   "execution_count": 38,
   "metadata": {},
   "outputs": [
    {
     "data": {
      "text/html": [
       "<div>\n",
       "<style scoped>\n",
       "    .dataframe tbody tr th:only-of-type {\n",
       "        vertical-align: middle;\n",
       "    }\n",
       "\n",
       "    .dataframe tbody tr th {\n",
       "        vertical-align: top;\n",
       "    }\n",
       "\n",
       "    .dataframe thead th {\n",
       "        text-align: right;\n",
       "    }\n",
       "</style>\n",
       "<table border=\"1\" class=\"dataframe\">\n",
       "  <thead>\n",
       "    <tr style=\"text-align: right;\">\n",
       "      <th></th>\n",
       "      <th>Power</th>\n",
       "      <th>Avg Temp</th>\n",
       "      <th>High Temp</th>\n",
       "      <th>Low Temp</th>\n",
       "      <th>Seconds</th>\n",
       "    </tr>\n",
       "    <tr>\n",
       "      <th>DateTime</th>\n",
       "      <th></th>\n",
       "      <th></th>\n",
       "      <th></th>\n",
       "      <th></th>\n",
       "      <th></th>\n",
       "    </tr>\n",
       "  </thead>\n",
       "  <tbody>\n",
       "    <tr>\n",
       "      <th>2020-08-02 00:00:00</th>\n",
       "      <td>0.056684</td>\n",
       "      <td>28.7</td>\n",
       "      <td>29.6</td>\n",
       "      <td>27.6</td>\n",
       "      <td>1.596326e+09</td>\n",
       "    </tr>\n",
       "    <tr>\n",
       "      <th>2020-08-02 01:00:00</th>\n",
       "      <td>0.059487</td>\n",
       "      <td>26.0</td>\n",
       "      <td>27.4</td>\n",
       "      <td>25.2</td>\n",
       "      <td>1.596330e+09</td>\n",
       "    </tr>\n",
       "    <tr>\n",
       "      <th>2020-08-02 02:00:00</th>\n",
       "      <td>0.052799</td>\n",
       "      <td>25.9</td>\n",
       "      <td>26.9</td>\n",
       "      <td>25.1</td>\n",
       "      <td>1.596334e+09</td>\n",
       "    </tr>\n",
       "    <tr>\n",
       "      <th>2020-08-02 03:00:00</th>\n",
       "      <td>0.055698</td>\n",
       "      <td>25.3</td>\n",
       "      <td>26.4</td>\n",
       "      <td>24.4</td>\n",
       "      <td>1.596337e+09</td>\n",
       "    </tr>\n",
       "    <tr>\n",
       "      <th>2020-08-02 04:00:00</th>\n",
       "      <td>0.052330</td>\n",
       "      <td>24.7</td>\n",
       "      <td>26.3</td>\n",
       "      <td>24.1</td>\n",
       "      <td>1.596341e+09</td>\n",
       "    </tr>\n",
       "    <tr>\n",
       "      <th>...</th>\n",
       "      <td>...</td>\n",
       "      <td>...</td>\n",
       "      <td>...</td>\n",
       "      <td>...</td>\n",
       "      <td>...</td>\n",
       "    </tr>\n",
       "    <tr>\n",
       "      <th>2020-11-30 19:00:00</th>\n",
       "      <td>0.052057</td>\n",
       "      <td>14.4</td>\n",
       "      <td>15.1</td>\n",
       "      <td>14.1</td>\n",
       "      <td>1.606763e+09</td>\n",
       "    </tr>\n",
       "    <tr>\n",
       "      <th>2020-11-30 20:00:00</th>\n",
       "      <td>0.044937</td>\n",
       "      <td>13.7</td>\n",
       "      <td>14.2</td>\n",
       "      <td>13.3</td>\n",
       "      <td>1.606766e+09</td>\n",
       "    </tr>\n",
       "    <tr>\n",
       "      <th>2020-11-30 21:00:00</th>\n",
       "      <td>0.048803</td>\n",
       "      <td>13.4</td>\n",
       "      <td>13.7</td>\n",
       "      <td>13.2</td>\n",
       "      <td>1.606770e+09</td>\n",
       "    </tr>\n",
       "    <tr>\n",
       "      <th>2020-11-30 22:00:00</th>\n",
       "      <td>0.049585</td>\n",
       "      <td>13.2</td>\n",
       "      <td>13.7</td>\n",
       "      <td>12.7</td>\n",
       "      <td>1.606774e+09</td>\n",
       "    </tr>\n",
       "    <tr>\n",
       "      <th>2020-11-30 23:00:00</th>\n",
       "      <td>0.046653</td>\n",
       "      <td>12.8</td>\n",
       "      <td>13.4</td>\n",
       "      <td>12.6</td>\n",
       "      <td>1.606777e+09</td>\n",
       "    </tr>\n",
       "  </tbody>\n",
       "</table>\n",
       "<p>2878 rows × 5 columns</p>\n",
       "</div>"
      ],
      "text/plain": [
       "                        Power  Avg Temp  High Temp  Low Temp       Seconds\n",
       "DateTime                                                                  \n",
       "2020-08-02 00:00:00  0.056684      28.7       29.6      27.6  1.596326e+09\n",
       "2020-08-02 01:00:00  0.059487      26.0       27.4      25.2  1.596330e+09\n",
       "2020-08-02 02:00:00  0.052799      25.9       26.9      25.1  1.596334e+09\n",
       "2020-08-02 03:00:00  0.055698      25.3       26.4      24.4  1.596337e+09\n",
       "2020-08-02 04:00:00  0.052330      24.7       26.3      24.1  1.596341e+09\n",
       "...                       ...       ...        ...       ...           ...\n",
       "2020-11-30 19:00:00  0.052057      14.4       15.1      14.1  1.606763e+09\n",
       "2020-11-30 20:00:00  0.044937      13.7       14.2      13.3  1.606766e+09\n",
       "2020-11-30 21:00:00  0.048803      13.4       13.7      13.2  1.606770e+09\n",
       "2020-11-30 22:00:00  0.049585      13.2       13.7      12.7  1.606774e+09\n",
       "2020-11-30 23:00:00  0.046653      12.8       13.4      12.6  1.606777e+09\n",
       "\n",
       "[2878 rows x 5 columns]"
      ]
     },
     "execution_count": 38,
     "metadata": {},
     "output_type": "execute_result"
    }
   ],
   "source": [
    "temp_df = pd.DataFrame({'Power':target,\"Avg Temp\":df[\"Temp\"],\"High Temp\":df['Hi'],\"Low Temp\":df[\"Low\"]})\n",
    "temp_df['Seconds'] = temp_df.index.map(pd.Timestamp.timestamp)\n",
    "temp_df"
   ]
  },
  {
   "cell_type": "code",
   "execution_count": 39,
   "metadata": {},
   "outputs": [
    {
     "data": {
      "text/html": [
       "<div>\n",
       "<style scoped>\n",
       "    .dataframe tbody tr th:only-of-type {\n",
       "        vertical-align: middle;\n",
       "    }\n",
       "\n",
       "    .dataframe tbody tr th {\n",
       "        vertical-align: top;\n",
       "    }\n",
       "\n",
       "    .dataframe thead th {\n",
       "        text-align: right;\n",
       "    }\n",
       "</style>\n",
       "<table border=\"1\" class=\"dataframe\">\n",
       "  <thead>\n",
       "    <tr style=\"text-align: right;\">\n",
       "      <th></th>\n",
       "      <th>Power</th>\n",
       "      <th>Avg Temp</th>\n",
       "      <th>High Temp</th>\n",
       "      <th>Low Temp</th>\n",
       "      <th>Seconds</th>\n",
       "      <th>Day sin</th>\n",
       "      <th>Day cos</th>\n",
       "      <th>Month sin</th>\n",
       "      <th>Month cos</th>\n",
       "    </tr>\n",
       "    <tr>\n",
       "      <th>DateTime</th>\n",
       "      <th></th>\n",
       "      <th></th>\n",
       "      <th></th>\n",
       "      <th></th>\n",
       "      <th></th>\n",
       "      <th></th>\n",
       "      <th></th>\n",
       "      <th></th>\n",
       "      <th></th>\n",
       "    </tr>\n",
       "  </thead>\n",
       "  <tbody>\n",
       "    <tr>\n",
       "      <th>2020-08-02 00:00:00</th>\n",
       "      <td>0.056684</td>\n",
       "      <td>28.7</td>\n",
       "      <td>29.6</td>\n",
       "      <td>27.6</td>\n",
       "      <td>1.596326e+09</td>\n",
       "      <td>-4.553737e-12</td>\n",
       "      <td>1.000000</td>\n",
       "      <td>-0.743145</td>\n",
       "      <td>0.669131</td>\n",
       "    </tr>\n",
       "    <tr>\n",
       "      <th>2020-08-02 01:00:00</th>\n",
       "      <td>0.059487</td>\n",
       "      <td>26.0</td>\n",
       "      <td>27.4</td>\n",
       "      <td>25.2</td>\n",
       "      <td>1.596330e+09</td>\n",
       "      <td>2.588190e-01</td>\n",
       "      <td>0.965926</td>\n",
       "      <td>-0.737277</td>\n",
       "      <td>0.675590</td>\n",
       "    </tr>\n",
       "    <tr>\n",
       "      <th>2020-08-02 02:00:00</th>\n",
       "      <td>0.052799</td>\n",
       "      <td>25.9</td>\n",
       "      <td>26.9</td>\n",
       "      <td>25.1</td>\n",
       "      <td>1.596334e+09</td>\n",
       "      <td>5.000000e-01</td>\n",
       "      <td>0.866025</td>\n",
       "      <td>-0.731354</td>\n",
       "      <td>0.681998</td>\n",
       "    </tr>\n",
       "    <tr>\n",
       "      <th>2020-08-02 03:00:00</th>\n",
       "      <td>0.055698</td>\n",
       "      <td>25.3</td>\n",
       "      <td>26.4</td>\n",
       "      <td>24.4</td>\n",
       "      <td>1.596337e+09</td>\n",
       "      <td>7.071068e-01</td>\n",
       "      <td>0.707107</td>\n",
       "      <td>-0.725374</td>\n",
       "      <td>0.688355</td>\n",
       "    </tr>\n",
       "    <tr>\n",
       "      <th>2020-08-02 04:00:00</th>\n",
       "      <td>0.052330</td>\n",
       "      <td>24.7</td>\n",
       "      <td>26.3</td>\n",
       "      <td>24.1</td>\n",
       "      <td>1.596341e+09</td>\n",
       "      <td>8.660254e-01</td>\n",
       "      <td>0.500000</td>\n",
       "      <td>-0.719340</td>\n",
       "      <td>0.694658</td>\n",
       "    </tr>\n",
       "    <tr>\n",
       "      <th>...</th>\n",
       "      <td>...</td>\n",
       "      <td>...</td>\n",
       "      <td>...</td>\n",
       "      <td>...</td>\n",
       "      <td>...</td>\n",
       "      <td>...</td>\n",
       "      <td>...</td>\n",
       "      <td>...</td>\n",
       "      <td>...</td>\n",
       "    </tr>\n",
       "    <tr>\n",
       "      <th>2020-11-30 19:00:00</th>\n",
       "      <td>0.052057</td>\n",
       "      <td>14.4</td>\n",
       "      <td>15.1</td>\n",
       "      <td>14.1</td>\n",
       "      <td>1.606763e+09</td>\n",
       "      <td>-9.659258e-01</td>\n",
       "      <td>0.258819</td>\n",
       "      <td>-0.622515</td>\n",
       "      <td>0.782608</td>\n",
       "    </tr>\n",
       "    <tr>\n",
       "      <th>2020-11-30 20:00:00</th>\n",
       "      <td>0.044937</td>\n",
       "      <td>13.7</td>\n",
       "      <td>14.2</td>\n",
       "      <td>13.3</td>\n",
       "      <td>1.606766e+09</td>\n",
       "      <td>-8.660254e-01</td>\n",
       "      <td>0.500000</td>\n",
       "      <td>-0.615661</td>\n",
       "      <td>0.788011</td>\n",
       "    </tr>\n",
       "    <tr>\n",
       "      <th>2020-11-30 21:00:00</th>\n",
       "      <td>0.048803</td>\n",
       "      <td>13.4</td>\n",
       "      <td>13.7</td>\n",
       "      <td>13.2</td>\n",
       "      <td>1.606770e+09</td>\n",
       "      <td>-7.071068e-01</td>\n",
       "      <td>0.707107</td>\n",
       "      <td>-0.608761</td>\n",
       "      <td>0.793353</td>\n",
       "    </tr>\n",
       "    <tr>\n",
       "      <th>2020-11-30 22:00:00</th>\n",
       "      <td>0.049585</td>\n",
       "      <td>13.2</td>\n",
       "      <td>13.7</td>\n",
       "      <td>12.7</td>\n",
       "      <td>1.606774e+09</td>\n",
       "      <td>-5.000000e-01</td>\n",
       "      <td>0.866025</td>\n",
       "      <td>-0.601815</td>\n",
       "      <td>0.798636</td>\n",
       "    </tr>\n",
       "    <tr>\n",
       "      <th>2020-11-30 23:00:00</th>\n",
       "      <td>0.046653</td>\n",
       "      <td>12.8</td>\n",
       "      <td>13.4</td>\n",
       "      <td>12.6</td>\n",
       "      <td>1.606777e+09</td>\n",
       "      <td>-2.588190e-01</td>\n",
       "      <td>0.965926</td>\n",
       "      <td>-0.594823</td>\n",
       "      <td>0.803857</td>\n",
       "    </tr>\n",
       "  </tbody>\n",
       "</table>\n",
       "<p>2878 rows × 9 columns</p>\n",
       "</div>"
      ],
      "text/plain": [
       "                        Power  Avg Temp  High Temp  Low Temp       Seconds  \\\n",
       "DateTime                                                                     \n",
       "2020-08-02 00:00:00  0.056684      28.7       29.6      27.6  1.596326e+09   \n",
       "2020-08-02 01:00:00  0.059487      26.0       27.4      25.2  1.596330e+09   \n",
       "2020-08-02 02:00:00  0.052799      25.9       26.9      25.1  1.596334e+09   \n",
       "2020-08-02 03:00:00  0.055698      25.3       26.4      24.4  1.596337e+09   \n",
       "2020-08-02 04:00:00  0.052330      24.7       26.3      24.1  1.596341e+09   \n",
       "...                       ...       ...        ...       ...           ...   \n",
       "2020-11-30 19:00:00  0.052057      14.4       15.1      14.1  1.606763e+09   \n",
       "2020-11-30 20:00:00  0.044937      13.7       14.2      13.3  1.606766e+09   \n",
       "2020-11-30 21:00:00  0.048803      13.4       13.7      13.2  1.606770e+09   \n",
       "2020-11-30 22:00:00  0.049585      13.2       13.7      12.7  1.606774e+09   \n",
       "2020-11-30 23:00:00  0.046653      12.8       13.4      12.6  1.606777e+09   \n",
       "\n",
       "                          Day sin   Day cos  Month sin  Month cos  \n",
       "DateTime                                                           \n",
       "2020-08-02 00:00:00 -4.553737e-12  1.000000  -0.743145   0.669131  \n",
       "2020-08-02 01:00:00  2.588190e-01  0.965926  -0.737277   0.675590  \n",
       "2020-08-02 02:00:00  5.000000e-01  0.866025  -0.731354   0.681998  \n",
       "2020-08-02 03:00:00  7.071068e-01  0.707107  -0.725374   0.688355  \n",
       "2020-08-02 04:00:00  8.660254e-01  0.500000  -0.719340   0.694658  \n",
       "...                           ...       ...        ...        ...  \n",
       "2020-11-30 19:00:00 -9.659258e-01  0.258819  -0.622515   0.782608  \n",
       "2020-11-30 20:00:00 -8.660254e-01  0.500000  -0.615661   0.788011  \n",
       "2020-11-30 21:00:00 -7.071068e-01  0.707107  -0.608761   0.793353  \n",
       "2020-11-30 22:00:00 -5.000000e-01  0.866025  -0.601815   0.798636  \n",
       "2020-11-30 23:00:00 -2.588190e-01  0.965926  -0.594823   0.803857  \n",
       "\n",
       "[2878 rows x 9 columns]"
      ]
     },
     "execution_count": 39,
     "metadata": {},
     "output_type": "execute_result"
    }
   ],
   "source": [
    "#Adding into consideration the time as a periodic function\n",
    "\n",
    "day = 60*60*24\n",
    "month= 30*day\n",
    "temp_df['Day sin'] = np.sin(temp_df['Seconds'] * (2* np.pi / day))\n",
    "temp_df['Day cos'] = np.cos(temp_df['Seconds'] * (2 * np.pi / day))\n",
    "temp_df['Month sin'] = np.sin(temp_df['Seconds'] * (2 * np.pi / month))\n",
    "temp_df['Month cos'] = np.cos(temp_df['Seconds'] * (2 * np.pi / month))\n",
    "temp_df"
   ]
  },
  {
   "cell_type": "code",
   "execution_count": 40,
   "metadata": {},
   "outputs": [
    {
     "data": {
      "text/html": [
       "<div>\n",
       "<style scoped>\n",
       "    .dataframe tbody tr th:only-of-type {\n",
       "        vertical-align: middle;\n",
       "    }\n",
       "\n",
       "    .dataframe tbody tr th {\n",
       "        vertical-align: top;\n",
       "    }\n",
       "\n",
       "    .dataframe thead th {\n",
       "        text-align: right;\n",
       "    }\n",
       "</style>\n",
       "<table border=\"1\" class=\"dataframe\">\n",
       "  <thead>\n",
       "    <tr style=\"text-align: right;\">\n",
       "      <th></th>\n",
       "      <th>Power</th>\n",
       "      <th>Avg Temp</th>\n",
       "      <th>High Temp</th>\n",
       "      <th>Low Temp</th>\n",
       "      <th>Day sin</th>\n",
       "      <th>Day cos</th>\n",
       "      <th>Month sin</th>\n",
       "      <th>Month cos</th>\n",
       "    </tr>\n",
       "    <tr>\n",
       "      <th>DateTime</th>\n",
       "      <th></th>\n",
       "      <th></th>\n",
       "      <th></th>\n",
       "      <th></th>\n",
       "      <th></th>\n",
       "      <th></th>\n",
       "      <th></th>\n",
       "      <th></th>\n",
       "    </tr>\n",
       "  </thead>\n",
       "  <tbody>\n",
       "    <tr>\n",
       "      <th>2020-08-02 00:00:00</th>\n",
       "      <td>0.056684</td>\n",
       "      <td>28.7</td>\n",
       "      <td>29.6</td>\n",
       "      <td>27.6</td>\n",
       "      <td>-4.553737e-12</td>\n",
       "      <td>1.000000</td>\n",
       "      <td>-0.743145</td>\n",
       "      <td>0.669131</td>\n",
       "    </tr>\n",
       "    <tr>\n",
       "      <th>2020-08-02 01:00:00</th>\n",
       "      <td>0.059487</td>\n",
       "      <td>26.0</td>\n",
       "      <td>27.4</td>\n",
       "      <td>25.2</td>\n",
       "      <td>2.588190e-01</td>\n",
       "      <td>0.965926</td>\n",
       "      <td>-0.737277</td>\n",
       "      <td>0.675590</td>\n",
       "    </tr>\n",
       "    <tr>\n",
       "      <th>2020-08-02 02:00:00</th>\n",
       "      <td>0.052799</td>\n",
       "      <td>25.9</td>\n",
       "      <td>26.9</td>\n",
       "      <td>25.1</td>\n",
       "      <td>5.000000e-01</td>\n",
       "      <td>0.866025</td>\n",
       "      <td>-0.731354</td>\n",
       "      <td>0.681998</td>\n",
       "    </tr>\n",
       "    <tr>\n",
       "      <th>2020-08-02 03:00:00</th>\n",
       "      <td>0.055698</td>\n",
       "      <td>25.3</td>\n",
       "      <td>26.4</td>\n",
       "      <td>24.4</td>\n",
       "      <td>7.071068e-01</td>\n",
       "      <td>0.707107</td>\n",
       "      <td>-0.725374</td>\n",
       "      <td>0.688355</td>\n",
       "    </tr>\n",
       "    <tr>\n",
       "      <th>2020-08-02 04:00:00</th>\n",
       "      <td>0.052330</td>\n",
       "      <td>24.7</td>\n",
       "      <td>26.3</td>\n",
       "      <td>24.1</td>\n",
       "      <td>8.660254e-01</td>\n",
       "      <td>0.500000</td>\n",
       "      <td>-0.719340</td>\n",
       "      <td>0.694658</td>\n",
       "    </tr>\n",
       "  </tbody>\n",
       "</table>\n",
       "</div>"
      ],
      "text/plain": [
       "                        Power  Avg Temp  High Temp  Low Temp       Day sin  \\\n",
       "DateTime                                                                     \n",
       "2020-08-02 00:00:00  0.056684      28.7       29.6      27.6 -4.553737e-12   \n",
       "2020-08-02 01:00:00  0.059487      26.0       27.4      25.2  2.588190e-01   \n",
       "2020-08-02 02:00:00  0.052799      25.9       26.9      25.1  5.000000e-01   \n",
       "2020-08-02 03:00:00  0.055698      25.3       26.4      24.4  7.071068e-01   \n",
       "2020-08-02 04:00:00  0.052330      24.7       26.3      24.1  8.660254e-01   \n",
       "\n",
       "                      Day cos  Month sin  Month cos  \n",
       "DateTime                                             \n",
       "2020-08-02 00:00:00  1.000000  -0.743145   0.669131  \n",
       "2020-08-02 01:00:00  0.965926  -0.737277   0.675590  \n",
       "2020-08-02 02:00:00  0.866025  -0.731354   0.681998  \n",
       "2020-08-02 03:00:00  0.707107  -0.725374   0.688355  \n",
       "2020-08-02 04:00:00  0.500000  -0.719340   0.694658  "
      ]
     },
     "execution_count": 40,
     "metadata": {},
     "output_type": "execute_result"
    }
   ],
   "source": [
    "temp_df.drop(\"Seconds\",axis=1,inplace=True)\n",
    "temp_df.head()"
   ]
  },
  {
   "cell_type": "code",
   "execution_count": 41,
   "metadata": {},
   "outputs": [],
   "source": [
    "#Function to create timeseries for multiple parameters\n",
    "def df_to_X_y2(df, window_size=2):\n",
    "  df_as_np = df.to_numpy()\n",
    "  X = []\n",
    "  y = []\n",
    "  for i in range(len(df_as_np)-window_size):\n",
    "    row = [r for r in df_as_np[i:i+window_size]]\n",
    "    X.append(row)\n",
    "    label = df_as_np[i+window_size][0]\n",
    "    y.append(label)\n",
    "  return np.array(X), np.array(y)"
   ]
  },
  {
   "cell_type": "code",
   "execution_count": 42,
   "metadata": {},
   "outputs": [
    {
     "data": {
      "text/plain": [
       "((2876, 2, 8), (2876,))"
      ]
     },
     "execution_count": 42,
     "metadata": {},
     "output_type": "execute_result"
    }
   ],
   "source": [
    "X2, y2 = df_to_X_y2(temp_df)\n",
    "X2.shape, y2.shape"
   ]
  },
  {
   "cell_type": "code",
   "execution_count": 43,
   "metadata": {},
   "outputs": [
    {
     "data": {
      "text/plain": [
       "((2000, 2, 8), (2000,), (435, 2, 8), (435,), (441, 2, 8), (441,))"
      ]
     },
     "execution_count": 43,
     "metadata": {},
     "output_type": "execute_result"
    }
   ],
   "source": [
    "X2_train, y2_train = X2[:2000], y2[:2000]\n",
    "X2_val, y2_val = X2[2000:2435], y2[2000:2435]\n",
    "X2_test, y2_test = X2[2435:], y2[2435:]\n",
    "X2_train.shape, y2_train.shape, X2_val.shape, y2_val.shape, X2_test.shape, y2_test.shape"
   ]
  },
  {
   "cell_type": "code",
   "execution_count": 44,
   "metadata": {},
   "outputs": [
    {
     "data": {
      "text/plain": [
       "array([[[ 0.07168051, -1.02664378, -1.04978731, ..., -0.96592583,\n",
       "          0.97629601, -0.21643961],\n",
       "        [ 0.07084134, -0.94738271, -1.03006985, ..., -0.8660254 ,\n",
       "          0.97437006, -0.22495105]],\n",
       "\n",
       "       [[ 0.07084134, -0.94738271, -1.03006985, ..., -0.8660254 ,\n",
       "          0.97437006, -0.22495105],\n",
       "        [ 0.06864545, -0.92756745, -0.99063492, ..., -0.70710678,\n",
       "          0.97236992, -0.23344536]],\n",
       "\n",
       "       [[ 0.06864545, -0.92756745, -0.99063492, ..., -0.70710678,\n",
       "          0.97236992, -0.23344536],\n",
       "        [ 0.05908783, -0.90775218, -0.97091746, ..., -0.5       ,\n",
       "          0.97029573, -0.2419219 ]],\n",
       "\n",
       "       ...,\n",
       "\n",
       "       [[ 0.05205736, -2.21555971, -2.17368271, ...,  0.25881905,\n",
       "         -0.62251464,  0.78260816],\n",
       "        [ 0.04493744, -2.35426657, -2.35113988, ...,  0.5       ,\n",
       "         -0.61566148,  0.78801075]],\n",
       "\n",
       "       [[ 0.04493744, -2.35426657, -2.35113988, ...,  0.5       ,\n",
       "         -0.61566148,  0.78801075],\n",
       "        [ 0.04880258, -2.41371237, -2.44972719, ...,  0.70710678,\n",
       "         -0.60876143,  0.79335334]],\n",
       "\n",
       "       [[ 0.04880258, -2.41371237, -2.44972719, ...,  0.70710678,\n",
       "         -0.60876143,  0.79335334],\n",
       "        [ 0.04958546, -2.4533429 , -2.44972719, ...,  0.8660254 ,\n",
       "         -0.60181502,  0.79863551]]])"
      ]
     },
     "execution_count": 44,
     "metadata": {},
     "output_type": "execute_result"
    }
   ],
   "source": [
    "#Standardization for the temperatures. Dividing mean/std \n",
    "avg_temp_training_mean = np.mean(X2_train[:, :, 1])\n",
    "avg_temp_training_std = np.std(X2_train[:, :, 1])\n",
    "hi_temp_training_mean=np.mean(X2_train[:, :, 2])\n",
    "hi_temp_training_std=np.std(X2_train[:, :, 2])\n",
    "low_temp_training_mean = np.mean(X2_train[:, :, 3])\n",
    "low_temp_training_std=np.std(X2_train[:, :, 3])\n",
    "\n",
    "def preprocess(X):\n",
    "  X[:, :, 1] = (X[:, :, 1] - avg_temp_training_mean) / avg_temp_training_std\n",
    "  X[:, :, 2] = (X[:, :, 2] - hi_temp_training_mean) / hi_temp_training_std\n",
    "  X[:, :, 3] = (X[:, :, 3] - low_temp_training_mean) / low_temp_training_std\n",
    "  return X\n",
    "\n",
    "preprocess(X2_train)\n",
    "preprocess(X2_val)\n",
    "preprocess(X2_test)"
   ]
  },
  {
   "cell_type": "code",
   "execution_count": 45,
   "metadata": {},
   "outputs": [
    {
     "name": "stdout",
     "output_type": "stream",
     "text": [
      "Model: \"sequential_3\"\n",
      "_________________________________________________________________\n",
      "Layer (type)                 Output Shape              Param #   \n",
      "=================================================================\n",
      "lstm_4 (LSTM)                (None, 64)                18688     \n",
      "_________________________________________________________________\n",
      "dense_8 (Dense)              (None, 8)                 520       \n",
      "_________________________________________________________________\n",
      "dense_9 (Dense)              (None, 1)                 9         \n",
      "=================================================================\n",
      "Total params: 19,217\n",
      "Trainable params: 19,217\n",
      "Non-trainable params: 0\n",
      "_________________________________________________________________\n"
     ]
    }
   ],
   "source": [
    "model4 = Sequential()\n",
    "model4.add(InputLayer((2, 8)))\n",
    "model4.add(LSTM(64))\n",
    "model4.add(Dense(8, 'relu'))\n",
    "model4.add(Dense(1, 'linear'))\n",
    "\n",
    "model4.summary()"
   ]
  },
  {
   "cell_type": "code",
   "execution_count": 46,
   "metadata": {},
   "outputs": [],
   "source": [
    "cp4 = ModelCheckpoint('model4/', save_best_only=True)\n",
    "model4.compile(loss=MeanSquaredError(), optimizer=Adam(learning_rate=0.0001), metrics=[RootMeanSquaredError()])"
   ]
  },
  {
   "cell_type": "code",
   "execution_count": 49,
   "metadata": {},
   "outputs": [
    {
     "name": "stdout",
     "output_type": "stream",
     "text": [
      "Epoch 1/50\n",
      "63/63 [==============================] - 0s 3ms/step - loss: 1.2119e-04 - root_mean_squared_error: 0.0110 - val_loss: 1.3196e-04 - val_root_mean_squared_error: 0.0115\n",
      "Epoch 2/50\n",
      "63/63 [==============================] - 0s 3ms/step - loss: 1.1805e-04 - root_mean_squared_error: 0.0109 - val_loss: 1.0531e-04 - val_root_mean_squared_error: 0.0103\n"
     ]
    },
    {
     "name": "stderr",
     "output_type": "stream",
     "text": [
      "WARNING:absl:Found untraced functions such as lstm_cell_4_layer_call_fn, lstm_cell_4_layer_call_and_return_conditional_losses, lstm_cell_4_layer_call_fn, lstm_cell_4_layer_call_and_return_conditional_losses, lstm_cell_4_layer_call_and_return_conditional_losses while saving (showing 5 of 5). These functions will not be directly callable after loading.\n"
     ]
    },
    {
     "name": "stdout",
     "output_type": "stream",
     "text": [
      "INFO:tensorflow:Assets written to: model4\\assets\n"
     ]
    },
    {
     "name": "stderr",
     "output_type": "stream",
     "text": [
      "INFO:tensorflow:Assets written to: model4\\assets\n"
     ]
    },
    {
     "name": "stdout",
     "output_type": "stream",
     "text": [
      "Epoch 3/50\n",
      "63/63 [==============================] - 0s 3ms/step - loss: 1.1350e-04 - root_mean_squared_error: 0.0107 - val_loss: 1.2338e-04 - val_root_mean_squared_error: 0.0111\n",
      "Epoch 4/50\n",
      "63/63 [==============================] - 0s 3ms/step - loss: 1.1093e-04 - root_mean_squared_error: 0.0105 - val_loss: 1.0770e-04 - val_root_mean_squared_error: 0.0104\n",
      "Epoch 5/50\n",
      "63/63 [==============================] - 0s 3ms/step - loss: 1.1180e-04 - root_mean_squared_error: 0.0106 - val_loss: 1.1081e-04 - val_root_mean_squared_error: 0.0105\n",
      "Epoch 6/50\n",
      "63/63 [==============================] - 0s 3ms/step - loss: 1.0865e-04 - root_mean_squared_error: 0.0104 - val_loss: 9.9879e-05 - val_root_mean_squared_error: 0.0100\n"
     ]
    },
    {
     "name": "stderr",
     "output_type": "stream",
     "text": [
      "WARNING:absl:Found untraced functions such as lstm_cell_4_layer_call_fn, lstm_cell_4_layer_call_and_return_conditional_losses, lstm_cell_4_layer_call_fn, lstm_cell_4_layer_call_and_return_conditional_losses, lstm_cell_4_layer_call_and_return_conditional_losses while saving (showing 5 of 5). These functions will not be directly callable after loading.\n"
     ]
    },
    {
     "name": "stdout",
     "output_type": "stream",
     "text": [
      "INFO:tensorflow:Assets written to: model4\\assets\n"
     ]
    },
    {
     "name": "stderr",
     "output_type": "stream",
     "text": [
      "INFO:tensorflow:Assets written to: model4\\assets\n"
     ]
    },
    {
     "name": "stdout",
     "output_type": "stream",
     "text": [
      "Epoch 7/50\n",
      "63/63 [==============================] - 0s 3ms/step - loss: 1.0731e-04 - root_mean_squared_error: 0.0104 - val_loss: 1.0532e-04 - val_root_mean_squared_error: 0.0103\n",
      "Epoch 8/50\n",
      "63/63 [==============================] - 0s 3ms/step - loss: 1.0492e-04 - root_mean_squared_error: 0.0102 - val_loss: 1.1833e-04 - val_root_mean_squared_error: 0.0109\n",
      "Epoch 9/50\n",
      "63/63 [==============================] - 0s 3ms/step - loss: 1.0480e-04 - root_mean_squared_error: 0.0102 - val_loss: 9.7028e-05 - val_root_mean_squared_error: 0.0099\n"
     ]
    },
    {
     "name": "stderr",
     "output_type": "stream",
     "text": [
      "WARNING:absl:Found untraced functions such as lstm_cell_4_layer_call_fn, lstm_cell_4_layer_call_and_return_conditional_losses, lstm_cell_4_layer_call_fn, lstm_cell_4_layer_call_and_return_conditional_losses, lstm_cell_4_layer_call_and_return_conditional_losses while saving (showing 5 of 5). These functions will not be directly callable after loading.\n"
     ]
    },
    {
     "name": "stdout",
     "output_type": "stream",
     "text": [
      "INFO:tensorflow:Assets written to: model4\\assets\n"
     ]
    },
    {
     "name": "stderr",
     "output_type": "stream",
     "text": [
      "INFO:tensorflow:Assets written to: model4\\assets\n"
     ]
    },
    {
     "name": "stdout",
     "output_type": "stream",
     "text": [
      "Epoch 10/50\n",
      "63/63 [==============================] - 0s 3ms/step - loss: 1.0441e-04 - root_mean_squared_error: 0.0102 - val_loss: 9.5602e-05 - val_root_mean_squared_error: 0.0098\n"
     ]
    },
    {
     "name": "stderr",
     "output_type": "stream",
     "text": [
      "WARNING:absl:Found untraced functions such as lstm_cell_4_layer_call_fn, lstm_cell_4_layer_call_and_return_conditional_losses, lstm_cell_4_layer_call_fn, lstm_cell_4_layer_call_and_return_conditional_losses, lstm_cell_4_layer_call_and_return_conditional_losses while saving (showing 5 of 5). These functions will not be directly callable after loading.\n"
     ]
    },
    {
     "name": "stdout",
     "output_type": "stream",
     "text": [
      "INFO:tensorflow:Assets written to: model4\\assets\n"
     ]
    },
    {
     "name": "stderr",
     "output_type": "stream",
     "text": [
      "INFO:tensorflow:Assets written to: model4\\assets\n"
     ]
    },
    {
     "name": "stdout",
     "output_type": "stream",
     "text": [
      "Epoch 11/50\n",
      "63/63 [==============================] - 0s 3ms/step - loss: 1.0380e-04 - root_mean_squared_error: 0.0102 - val_loss: 9.8340e-05 - val_root_mean_squared_error: 0.0099\n",
      "Epoch 12/50\n",
      "63/63 [==============================] - 0s 3ms/step - loss: 1.0247e-04 - root_mean_squared_error: 0.0101 - val_loss: 9.5556e-05 - val_root_mean_squared_error: 0.0098\n"
     ]
    },
    {
     "name": "stderr",
     "output_type": "stream",
     "text": [
      "WARNING:absl:Found untraced functions such as lstm_cell_4_layer_call_fn, lstm_cell_4_layer_call_and_return_conditional_losses, lstm_cell_4_layer_call_fn, lstm_cell_4_layer_call_and_return_conditional_losses, lstm_cell_4_layer_call_and_return_conditional_losses while saving (showing 5 of 5). These functions will not be directly callable after loading.\n"
     ]
    },
    {
     "name": "stdout",
     "output_type": "stream",
     "text": [
      "INFO:tensorflow:Assets written to: model4\\assets\n"
     ]
    },
    {
     "name": "stderr",
     "output_type": "stream",
     "text": [
      "INFO:tensorflow:Assets written to: model4\\assets\n"
     ]
    },
    {
     "name": "stdout",
     "output_type": "stream",
     "text": [
      "Epoch 13/50\n",
      "63/63 [==============================] - 0s 3ms/step - loss: 1.0033e-04 - root_mean_squared_error: 0.0100 - val_loss: 1.0660e-04 - val_root_mean_squared_error: 0.0103\n",
      "Epoch 14/50\n",
      "63/63 [==============================] - 0s 3ms/step - loss: 1.0158e-04 - root_mean_squared_error: 0.0101 - val_loss: 9.5932e-05 - val_root_mean_squared_error: 0.0098\n",
      "Epoch 15/50\n",
      "63/63 [==============================] - 0s 3ms/step - loss: 9.9353e-05 - root_mean_squared_error: 0.0100 - val_loss: 9.4405e-05 - val_root_mean_squared_error: 0.0097\n"
     ]
    },
    {
     "name": "stderr",
     "output_type": "stream",
     "text": [
      "WARNING:absl:Found untraced functions such as lstm_cell_4_layer_call_fn, lstm_cell_4_layer_call_and_return_conditional_losses, lstm_cell_4_layer_call_fn, lstm_cell_4_layer_call_and_return_conditional_losses, lstm_cell_4_layer_call_and_return_conditional_losses while saving (showing 5 of 5). These functions will not be directly callable after loading.\n"
     ]
    },
    {
     "name": "stdout",
     "output_type": "stream",
     "text": [
      "INFO:tensorflow:Assets written to: model4\\assets\n"
     ]
    },
    {
     "name": "stderr",
     "output_type": "stream",
     "text": [
      "INFO:tensorflow:Assets written to: model4\\assets\n"
     ]
    },
    {
     "name": "stdout",
     "output_type": "stream",
     "text": [
      "Epoch 16/50\n",
      "63/63 [==============================] - 0s 3ms/step - loss: 9.8140e-05 - root_mean_squared_error: 0.0099 - val_loss: 8.9807e-05 - val_root_mean_squared_error: 0.0095\n"
     ]
    },
    {
     "name": "stderr",
     "output_type": "stream",
     "text": [
      "WARNING:absl:Found untraced functions such as lstm_cell_4_layer_call_fn, lstm_cell_4_layer_call_and_return_conditional_losses, lstm_cell_4_layer_call_fn, lstm_cell_4_layer_call_and_return_conditional_losses, lstm_cell_4_layer_call_and_return_conditional_losses while saving (showing 5 of 5). These functions will not be directly callable after loading.\n"
     ]
    },
    {
     "name": "stdout",
     "output_type": "stream",
     "text": [
      "INFO:tensorflow:Assets written to: model4\\assets\n"
     ]
    },
    {
     "name": "stderr",
     "output_type": "stream",
     "text": [
      "INFO:tensorflow:Assets written to: model4\\assets\n"
     ]
    },
    {
     "name": "stdout",
     "output_type": "stream",
     "text": [
      "Epoch 17/50\n",
      "63/63 [==============================] - 0s 3ms/step - loss: 9.7823e-05 - root_mean_squared_error: 0.0099 - val_loss: 8.2572e-05 - val_root_mean_squared_error: 0.0091\n"
     ]
    },
    {
     "name": "stderr",
     "output_type": "stream",
     "text": [
      "WARNING:absl:Found untraced functions such as lstm_cell_4_layer_call_fn, lstm_cell_4_layer_call_and_return_conditional_losses, lstm_cell_4_layer_call_fn, lstm_cell_4_layer_call_and_return_conditional_losses, lstm_cell_4_layer_call_and_return_conditional_losses while saving (showing 5 of 5). These functions will not be directly callable after loading.\n"
     ]
    },
    {
     "name": "stdout",
     "output_type": "stream",
     "text": [
      "INFO:tensorflow:Assets written to: model4\\assets\n"
     ]
    },
    {
     "name": "stderr",
     "output_type": "stream",
     "text": [
      "INFO:tensorflow:Assets written to: model4\\assets\n"
     ]
    },
    {
     "name": "stdout",
     "output_type": "stream",
     "text": [
      "Epoch 18/50\n",
      "63/63 [==============================] - 0s 3ms/step - loss: 9.6911e-05 - root_mean_squared_error: 0.0098 - val_loss: 1.0744e-04 - val_root_mean_squared_error: 0.0104\n",
      "Epoch 19/50\n",
      "63/63 [==============================] - 0s 3ms/step - loss: 9.7501e-05 - root_mean_squared_error: 0.0099 - val_loss: 7.6573e-05 - val_root_mean_squared_error: 0.0088\n"
     ]
    },
    {
     "name": "stderr",
     "output_type": "stream",
     "text": [
      "WARNING:absl:Found untraced functions such as lstm_cell_4_layer_call_fn, lstm_cell_4_layer_call_and_return_conditional_losses, lstm_cell_4_layer_call_fn, lstm_cell_4_layer_call_and_return_conditional_losses, lstm_cell_4_layer_call_and_return_conditional_losses while saving (showing 5 of 5). These functions will not be directly callable after loading.\n"
     ]
    },
    {
     "name": "stdout",
     "output_type": "stream",
     "text": [
      "INFO:tensorflow:Assets written to: model4\\assets\n"
     ]
    },
    {
     "name": "stderr",
     "output_type": "stream",
     "text": [
      "INFO:tensorflow:Assets written to: model4\\assets\n"
     ]
    },
    {
     "name": "stdout",
     "output_type": "stream",
     "text": [
      "Epoch 20/50\n",
      "63/63 [==============================] - 0s 3ms/step - loss: 9.3693e-05 - root_mean_squared_error: 0.0097 - val_loss: 1.0589e-04 - val_root_mean_squared_error: 0.0103\n",
      "Epoch 21/50\n",
      "63/63 [==============================] - 0s 3ms/step - loss: 9.5264e-05 - root_mean_squared_error: 0.0098 - val_loss: 9.1145e-05 - val_root_mean_squared_error: 0.0095\n",
      "Epoch 22/50\n",
      "63/63 [==============================] - 0s 3ms/step - loss: 9.3372e-05 - root_mean_squared_error: 0.0097 - val_loss: 9.0825e-05 - val_root_mean_squared_error: 0.0095\n",
      "Epoch 23/50\n",
      "63/63 [==============================] - 0s 3ms/step - loss: 9.7087e-05 - root_mean_squared_error: 0.0099 - val_loss: 7.8795e-05 - val_root_mean_squared_error: 0.0089\n",
      "Epoch 24/50\n",
      "63/63 [==============================] - 0s 3ms/step - loss: 9.3281e-05 - root_mean_squared_error: 0.0097 - val_loss: 9.3012e-05 - val_root_mean_squared_error: 0.0096\n",
      "Epoch 25/50\n",
      "63/63 [==============================] - 0s 3ms/step - loss: 9.2386e-05 - root_mean_squared_error: 0.0096 - val_loss: 9.5799e-05 - val_root_mean_squared_error: 0.0098\n",
      "Epoch 26/50\n",
      "63/63 [==============================] - 0s 3ms/step - loss: 9.2472e-05 - root_mean_squared_error: 0.0096 - val_loss: 8.0957e-05 - val_root_mean_squared_error: 0.0090\n",
      "Epoch 27/50\n",
      "63/63 [==============================] - 0s 3ms/step - loss: 9.0276e-05 - root_mean_squared_error: 0.0095 - val_loss: 8.7780e-05 - val_root_mean_squared_error: 0.0094\n",
      "Epoch 28/50\n",
      "63/63 [==============================] - 0s 3ms/step - loss: 9.0381e-05 - root_mean_squared_error: 0.0095 - val_loss: 8.0400e-05 - val_root_mean_squared_error: 0.0090\n",
      "Epoch 29/50\n",
      "63/63 [==============================] - 0s 3ms/step - loss: 8.9610e-05 - root_mean_squared_error: 0.0095 - val_loss: 8.3532e-05 - val_root_mean_squared_error: 0.0091\n",
      "Epoch 30/50\n",
      "63/63 [==============================] - 0s 3ms/step - loss: 8.9494e-05 - root_mean_squared_error: 0.0095 - val_loss: 8.7917e-05 - val_root_mean_squared_error: 0.0094\n",
      "Epoch 31/50\n",
      "63/63 [==============================] - 0s 3ms/step - loss: 8.8498e-05 - root_mean_squared_error: 0.0094 - val_loss: 8.5672e-05 - val_root_mean_squared_error: 0.0093\n",
      "Epoch 32/50\n",
      "63/63 [==============================] - 0s 3ms/step - loss: 8.9228e-05 - root_mean_squared_error: 0.0094 - val_loss: 8.8344e-05 - val_root_mean_squared_error: 0.0094\n",
      "Epoch 33/50\n",
      "63/63 [==============================] - 0s 3ms/step - loss: 8.6930e-05 - root_mean_squared_error: 0.0093 - val_loss: 7.0027e-05 - val_root_mean_squared_error: 0.0084\n"
     ]
    },
    {
     "name": "stderr",
     "output_type": "stream",
     "text": [
      "WARNING:absl:Found untraced functions such as lstm_cell_4_layer_call_fn, lstm_cell_4_layer_call_and_return_conditional_losses, lstm_cell_4_layer_call_fn, lstm_cell_4_layer_call_and_return_conditional_losses, lstm_cell_4_layer_call_and_return_conditional_losses while saving (showing 5 of 5). These functions will not be directly callable after loading.\n"
     ]
    },
    {
     "name": "stdout",
     "output_type": "stream",
     "text": [
      "INFO:tensorflow:Assets written to: model4\\assets\n"
     ]
    },
    {
     "name": "stderr",
     "output_type": "stream",
     "text": [
      "INFO:tensorflow:Assets written to: model4\\assets\n"
     ]
    },
    {
     "name": "stdout",
     "output_type": "stream",
     "text": [
      "Epoch 34/50\n",
      "63/63 [==============================] - 0s 3ms/step - loss: 8.8247e-05 - root_mean_squared_error: 0.0094 - val_loss: 8.9062e-05 - val_root_mean_squared_error: 0.0094\n",
      "Epoch 35/50\n",
      "63/63 [==============================] - 0s 3ms/step - loss: 8.9856e-05 - root_mean_squared_error: 0.0095 - val_loss: 8.0237e-05 - val_root_mean_squared_error: 0.0090\n",
      "Epoch 36/50\n",
      "63/63 [==============================] - 0s 3ms/step - loss: 8.7302e-05 - root_mean_squared_error: 0.0093 - val_loss: 7.7541e-05 - val_root_mean_squared_error: 0.0088\n",
      "Epoch 37/50\n",
      "63/63 [==============================] - 0s 3ms/step - loss: 8.6302e-05 - root_mean_squared_error: 0.0093 - val_loss: 7.0953e-05 - val_root_mean_squared_error: 0.0084\n",
      "Epoch 38/50\n",
      "63/63 [==============================] - 0s 3ms/step - loss: 8.6682e-05 - root_mean_squared_error: 0.0093 - val_loss: 7.9451e-05 - val_root_mean_squared_error: 0.0089\n",
      "Epoch 39/50\n",
      "63/63 [==============================] - 0s 3ms/step - loss: 8.5350e-05 - root_mean_squared_error: 0.0092 - val_loss: 7.1103e-05 - val_root_mean_squared_error: 0.0084\n",
      "Epoch 40/50\n",
      "63/63 [==============================] - 0s 3ms/step - loss: 8.6212e-05 - root_mean_squared_error: 0.0093 - val_loss: 8.9208e-05 - val_root_mean_squared_error: 0.0094\n",
      "Epoch 41/50\n",
      "63/63 [==============================] - 0s 3ms/step - loss: 8.6039e-05 - root_mean_squared_error: 0.0093 - val_loss: 8.9904e-05 - val_root_mean_squared_error: 0.0095\n",
      "Epoch 42/50\n",
      "63/63 [==============================] - 0s 3ms/step - loss: 8.4722e-05 - root_mean_squared_error: 0.0092 - val_loss: 7.4101e-05 - val_root_mean_squared_error: 0.0086\n",
      "Epoch 43/50\n",
      "63/63 [==============================] - 0s 3ms/step - loss: 8.6107e-05 - root_mean_squared_error: 0.0093 - val_loss: 7.4271e-05 - val_root_mean_squared_error: 0.0086\n",
      "Epoch 44/50\n",
      "63/63 [==============================] - 0s 3ms/step - loss: 8.6119e-05 - root_mean_squared_error: 0.0093 - val_loss: 6.4241e-05 - val_root_mean_squared_error: 0.0080\n"
     ]
    },
    {
     "name": "stderr",
     "output_type": "stream",
     "text": [
      "WARNING:absl:Found untraced functions such as lstm_cell_4_layer_call_fn, lstm_cell_4_layer_call_and_return_conditional_losses, lstm_cell_4_layer_call_fn, lstm_cell_4_layer_call_and_return_conditional_losses, lstm_cell_4_layer_call_and_return_conditional_losses while saving (showing 5 of 5). These functions will not be directly callable after loading.\n"
     ]
    },
    {
     "name": "stdout",
     "output_type": "stream",
     "text": [
      "INFO:tensorflow:Assets written to: model4\\assets\n"
     ]
    },
    {
     "name": "stderr",
     "output_type": "stream",
     "text": [
      "INFO:tensorflow:Assets written to: model4\\assets\n"
     ]
    },
    {
     "name": "stdout",
     "output_type": "stream",
     "text": [
      "Epoch 45/50\n",
      "63/63 [==============================] - 0s 3ms/step - loss: 8.4367e-05 - root_mean_squared_error: 0.0092 - val_loss: 8.4379e-05 - val_root_mean_squared_error: 0.0092\n",
      "Epoch 46/50\n",
      "63/63 [==============================] - 0s 3ms/step - loss: 8.5337e-05 - root_mean_squared_error: 0.0092 - val_loss: 7.6235e-05 - val_root_mean_squared_error: 0.0087\n",
      "Epoch 47/50\n",
      "63/63 [==============================] - 0s 3ms/step - loss: 8.3264e-05 - root_mean_squared_error: 0.0091 - val_loss: 8.5304e-05 - val_root_mean_squared_error: 0.0092\n",
      "Epoch 48/50\n",
      "63/63 [==============================] - 0s 3ms/step - loss: 8.3276e-05 - root_mean_squared_error: 0.0091 - val_loss: 7.2389e-05 - val_root_mean_squared_error: 0.0085\n",
      "Epoch 49/50\n",
      "63/63 [==============================] - 0s 3ms/step - loss: 8.4449e-05 - root_mean_squared_error: 0.0092 - val_loss: 7.7410e-05 - val_root_mean_squared_error: 0.0088\n",
      "Epoch 50/50\n",
      "63/63 [==============================] - 0s 3ms/step - loss: 8.4088e-05 - root_mean_squared_error: 0.0092 - val_loss: 6.5133e-05 - val_root_mean_squared_error: 0.0081\n"
     ]
    },
    {
     "data": {
      "text/plain": [
       "<tensorflow.python.keras.callbacks.History at 0x2acc87a7310>"
      ]
     },
     "execution_count": 49,
     "metadata": {},
     "output_type": "execute_result"
    }
   ],
   "source": [
    "model4.fit(X2_train, y2_train, validation_data=(X2_val, y2_val), epochs=50, callbacks=[cp4])"
   ]
  },
  {
   "cell_type": "code",
   "execution_count": 56,
   "metadata": {},
   "outputs": [
    {
     "name": "stdout",
     "output_type": "stream",
     "text": [
      "8.148613153970935e-05 0.5530572518947209 0.12219304960163604\n"
     ]
    },
    {
     "data": {
      "image/png": "[encoded data removed]",
      "text/plain": [
       "<Figure size 640x480 with 1 Axes>"
      ]
     },
     "metadata": {},
     "output_type": "display_data"
    }
   ],
   "source": [
    "\n",
    "\n",
    "final, mse_val, r2_val, mape_value = plot_predictions1(model4, X2_test, y2_test)\n",
    "print(mse_val, r2_val, mape_value)"
   ]
  },
  {
   "attachments": {},
   "cell_type": "markdown",
   "metadata": {},
   "source": []
  },
  {
   "cell_type": "code",
   "execution_count": 53,
   "metadata": {},
   "outputs": [
    {
     "data": {
      "text/html": [
       "<div>\n",
       "<style scoped>\n",
       "    .dataframe tbody tr th:only-of-type {\n",
       "        vertical-align: middle;\n",
       "    }\n",
       "\n",
       "    .dataframe tbody tr th {\n",
       "        vertical-align: top;\n",
       "    }\n",
       "\n",
       "    .dataframe thead th {\n",
       "        text-align: right;\n",
       "    }\n",
       "</style>\n",
       "<table border=\"1\" class=\"dataframe\">\n",
       "  <thead>\n",
       "    <tr style=\"text-align: right;\">\n",
       "      <th></th>\n",
       "      <th>Test Predictions</th>\n",
       "      <th>Actuals</th>\n",
       "    </tr>\n",
       "    <tr>\n",
       "      <th>DateTime</th>\n",
       "      <th></th>\n",
       "      <th></th>\n",
       "    </tr>\n",
       "  </thead>\n",
       "  <tbody>\n",
       "    <tr>\n",
       "      <th>2020-11-12 15:00:00</th>\n",
       "      <td>0.065699</td>\n",
       "      <td>0.068645</td>\n",
       "    </tr>\n",
       "    <tr>\n",
       "      <th>2020-11-12 16:00:00</th>\n",
       "      <td>0.062837</td>\n",
       "      <td>0.059088</td>\n",
       "    </tr>\n",
       "    <tr>\n",
       "      <th>2020-11-12 17:00:00</th>\n",
       "      <td>0.057017</td>\n",
       "      <td>0.059466</td>\n",
       "    </tr>\n",
       "    <tr>\n",
       "      <th>2020-11-12 18:00:00</th>\n",
       "      <td>0.053218</td>\n",
       "      <td>0.051650</td>\n",
       "    </tr>\n",
       "    <tr>\n",
       "      <th>2020-11-12 19:00:00</th>\n",
       "      <td>0.050727</td>\n",
       "      <td>0.052649</td>\n",
       "    </tr>\n",
       "    <tr>\n",
       "      <th>...</th>\n",
       "      <td>...</td>\n",
       "      <td>...</td>\n",
       "    </tr>\n",
       "    <tr>\n",
       "      <th>2020-11-30 19:00:00</th>\n",
       "      <td>0.036935</td>\n",
       "      <td>0.052057</td>\n",
       "    </tr>\n",
       "    <tr>\n",
       "      <th>2020-11-30 20:00:00</th>\n",
       "      <td>0.038012</td>\n",
       "      <td>0.044937</td>\n",
       "    </tr>\n",
       "    <tr>\n",
       "      <th>2020-11-30 21:00:00</th>\n",
       "      <td>0.040726</td>\n",
       "      <td>0.048803</td>\n",
       "    </tr>\n",
       "    <tr>\n",
       "      <th>2020-11-30 22:00:00</th>\n",
       "      <td>0.043823</td>\n",
       "      <td>0.049585</td>\n",
       "    </tr>\n",
       "    <tr>\n",
       "      <th>2020-11-30 23:00:00</th>\n",
       "      <td>0.045457</td>\n",
       "      <td>0.046653</td>\n",
       "    </tr>\n",
       "  </tbody>\n",
       "</table>\n",
       "<p>441 rows × 2 columns</p>\n",
       "</div>"
      ],
      "text/plain": [
       "                     Test Predictions   Actuals\n",
       "DateTime                                       \n",
       "2020-11-12 15:00:00          0.065699  0.068645\n",
       "2020-11-12 16:00:00          0.062837  0.059088\n",
       "2020-11-12 17:00:00          0.057017  0.059466\n",
       "2020-11-12 18:00:00          0.053218  0.051650\n",
       "2020-11-12 19:00:00          0.050727  0.052649\n",
       "...                               ...       ...\n",
       "2020-11-30 19:00:00          0.036935  0.052057\n",
       "2020-11-30 20:00:00          0.038012  0.044937\n",
       "2020-11-30 21:00:00          0.040726  0.048803\n",
       "2020-11-30 22:00:00          0.043823  0.049585\n",
       "2020-11-30 23:00:00          0.045457  0.046653\n",
       "\n",
       "[441 rows x 2 columns]"
      ]
     },
     "execution_count": 53,
     "metadata": {},
     "output_type": "execute_result"
    }
   ],
   "source": [
    "test_predictions = model4.predict(X2_test).flatten()\n",
    "test_results = pd.DataFrame(data={'Test Predictions':test_predictions, 'Actuals':y_test1},index=df['DateTime'][2437:].index)\n",
    "test_results"
   ]
  },
  {
   "cell_type": "code",
   "execution_count": 54,
   "metadata": {},
   "outputs": [
    {
     "data": {
      "text/plain": [
       "Text(0, 0.5, 'Active Power in MW')"
      ]
     },
     "execution_count": 54,
     "metadata": {},
     "output_type": "execute_result"
    },
    {
     "data": {
      "image/png": "[encoded data removed]",
      "text/plain": [
       "<Figure size 640x480 with 1 Axes>"
      ]
     },
     "metadata": {},
     "output_type": "display_data"
    }
   ],
   "source": [
    "import matplotlib.dates as mdates\n",
    "plt.gca().xaxis.set_major_formatter(mdates.DateFormatter('%m'))\n",
    "fig=plt.plot(target)#[:100])    \n",
    "fig=plt.plot(test_results['Test Predictions']) \n",
    "plt.legend(['Actuals','Test Predictions'])    \n",
    "plt.xlabel(\"Months/2020\")\n",
    "plt.ylabel(\"Active Power in MW\")"
   ]
  },
  {
   "cell_type": "code",
   "execution_count": null,
   "metadata": {},
   "outputs": [],
   "source": [
    "plot_predictions1(model4, X2_train, y2_train)"
   ]
  },
  {
   "cell_type": "code",
   "execution_count": 11,
   "metadata": {},
   "outputs": [
    {
     "data": {
      "text/html": [
       "<div>\n",
       "<style scoped>\n",
       "    .dataframe tbody tr th:only-of-type {\n",
       "        vertical-align: middle;\n",
       "    }\n",
       "\n",
       "    .dataframe tbody tr th {\n",
       "        vertical-align: top;\n",
       "    }\n",
       "\n",
       "    .dataframe thead th {\n",
       "        text-align: right;\n",
       "    }\n",
       "</style>\n",
       "<table border=\"1\" class=\"dataframe\">\n",
       "  <thead>\n",
       "    <tr style=\"text-align: right;\">\n",
       "      <th></th>\n",
       "      <th>Power</th>\n",
       "      <th>Avg Temp</th>\n",
       "      <th>High Temp</th>\n",
       "      <th>Low Temp</th>\n",
       "    </tr>\n",
       "    <tr>\n",
       "      <th>DateTime</th>\n",
       "      <th></th>\n",
       "      <th></th>\n",
       "      <th></th>\n",
       "      <th></th>\n",
       "    </tr>\n",
       "  </thead>\n",
       "  <tbody>\n",
       "    <tr>\n",
       "      <th>2020-08-02 00:00:00</th>\n",
       "      <td>0.056684</td>\n",
       "      <td>28.7</td>\n",
       "      <td>29.6</td>\n",
       "      <td>27.6</td>\n",
       "    </tr>\n",
       "    <tr>\n",
       "      <th>2020-08-02 01:00:00</th>\n",
       "      <td>0.059487</td>\n",
       "      <td>26.0</td>\n",
       "      <td>27.4</td>\n",
       "      <td>25.2</td>\n",
       "    </tr>\n",
       "    <tr>\n",
       "      <th>2020-08-02 02:00:00</th>\n",
       "      <td>0.052799</td>\n",
       "      <td>25.9</td>\n",
       "      <td>26.9</td>\n",
       "      <td>25.1</td>\n",
       "    </tr>\n",
       "    <tr>\n",
       "      <th>2020-08-02 03:00:00</th>\n",
       "      <td>0.055698</td>\n",
       "      <td>25.3</td>\n",
       "      <td>26.4</td>\n",
       "      <td>24.4</td>\n",
       "    </tr>\n",
       "    <tr>\n",
       "      <th>2020-08-02 04:00:00</th>\n",
       "      <td>0.052330</td>\n",
       "      <td>24.7</td>\n",
       "      <td>26.3</td>\n",
       "      <td>24.1</td>\n",
       "    </tr>\n",
       "    <tr>\n",
       "      <th>...</th>\n",
       "      <td>...</td>\n",
       "      <td>...</td>\n",
       "      <td>...</td>\n",
       "      <td>...</td>\n",
       "    </tr>\n",
       "    <tr>\n",
       "      <th>2020-11-30 19:00:00</th>\n",
       "      <td>0.052057</td>\n",
       "      <td>14.4</td>\n",
       "      <td>15.1</td>\n",
       "      <td>14.1</td>\n",
       "    </tr>\n",
       "    <tr>\n",
       "      <th>2020-11-30 20:00:00</th>\n",
       "      <td>0.044937</td>\n",
       "      <td>13.7</td>\n",
       "      <td>14.2</td>\n",
       "      <td>13.3</td>\n",
       "    </tr>\n",
       "    <tr>\n",
       "      <th>2020-11-30 21:00:00</th>\n",
       "      <td>0.048803</td>\n",
       "      <td>13.4</td>\n",
       "      <td>13.7</td>\n",
       "      <td>13.2</td>\n",
       "    </tr>\n",
       "    <tr>\n",
       "      <th>2020-11-30 22:00:00</th>\n",
       "      <td>0.049585</td>\n",
       "      <td>13.2</td>\n",
       "      <td>13.7</td>\n",
       "      <td>12.7</td>\n",
       "    </tr>\n",
       "    <tr>\n",
       "      <th>2020-11-30 23:00:00</th>\n",
       "      <td>0.046653</td>\n",
       "      <td>12.8</td>\n",
       "      <td>13.4</td>\n",
       "      <td>12.6</td>\n",
       "    </tr>\n",
       "  </tbody>\n",
       "</table>\n",
       "<p>2878 rows × 4 columns</p>\n",
       "</div>"
      ],
      "text/plain": [
       "                        Power  Avg Temp  High Temp  Low Temp\n",
       "DateTime                                                    \n",
       "2020-08-02 00:00:00  0.056684      28.7       29.6      27.6\n",
       "2020-08-02 01:00:00  0.059487      26.0       27.4      25.2\n",
       "2020-08-02 02:00:00  0.052799      25.9       26.9      25.1\n",
       "2020-08-02 03:00:00  0.055698      25.3       26.4      24.4\n",
       "2020-08-02 04:00:00  0.052330      24.7       26.3      24.1\n",
       "...                       ...       ...        ...       ...\n",
       "2020-11-30 19:00:00  0.052057      14.4       15.1      14.1\n",
       "2020-11-30 20:00:00  0.044937      13.7       14.2      13.3\n",
       "2020-11-30 21:00:00  0.048803      13.4       13.7      13.2\n",
       "2020-11-30 22:00:00  0.049585      13.2       13.7      12.7\n",
       "2020-11-30 23:00:00  0.046653      12.8       13.4      12.6\n",
       "\n",
       "[2878 rows x 4 columns]"
      ]
     },
     "execution_count": 11,
     "metadata": {},
     "output_type": "execute_result"
    }
   ],
   "source": [
    "#Prediction without using time as a parameter (Just Temperature)\n",
    "new_df= pd.DataFrame({'Power':target,\"Avg Temp\":df[\"Temp\"],\"High Temp\":df['Hi'],\"Low Temp\":df[\"Low\"]})\n",
    "new_df"
   ]
  },
  {
   "cell_type": "code",
   "execution_count": 14,
   "metadata": {},
   "outputs": [
    {
     "data": {
      "text/plain": [
       "((2876, 2, 4), (2876,))"
      ]
     },
     "execution_count": 14,
     "metadata": {},
     "output_type": "execute_result"
    }
   ],
   "source": [
    "X3, y3 = df_to_X_y2(new_df)\n",
    "X3.shape, y3.shape"
   ]
  },
  {
   "cell_type": "code",
   "execution_count": 15,
   "metadata": {},
   "outputs": [
    {
     "data": {
      "text/plain": [
       "((2000, 2, 4), (2000,), (435, 2, 4), (435,), (441, 2, 4), (441,))"
      ]
     },
     "execution_count": 15,
     "metadata": {},
     "output_type": "execute_result"
    }
   ],
   "source": [
    "X3_train, y3_train = X3[:2000], y3[:2000]\n",
    "X3_val, y3_val = X3[2000:2435], y3[2000:2435]\n",
    "X3_test, y3_test = X3[2435:], y3[2435:]\n",
    "X3_train.shape, y3_train.shape, X3_val.shape, y3_val.shape, X3_test.shape, y3_test.shape"
   ]
  },
  {
   "cell_type": "code",
   "execution_count": 16,
   "metadata": {},
   "outputs": [
    {
     "data": {
      "text/plain": [
       "array([[[ 0.07168051, -1.02664378, -1.04978731, -0.96356103],\n",
       "        [ 0.07084134, -0.94738271, -1.03006985, -0.86400983]],\n",
       "\n",
       "       [[ 0.07084134, -0.94738271, -1.03006985, -0.86400983],\n",
       "        [ 0.06864545, -0.92756745, -0.99063492, -0.88392007]],\n",
       "\n",
       "       [[ 0.06864545, -0.92756745, -0.99063492, -0.88392007],\n",
       "        [ 0.05908783, -0.90775218, -0.97091746, -0.84409959]],\n",
       "\n",
       "       ...,\n",
       "\n",
       "       [[ 0.05205736, -2.21555971, -2.17368271, -2.17808566],\n",
       "        [ 0.04493744, -2.35426657, -2.35113988, -2.33736758]],\n",
       "\n",
       "       [[ 0.04493744, -2.35426657, -2.35113988, -2.33736758],\n",
       "        [ 0.04880258, -2.41371237, -2.44972719, -2.35727782]],\n",
       "\n",
       "       [[ 0.04880258, -2.41371237, -2.44972719, -2.35727782],\n",
       "        [ 0.04958546, -2.4533429 , -2.44972719, -2.45682902]]])"
      ]
     },
     "execution_count": 16,
     "metadata": {},
     "output_type": "execute_result"
    }
   ],
   "source": [
    "avg_temp_training_mean = np.mean(X3_train[:, :, 1])\n",
    "avg_temp_training_std = np.std(X3_train[:, :, 1])\n",
    "hi_temp_training_mean=np.mean(X3_train[:, :, 2])\n",
    "hi_temp_training_std=np.std(X3_train[:, :, 2])\n",
    "low_temp_training_mean = np.mean(X3_train[:, :, 3])\n",
    "low_temp_training_std=np.std(X3_train[:, :, 3])\n",
    "\n",
    "def preprocess(X):\n",
    "  X[:, :, 1] = (X[:, :, 1] - avg_temp_training_mean) / avg_temp_training_std\n",
    "  X[:, :, 2] = (X[:, :, 2] - hi_temp_training_mean) / hi_temp_training_std\n",
    "  X[:, :, 3] = (X[:, :, 3] - low_temp_training_mean) / low_temp_training_std\n",
    "  return X\n",
    "\n",
    "preprocess(X3_train)\n",
    "preprocess(X3_val)\n",
    "preprocess(X3_test)"
   ]
  },
  {
   "cell_type": "code",
   "execution_count": 17,
   "metadata": {},
   "outputs": [
    {
     "name": "stdout",
     "output_type": "stream",
     "text": [
      "Model: \"sequential\"\n",
      "_________________________________________________________________\n",
      "Layer (type)                 Output Shape              Param #   \n",
      "=================================================================\n",
      "lstm_1 (LSTM)                (None, 64)                17664     \n",
      "_________________________________________________________________\n",
      "dense_2 (Dense)              (None, 8)                 520       \n",
      "_________________________________________________________________\n",
      "dense_3 (Dense)              (None, 1)                 9         \n",
      "=================================================================\n",
      "Total params: 18,193\n",
      "Trainable params: 18,193\n",
      "Non-trainable params: 0\n",
      "_________________________________________________________________\n"
     ]
    }
   ],
   "source": [
    "model5 = Sequential()\n",
    "model5.add(InputLayer((2, 4)))\n",
    "model5.add(LSTM(64))\n",
    "model5.add(Dense(8, 'relu'))\n",
    "model5.add(Dense(1, 'linear'))\n",
    "\n",
    "model5.summary()"
   ]
  },
  {
   "cell_type": "code",
   "execution_count": 18,
   "metadata": {},
   "outputs": [],
   "source": [
    "cp5 = ModelCheckpoint('model5/', save_best_only=True)\n",
    "model5.compile(loss=MeanSquaredError(), optimizer=Adam(learning_rate=0.0001), metrics=[RootMeanSquaredError()])"
   ]
  },
  {
   "cell_type": "code",
   "execution_count": 20,
   "metadata": {},
   "outputs": [
    {
     "name": "stdout",
     "output_type": "stream",
     "text": [
      "Epoch 1/50\n",
      "63/63 [==============================] - 3s 12ms/step - loss: 0.0147 - root_mean_squared_error: 0.1196 - val_loss: 9.6259e-04 - val_root_mean_squared_error: 0.0310\n"
     ]
    },
    {
     "name": "stderr",
     "output_type": "stream",
     "text": [
      "WARNING:absl:Found untraced functions such as lstm_cell_1_layer_call_fn, lstm_cell_1_layer_call_and_return_conditional_losses, lstm_cell_1_layer_call_fn, lstm_cell_1_layer_call_and_return_conditional_losses, lstm_cell_1_layer_call_and_return_conditional_losses while saving (showing 5 of 5). These functions will not be directly callable after loading.\n"
     ]
    },
    {
     "name": "stdout",
     "output_type": "stream",
     "text": [
      "INFO:tensorflow:Assets written to: model5\\assets\n"
     ]
    },
    {
     "name": "stderr",
     "output_type": "stream",
     "text": [
      "INFO:tensorflow:Assets written to: model5\\assets\n"
     ]
    },
    {
     "name": "stdout",
     "output_type": "stream",
     "text": [
      "Epoch 2/50\n",
      "63/63 [==============================] - 0s 3ms/step - loss: 0.0022 - root_mean_squared_error: 0.0473 - val_loss: 6.8213e-04 - val_root_mean_squared_error: 0.0261\n"
     ]
    },
    {
     "name": "stderr",
     "output_type": "stream",
     "text": [
      "WARNING:absl:Found untraced functions such as lstm_cell_1_layer_call_fn, lstm_cell_1_layer_call_and_return_conditional_losses, lstm_cell_1_layer_call_fn, lstm_cell_1_layer_call_and_return_conditional_losses, lstm_cell_1_layer_call_and_return_conditional_losses while saving (showing 5 of 5). These functions will not be directly callable after loading.\n"
     ]
    },
    {
     "name": "stdout",
     "output_type": "stream",
     "text": [
      "INFO:tensorflow:Assets written to: model5\\assets\n"
     ]
    },
    {
     "name": "stderr",
     "output_type": "stream",
     "text": [
      "INFO:tensorflow:Assets written to: model5\\assets\n"
     ]
    },
    {
     "name": "stdout",
     "output_type": "stream",
     "text": [
      "Epoch 3/50\n",
      "63/63 [==============================] - 0s 3ms/step - loss: 0.0015 - root_mean_squared_error: 0.0386 - val_loss: 4.8816e-04 - val_root_mean_squared_error: 0.0221\n"
     ]
    },
    {
     "name": "stderr",
     "output_type": "stream",
     "text": [
      "WARNING:absl:Found untraced functions such as lstm_cell_1_layer_call_fn, lstm_cell_1_layer_call_and_return_conditional_losses, lstm_cell_1_layer_call_fn, lstm_cell_1_layer_call_and_return_conditional_losses, lstm_cell_1_layer_call_and_return_conditional_losses while saving (showing 5 of 5). These functions will not be directly callable after loading.\n"
     ]
    },
    {
     "name": "stdout",
     "output_type": "stream",
     "text": [
      "INFO:tensorflow:Assets written to: model5\\assets\n"
     ]
    },
    {
     "name": "stderr",
     "output_type": "stream",
     "text": [
      "INFO:tensorflow:Assets written to: model5\\assets\n"
     ]
    },
    {
     "name": "stdout",
     "output_type": "stream",
     "text": [
      "Epoch 4/50\n",
      "63/63 [==============================] - 0s 3ms/step - loss: 0.0012 - root_mean_squared_error: 0.0339 - val_loss: 4.1630e-04 - val_root_mean_squared_error: 0.0204\n"
     ]
    },
    {
     "name": "stderr",
     "output_type": "stream",
     "text": [
      "WARNING:absl:Found untraced functions such as lstm_cell_1_layer_call_fn, lstm_cell_1_layer_call_and_return_conditional_losses, lstm_cell_1_layer_call_fn, lstm_cell_1_layer_call_and_return_conditional_losses, lstm_cell_1_layer_call_and_return_conditional_losses while saving (showing 5 of 5). These functions will not be directly callable after loading.\n"
     ]
    },
    {
     "name": "stdout",
     "output_type": "stream",
     "text": [
      "INFO:tensorflow:Assets written to: model5\\assets\n"
     ]
    },
    {
     "name": "stderr",
     "output_type": "stream",
     "text": [
      "INFO:tensorflow:Assets written to: model5\\assets\n"
     ]
    },
    {
     "name": "stdout",
     "output_type": "stream",
     "text": [
      "Epoch 5/50\n",
      "63/63 [==============================] - 0s 3ms/step - loss: 0.0011 - root_mean_squared_error: 0.0328 - val_loss: 3.3393e-04 - val_root_mean_squared_error: 0.0183\n"
     ]
    },
    {
     "name": "stderr",
     "output_type": "stream",
     "text": [
      "WARNING:absl:Found untraced functions such as lstm_cell_1_layer_call_fn, lstm_cell_1_layer_call_and_return_conditional_losses, lstm_cell_1_layer_call_fn, lstm_cell_1_layer_call_and_return_conditional_losses, lstm_cell_1_layer_call_and_return_conditional_losses while saving (showing 5 of 5). These functions will not be directly callable after loading.\n"
     ]
    },
    {
     "name": "stdout",
     "output_type": "stream",
     "text": [
      "INFO:tensorflow:Assets written to: model5\\assets\n"
     ]
    },
    {
     "name": "stderr",
     "output_type": "stream",
     "text": [
      "INFO:tensorflow:Assets written to: model5\\assets\n"
     ]
    },
    {
     "name": "stdout",
     "output_type": "stream",
     "text": [
      "Epoch 6/50\n",
      "63/63 [==============================] - 0s 3ms/step - loss: 0.0010 - root_mean_squared_error: 0.0319 - val_loss: 3.3213e-04 - val_root_mean_squared_error: 0.0182\n"
     ]
    },
    {
     "name": "stderr",
     "output_type": "stream",
     "text": [
      "WARNING:absl:Found untraced functions such as lstm_cell_1_layer_call_fn, lstm_cell_1_layer_call_and_return_conditional_losses, lstm_cell_1_layer_call_fn, lstm_cell_1_layer_call_and_return_conditional_losses, lstm_cell_1_layer_call_and_return_conditional_losses while saving (showing 5 of 5). These functions will not be directly callable after loading.\n"
     ]
    },
    {
     "name": "stdout",
     "output_type": "stream",
     "text": [
      "INFO:tensorflow:Assets written to: model5\\assets\n"
     ]
    },
    {
     "name": "stderr",
     "output_type": "stream",
     "text": [
      "INFO:tensorflow:Assets written to: model5\\assets\n"
     ]
    },
    {
     "name": "stdout",
     "output_type": "stream",
     "text": [
      "Epoch 7/50\n",
      "63/63 [==============================] - 0s 3ms/step - loss: 0.0010 - root_mean_squared_error: 0.0317 - val_loss: 2.9131e-04 - val_root_mean_squared_error: 0.0171\n"
     ]
    },
    {
     "name": "stderr",
     "output_type": "stream",
     "text": [
      "WARNING:absl:Found untraced functions such as lstm_cell_1_layer_call_fn, lstm_cell_1_layer_call_and_return_conditional_losses, lstm_cell_1_layer_call_fn, lstm_cell_1_layer_call_and_return_conditional_losses, lstm_cell_1_layer_call_and_return_conditional_losses while saving (showing 5 of 5). These functions will not be directly callable after loading.\n"
     ]
    },
    {
     "name": "stdout",
     "output_type": "stream",
     "text": [
      "INFO:tensorflow:Assets written to: model5\\assets\n"
     ]
    },
    {
     "name": "stderr",
     "output_type": "stream",
     "text": [
      "INFO:tensorflow:Assets written to: model5\\assets\n"
     ]
    },
    {
     "name": "stdout",
     "output_type": "stream",
     "text": [
      "Epoch 8/50\n",
      "63/63 [==============================] - 0s 3ms/step - loss: 0.0010 - root_mean_squared_error: 0.0320 - val_loss: 2.7153e-04 - val_root_mean_squared_error: 0.0165\n"
     ]
    },
    {
     "name": "stderr",
     "output_type": "stream",
     "text": [
      "WARNING:absl:Found untraced functions such as lstm_cell_1_layer_call_fn, lstm_cell_1_layer_call_and_return_conditional_losses, lstm_cell_1_layer_call_fn, lstm_cell_1_layer_call_and_return_conditional_losses, lstm_cell_1_layer_call_and_return_conditional_losses while saving (showing 5 of 5). These functions will not be directly callable after loading.\n"
     ]
    },
    {
     "name": "stdout",
     "output_type": "stream",
     "text": [
      "INFO:tensorflow:Assets written to: model5\\assets\n"
     ]
    },
    {
     "name": "stderr",
     "output_type": "stream",
     "text": [
      "INFO:tensorflow:Assets written to: model5\\assets\n"
     ]
    },
    {
     "name": "stdout",
     "output_type": "stream",
     "text": [
      "Epoch 9/50\n",
      "63/63 [==============================] - 0s 3ms/step - loss: 9.4375e-04 - root_mean_squared_error: 0.0307 - val_loss: 2.8725e-04 - val_root_mean_squared_error: 0.0169\n",
      "Epoch 10/50\n",
      "63/63 [==============================] - 0s 3ms/step - loss: 9.4853e-04 - root_mean_squared_error: 0.0308 - val_loss: 2.3726e-04 - val_root_mean_squared_error: 0.0154\n"
     ]
    },
    {
     "name": "stderr",
     "output_type": "stream",
     "text": [
      "WARNING:absl:Found untraced functions such as lstm_cell_1_layer_call_fn, lstm_cell_1_layer_call_and_return_conditional_losses, lstm_cell_1_layer_call_fn, lstm_cell_1_layer_call_and_return_conditional_losses, lstm_cell_1_layer_call_and_return_conditional_losses while saving (showing 5 of 5). These functions will not be directly callable after loading.\n"
     ]
    },
    {
     "name": "stdout",
     "output_type": "stream",
     "text": [
      "INFO:tensorflow:Assets written to: model5\\assets\n"
     ]
    },
    {
     "name": "stderr",
     "output_type": "stream",
     "text": [
      "INFO:tensorflow:Assets written to: model5\\assets\n"
     ]
    },
    {
     "name": "stdout",
     "output_type": "stream",
     "text": [
      "Epoch 11/50\n",
      "63/63 [==============================] - 0s 3ms/step - loss: 8.7897e-04 - root_mean_squared_error: 0.0296 - val_loss: 2.5335e-04 - val_root_mean_squared_error: 0.0159\n",
      "Epoch 12/50\n",
      "63/63 [==============================] - 0s 3ms/step - loss: 8.7255e-04 - root_mean_squared_error: 0.0295 - val_loss: 2.3342e-04 - val_root_mean_squared_error: 0.0153\n"
     ]
    },
    {
     "name": "stderr",
     "output_type": "stream",
     "text": [
      "WARNING:absl:Found untraced functions such as lstm_cell_1_layer_call_fn, lstm_cell_1_layer_call_and_return_conditional_losses, lstm_cell_1_layer_call_fn, lstm_cell_1_layer_call_and_return_conditional_losses, lstm_cell_1_layer_call_and_return_conditional_losses while saving (showing 5 of 5). These functions will not be directly callable after loading.\n"
     ]
    },
    {
     "name": "stdout",
     "output_type": "stream",
     "text": [
      "INFO:tensorflow:Assets written to: model5\\assets\n"
     ]
    },
    {
     "name": "stderr",
     "output_type": "stream",
     "text": [
      "INFO:tensorflow:Assets written to: model5\\assets\n"
     ]
    },
    {
     "name": "stdout",
     "output_type": "stream",
     "text": [
      "Epoch 13/50\n",
      "63/63 [==============================] - 0s 3ms/step - loss: 7.9710e-04 - root_mean_squared_error: 0.0282 - val_loss: 3.0514e-04 - val_root_mean_squared_error: 0.0175\n",
      "Epoch 14/50\n",
      "63/63 [==============================] - 0s 3ms/step - loss: 7.9435e-04 - root_mean_squared_error: 0.0282 - val_loss: 2.3370e-04 - val_root_mean_squared_error: 0.0153\n",
      "Epoch 15/50\n",
      "63/63 [==============================] - 0s 3ms/step - loss: 6.9045e-04 - root_mean_squared_error: 0.0262 - val_loss: 2.4494e-04 - val_root_mean_squared_error: 0.0157\n",
      "Epoch 16/50\n",
      "63/63 [==============================] - 0s 3ms/step - loss: 7.4593e-04 - root_mean_squared_error: 0.0272 - val_loss: 1.9898e-04 - val_root_mean_squared_error: 0.0141\n"
     ]
    },
    {
     "name": "stderr",
     "output_type": "stream",
     "text": [
      "WARNING:absl:Found untraced functions such as lstm_cell_1_layer_call_fn, lstm_cell_1_layer_call_and_return_conditional_losses, lstm_cell_1_layer_call_fn, lstm_cell_1_layer_call_and_return_conditional_losses, lstm_cell_1_layer_call_and_return_conditional_losses while saving (showing 5 of 5). These functions will not be directly callable after loading.\n"
     ]
    },
    {
     "name": "stdout",
     "output_type": "stream",
     "text": [
      "INFO:tensorflow:Assets written to: model5\\assets\n"
     ]
    },
    {
     "name": "stderr",
     "output_type": "stream",
     "text": [
      "INFO:tensorflow:Assets written to: model5\\assets\n"
     ]
    },
    {
     "name": "stdout",
     "output_type": "stream",
     "text": [
      "Epoch 17/50\n",
      "63/63 [==============================] - 0s 3ms/step - loss: 5.9619e-04 - root_mean_squared_error: 0.0244 - val_loss: 2.0521e-04 - val_root_mean_squared_error: 0.0143\n",
      "Epoch 18/50\n",
      "63/63 [==============================] - 0s 3ms/step - loss: 5.9870e-04 - root_mean_squared_error: 0.0244 - val_loss: 2.4107e-04 - val_root_mean_squared_error: 0.0155\n",
      "Epoch 19/50\n",
      "63/63 [==============================] - 0s 3ms/step - loss: 5.6052e-04 - root_mean_squared_error: 0.0237 - val_loss: 1.9233e-04 - val_root_mean_squared_error: 0.0139\n"
     ]
    },
    {
     "name": "stderr",
     "output_type": "stream",
     "text": [
      "WARNING:absl:Found untraced functions such as lstm_cell_1_layer_call_fn, lstm_cell_1_layer_call_and_return_conditional_losses, lstm_cell_1_layer_call_fn, lstm_cell_1_layer_call_and_return_conditional_losses, lstm_cell_1_layer_call_and_return_conditional_losses while saving (showing 5 of 5). These functions will not be directly callable after loading.\n"
     ]
    },
    {
     "name": "stdout",
     "output_type": "stream",
     "text": [
      "INFO:tensorflow:Assets written to: model5\\assets\n"
     ]
    },
    {
     "name": "stderr",
     "output_type": "stream",
     "text": [
      "INFO:tensorflow:Assets written to: model5\\assets\n"
     ]
    },
    {
     "name": "stdout",
     "output_type": "stream",
     "text": [
      "Epoch 20/50\n",
      "63/63 [==============================] - 0s 3ms/step - loss: 5.4941e-04 - root_mean_squared_error: 0.0234 - val_loss: 2.5825e-04 - val_root_mean_squared_error: 0.0161\n",
      "Epoch 21/50\n",
      "63/63 [==============================] - 0s 3ms/step - loss: 5.2250e-04 - root_mean_squared_error: 0.0229 - val_loss: 2.3997e-04 - val_root_mean_squared_error: 0.0155\n",
      "Epoch 22/50\n",
      "63/63 [==============================] - 0s 3ms/step - loss: 5.3348e-04 - root_mean_squared_error: 0.0231 - val_loss: 1.8083e-04 - val_root_mean_squared_error: 0.0134\n"
     ]
    },
    {
     "name": "stderr",
     "output_type": "stream",
     "text": [
      "WARNING:absl:Found untraced functions such as lstm_cell_1_layer_call_fn, lstm_cell_1_layer_call_and_return_conditional_losses, lstm_cell_1_layer_call_fn, lstm_cell_1_layer_call_and_return_conditional_losses, lstm_cell_1_layer_call_and_return_conditional_losses while saving (showing 5 of 5). These functions will not be directly callable after loading.\n"
     ]
    },
    {
     "name": "stdout",
     "output_type": "stream",
     "text": [
      "INFO:tensorflow:Assets written to: model5\\assets\n"
     ]
    },
    {
     "name": "stderr",
     "output_type": "stream",
     "text": [
      "INFO:tensorflow:Assets written to: model5\\assets\n"
     ]
    },
    {
     "name": "stdout",
     "output_type": "stream",
     "text": [
      "Epoch 23/50\n",
      "63/63 [==============================] - 0s 3ms/step - loss: 4.9158e-04 - root_mean_squared_error: 0.0222 - val_loss: 1.7579e-04 - val_root_mean_squared_error: 0.0133\n"
     ]
    },
    {
     "name": "stderr",
     "output_type": "stream",
     "text": [
      "WARNING:absl:Found untraced functions such as lstm_cell_1_layer_call_fn, lstm_cell_1_layer_call_and_return_conditional_losses, lstm_cell_1_layer_call_fn, lstm_cell_1_layer_call_and_return_conditional_losses, lstm_cell_1_layer_call_and_return_conditional_losses while saving (showing 5 of 5). These functions will not be directly callable after loading.\n"
     ]
    },
    {
     "name": "stdout",
     "output_type": "stream",
     "text": [
      "INFO:tensorflow:Assets written to: model5\\assets\n"
     ]
    },
    {
     "name": "stderr",
     "output_type": "stream",
     "text": [
      "INFO:tensorflow:Assets written to: model5\\assets\n"
     ]
    },
    {
     "name": "stdout",
     "output_type": "stream",
     "text": [
      "Epoch 24/50\n",
      "63/63 [==============================] - 0s 3ms/step - loss: 4.8489e-04 - root_mean_squared_error: 0.0220 - val_loss: 1.7011e-04 - val_root_mean_squared_error: 0.0130\n"
     ]
    },
    {
     "name": "stderr",
     "output_type": "stream",
     "text": [
      "WARNING:absl:Found untraced functions such as lstm_cell_1_layer_call_fn, lstm_cell_1_layer_call_and_return_conditional_losses, lstm_cell_1_layer_call_fn, lstm_cell_1_layer_call_and_return_conditional_losses, lstm_cell_1_layer_call_and_return_conditional_losses while saving (showing 5 of 5). These functions will not be directly callable after loading.\n"
     ]
    },
    {
     "name": "stdout",
     "output_type": "stream",
     "text": [
      "INFO:tensorflow:Assets written to: model5\\assets\n"
     ]
    },
    {
     "name": "stderr",
     "output_type": "stream",
     "text": [
      "INFO:tensorflow:Assets written to: model5\\assets\n"
     ]
    },
    {
     "name": "stdout",
     "output_type": "stream",
     "text": [
      "Epoch 25/50\n",
      "63/63 [==============================] - 0s 3ms/step - loss: 4.5427e-04 - root_mean_squared_error: 0.0213 - val_loss: 1.6255e-04 - val_root_mean_squared_error: 0.0127\n"
     ]
    },
    {
     "name": "stderr",
     "output_type": "stream",
     "text": [
      "WARNING:absl:Found untraced functions such as lstm_cell_1_layer_call_fn, lstm_cell_1_layer_call_and_return_conditional_losses, lstm_cell_1_layer_call_fn, lstm_cell_1_layer_call_and_return_conditional_losses, lstm_cell_1_layer_call_and_return_conditional_losses while saving (showing 5 of 5). These functions will not be directly callable after loading.\n"
     ]
    },
    {
     "name": "stdout",
     "output_type": "stream",
     "text": [
      "INFO:tensorflow:Assets written to: model5\\assets\n"
     ]
    },
    {
     "name": "stderr",
     "output_type": "stream",
     "text": [
      "INFO:tensorflow:Assets written to: model5\\assets\n"
     ]
    },
    {
     "name": "stdout",
     "output_type": "stream",
     "text": [
      "Epoch 26/50\n",
      "63/63 [==============================] - 0s 3ms/step - loss: 4.5595e-04 - root_mean_squared_error: 0.0213 - val_loss: 1.4358e-04 - val_root_mean_squared_error: 0.0120\n"
     ]
    },
    {
     "name": "stderr",
     "output_type": "stream",
     "text": [
      "WARNING:absl:Found untraced functions such as lstm_cell_1_layer_call_fn, lstm_cell_1_layer_call_and_return_conditional_losses, lstm_cell_1_layer_call_fn, lstm_cell_1_layer_call_and_return_conditional_losses, lstm_cell_1_layer_call_and_return_conditional_losses while saving (showing 5 of 5). These functions will not be directly callable after loading.\n"
     ]
    },
    {
     "name": "stdout",
     "output_type": "stream",
     "text": [
      "INFO:tensorflow:Assets written to: model5\\assets\n"
     ]
    },
    {
     "name": "stderr",
     "output_type": "stream",
     "text": [
      "INFO:tensorflow:Assets written to: model5\\assets\n"
     ]
    },
    {
     "name": "stdout",
     "output_type": "stream",
     "text": [
      "Epoch 27/50\n",
      "63/63 [==============================] - 0s 3ms/step - loss: 4.8384e-04 - root_mean_squared_error: 0.0219 - val_loss: 1.8473e-04 - val_root_mean_squared_error: 0.0136\n",
      "Epoch 28/50\n",
      "63/63 [==============================] - 0s 3ms/step - loss: 3.9224e-04 - root_mean_squared_error: 0.0198 - val_loss: 1.7455e-04 - val_root_mean_squared_error: 0.0132\n",
      "Epoch 29/50\n",
      "63/63 [==============================] - 0s 3ms/step - loss: 3.6914e-04 - root_mean_squared_error: 0.0192 - val_loss: 1.5043e-04 - val_root_mean_squared_error: 0.0123\n",
      "Epoch 30/50\n",
      "63/63 [==============================] - 0s 3ms/step - loss: 3.5791e-04 - root_mean_squared_error: 0.0189 - val_loss: 1.5866e-04 - val_root_mean_squared_error: 0.0126\n",
      "Epoch 31/50\n",
      "63/63 [==============================] - 0s 3ms/step - loss: 3.2003e-04 - root_mean_squared_error: 0.0178 - val_loss: 1.3426e-04 - val_root_mean_squared_error: 0.0116\n"
     ]
    },
    {
     "name": "stderr",
     "output_type": "stream",
     "text": [
      "WARNING:absl:Found untraced functions such as lstm_cell_1_layer_call_fn, lstm_cell_1_layer_call_and_return_conditional_losses, lstm_cell_1_layer_call_fn, lstm_cell_1_layer_call_and_return_conditional_losses, lstm_cell_1_layer_call_and_return_conditional_losses while saving (showing 5 of 5). These functions will not be directly callable after loading.\n"
     ]
    },
    {
     "name": "stdout",
     "output_type": "stream",
     "text": [
      "INFO:tensorflow:Assets written to: model5\\assets\n"
     ]
    },
    {
     "name": "stderr",
     "output_type": "stream",
     "text": [
      "INFO:tensorflow:Assets written to: model5\\assets\n"
     ]
    },
    {
     "name": "stdout",
     "output_type": "stream",
     "text": [
      "Epoch 32/50\n",
      "63/63 [==============================] - 0s 3ms/step - loss: 3.3051e-04 - root_mean_squared_error: 0.0182 - val_loss: 1.1894e-04 - val_root_mean_squared_error: 0.0109\n"
     ]
    },
    {
     "name": "stderr",
     "output_type": "stream",
     "text": [
      "WARNING:absl:Found untraced functions such as lstm_cell_1_layer_call_fn, lstm_cell_1_layer_call_and_return_conditional_losses, lstm_cell_1_layer_call_fn, lstm_cell_1_layer_call_and_return_conditional_losses, lstm_cell_1_layer_call_and_return_conditional_losses while saving (showing 5 of 5). These functions will not be directly callable after loading.\n"
     ]
    },
    {
     "name": "stdout",
     "output_type": "stream",
     "text": [
      "INFO:tensorflow:Assets written to: model5\\assets\n"
     ]
    },
    {
     "name": "stderr",
     "output_type": "stream",
     "text": [
      "INFO:tensorflow:Assets written to: model5\\assets\n"
     ]
    },
    {
     "name": "stdout",
     "output_type": "stream",
     "text": [
      "Epoch 33/50\n",
      "63/63 [==============================] - 0s 3ms/step - loss: 3.5209e-04 - root_mean_squared_error: 0.0187 - val_loss: 1.7576e-04 - val_root_mean_squared_error: 0.0133\n",
      "Epoch 34/50\n",
      "63/63 [==============================] - 0s 3ms/step - loss: 3.2154e-04 - root_mean_squared_error: 0.0179 - val_loss: 1.0489e-04 - val_root_mean_squared_error: 0.0102\n"
     ]
    },
    {
     "name": "stderr",
     "output_type": "stream",
     "text": [
      "WARNING:absl:Found untraced functions such as lstm_cell_1_layer_call_fn, lstm_cell_1_layer_call_and_return_conditional_losses, lstm_cell_1_layer_call_fn, lstm_cell_1_layer_call_and_return_conditional_losses, lstm_cell_1_layer_call_and_return_conditional_losses while saving (showing 5 of 5). These functions will not be directly callable after loading.\n"
     ]
    },
    {
     "name": "stdout",
     "output_type": "stream",
     "text": [
      "INFO:tensorflow:Assets written to: model5\\assets\n"
     ]
    },
    {
     "name": "stderr",
     "output_type": "stream",
     "text": [
      "INFO:tensorflow:Assets written to: model5\\assets\n"
     ]
    },
    {
     "name": "stdout",
     "output_type": "stream",
     "text": [
      "Epoch 35/50\n",
      "63/63 [==============================] - 0s 3ms/step - loss: 2.9798e-04 - root_mean_squared_error: 0.0172 - val_loss: 8.5550e-05 - val_root_mean_squared_error: 0.0092\n"
     ]
    },
    {
     "name": "stderr",
     "output_type": "stream",
     "text": [
      "WARNING:absl:Found untraced functions such as lstm_cell_1_layer_call_fn, lstm_cell_1_layer_call_and_return_conditional_losses, lstm_cell_1_layer_call_fn, lstm_cell_1_layer_call_and_return_conditional_losses, lstm_cell_1_layer_call_and_return_conditional_losses while saving (showing 5 of 5). These functions will not be directly callable after loading.\n"
     ]
    },
    {
     "name": "stdout",
     "output_type": "stream",
     "text": [
      "INFO:tensorflow:Assets written to: model5\\assets\n"
     ]
    },
    {
     "name": "stderr",
     "output_type": "stream",
     "text": [
      "INFO:tensorflow:Assets written to: model5\\assets\n"
     ]
    },
    {
     "name": "stdout",
     "output_type": "stream",
     "text": [
      "Epoch 36/50\n",
      "63/63 [==============================] - 0s 3ms/step - loss: 2.6041e-04 - root_mean_squared_error: 0.0161 - val_loss: 6.6808e-05 - val_root_mean_squared_error: 0.0082\n"
     ]
    },
    {
     "name": "stderr",
     "output_type": "stream",
     "text": [
      "WARNING:absl:Found untraced functions such as lstm_cell_1_layer_call_fn, lstm_cell_1_layer_call_and_return_conditional_losses, lstm_cell_1_layer_call_fn, lstm_cell_1_layer_call_and_return_conditional_losses, lstm_cell_1_layer_call_and_return_conditional_losses while saving (showing 5 of 5). These functions will not be directly callable after loading.\n"
     ]
    },
    {
     "name": "stdout",
     "output_type": "stream",
     "text": [
      "INFO:tensorflow:Assets written to: model5\\assets\n"
     ]
    },
    {
     "name": "stderr",
     "output_type": "stream",
     "text": [
      "INFO:tensorflow:Assets written to: model5\\assets\n"
     ]
    },
    {
     "name": "stdout",
     "output_type": "stream",
     "text": [
      "Epoch 37/50\n",
      "63/63 [==============================] - 0s 3ms/step - loss: 2.8360e-04 - root_mean_squared_error: 0.0168 - val_loss: 1.0997e-04 - val_root_mean_squared_error: 0.0105\n",
      "Epoch 38/50\n",
      "63/63 [==============================] - 0s 3ms/step - loss: 2.8526e-04 - root_mean_squared_error: 0.0169 - val_loss: 6.3344e-05 - val_root_mean_squared_error: 0.0080\n"
     ]
    },
    {
     "name": "stderr",
     "output_type": "stream",
     "text": [
      "WARNING:absl:Found untraced functions such as lstm_cell_1_layer_call_fn, lstm_cell_1_layer_call_and_return_conditional_losses, lstm_cell_1_layer_call_fn, lstm_cell_1_layer_call_and_return_conditional_losses, lstm_cell_1_layer_call_and_return_conditional_losses while saving (showing 5 of 5). These functions will not be directly callable after loading.\n"
     ]
    },
    {
     "name": "stdout",
     "output_type": "stream",
     "text": [
      "INFO:tensorflow:Assets written to: model5\\assets\n"
     ]
    },
    {
     "name": "stderr",
     "output_type": "stream",
     "text": [
      "INFO:tensorflow:Assets written to: model5\\assets\n"
     ]
    },
    {
     "name": "stdout",
     "output_type": "stream",
     "text": [
      "Epoch 39/50\n",
      "63/63 [==============================] - 0s 3ms/step - loss: 2.7415e-04 - root_mean_squared_error: 0.0165 - val_loss: 1.3306e-04 - val_root_mean_squared_error: 0.0115\n",
      "Epoch 40/50\n",
      "63/63 [==============================] - 0s 3ms/step - loss: 2.6108e-04 - root_mean_squared_error: 0.0162 - val_loss: 1.0619e-04 - val_root_mean_squared_error: 0.0103\n",
      "Epoch 41/50\n",
      "63/63 [==============================] - 0s 3ms/step - loss: 2.5222e-04 - root_mean_squared_error: 0.0159 - val_loss: 1.1141e-04 - val_root_mean_squared_error: 0.0106\n",
      "Epoch 42/50\n",
      "63/63 [==============================] - 0s 3ms/step - loss: 2.4089e-04 - root_mean_squared_error: 0.0155 - val_loss: 1.1825e-04 - val_root_mean_squared_error: 0.0109\n",
      "Epoch 43/50\n",
      "63/63 [==============================] - 0s 3ms/step - loss: 2.4787e-04 - root_mean_squared_error: 0.0157 - val_loss: 1.0736e-04 - val_root_mean_squared_error: 0.0104\n",
      "Epoch 44/50\n",
      "63/63 [==============================] - 0s 3ms/step - loss: 2.5198e-04 - root_mean_squared_error: 0.0158 - val_loss: 8.5729e-05 - val_root_mean_squared_error: 0.0093\n",
      "Epoch 45/50\n",
      "63/63 [==============================] - 0s 3ms/step - loss: 2.5497e-04 - root_mean_squared_error: 0.0160 - val_loss: 5.6153e-05 - val_root_mean_squared_error: 0.0075\n"
     ]
    },
    {
     "name": "stderr",
     "output_type": "stream",
     "text": [
      "WARNING:absl:Found untraced functions such as lstm_cell_1_layer_call_fn, lstm_cell_1_layer_call_and_return_conditional_losses, lstm_cell_1_layer_call_fn, lstm_cell_1_layer_call_and_return_conditional_losses, lstm_cell_1_layer_call_and_return_conditional_losses while saving (showing 5 of 5). These functions will not be directly callable after loading.\n"
     ]
    },
    {
     "name": "stdout",
     "output_type": "stream",
     "text": [
      "INFO:tensorflow:Assets written to: model5\\assets\n"
     ]
    },
    {
     "name": "stderr",
     "output_type": "stream",
     "text": [
      "INFO:tensorflow:Assets written to: model5\\assets\n"
     ]
    },
    {
     "name": "stdout",
     "output_type": "stream",
     "text": [
      "Epoch 46/50\n",
      "63/63 [==============================] - 0s 3ms/step - loss: 2.3123e-04 - root_mean_squared_error: 0.0152 - val_loss: 7.0763e-05 - val_root_mean_squared_error: 0.0084\n",
      "Epoch 47/50\n",
      "63/63 [==============================] - 0s 3ms/step - loss: 2.2244e-04 - root_mean_squared_error: 0.0149 - val_loss: 5.4067e-05 - val_root_mean_squared_error: 0.0074\n"
     ]
    },
    {
     "name": "stderr",
     "output_type": "stream",
     "text": [
      "WARNING:absl:Found untraced functions such as lstm_cell_1_layer_call_fn, lstm_cell_1_layer_call_and_return_conditional_losses, lstm_cell_1_layer_call_fn, lstm_cell_1_layer_call_and_return_conditional_losses, lstm_cell_1_layer_call_and_return_conditional_losses while saving (showing 5 of 5). These functions will not be directly callable after loading.\n"
     ]
    },
    {
     "name": "stdout",
     "output_type": "stream",
     "text": [
      "INFO:tensorflow:Assets written to: model5\\assets\n"
     ]
    },
    {
     "name": "stderr",
     "output_type": "stream",
     "text": [
      "INFO:tensorflow:Assets written to: model5\\assets\n"
     ]
    },
    {
     "name": "stdout",
     "output_type": "stream",
     "text": [
      "Epoch 48/50\n",
      "63/63 [==============================] - 0s 3ms/step - loss: 2.3419e-04 - root_mean_squared_error: 0.0153 - val_loss: 1.0524e-04 - val_root_mean_squared_error: 0.0103\n",
      "Epoch 49/50\n",
      "63/63 [==============================] - 0s 3ms/step - loss: 2.3552e-04 - root_mean_squared_error: 0.0153 - val_loss: 5.8591e-05 - val_root_mean_squared_error: 0.0077\n",
      "Epoch 50/50\n",
      "63/63 [==============================] - 0s 3ms/step - loss: 2.1466e-04 - root_mean_squared_error: 0.0146 - val_loss: 6.4043e-05 - val_root_mean_squared_error: 0.0080\n"
     ]
    },
    {
     "data": {
      "text/plain": [
       "<tensorflow.python.keras.callbacks.History at 0x2acbd654f70>"
      ]
     },
     "execution_count": 20,
     "metadata": {},
     "output_type": "execute_result"
    }
   ],
   "source": [
    "model5.fit(X3_train, y3_train, validation_data=(X3_val, y3_val), epochs=50, callbacks=[cp5])"
   ]
  },
  {
   "cell_type": "code",
   "execution_count": 33,
   "metadata": {},
   "outputs": [
    {
     "name": "stdout",
     "output_type": "stream",
     "text": [
      "6.851332547219246e-05 0.6242117107565621 0.12471040057346115\n"
     ]
    },
    {
     "data": {
      "text/html": [
       "<div>\n",
       "<style scoped>\n",
       "    .dataframe tbody tr th:only-of-type {\n",
       "        vertical-align: middle;\n",
       "    }\n",
       "\n",
       "    .dataframe tbody tr th {\n",
       "        vertical-align: top;\n",
       "    }\n",
       "\n",
       "    .dataframe thead th {\n",
       "        text-align: right;\n",
       "    }\n",
       "</style>\n",
       "<table border=\"1\" class=\"dataframe\">\n",
       "  <thead>\n",
       "    <tr style=\"text-align: right;\">\n",
       "      <th></th>\n",
       "      <th>Predictions</th>\n",
       "      <th>Actuals</th>\n",
       "    </tr>\n",
       "  </thead>\n",
       "  <tbody>\n",
       "    <tr>\n",
       "      <th>0</th>\n",
       "      <td>0.073385</td>\n",
       "      <td>0.068645</td>\n",
       "    </tr>\n",
       "    <tr>\n",
       "      <th>1</th>\n",
       "      <td>0.072509</td>\n",
       "      <td>0.059088</td>\n",
       "    </tr>\n",
       "    <tr>\n",
       "      <th>2</th>\n",
       "      <td>0.066878</td>\n",
       "      <td>0.059466</td>\n",
       "    </tr>\n",
       "    <tr>\n",
       "      <th>3</th>\n",
       "      <td>0.060737</td>\n",
       "      <td>0.051650</td>\n",
       "    </tr>\n",
       "    <tr>\n",
       "      <th>4</th>\n",
       "      <td>0.055585</td>\n",
       "      <td>0.052649</td>\n",
       "    </tr>\n",
       "    <tr>\n",
       "      <th>...</th>\n",
       "      <td>...</td>\n",
       "      <td>...</td>\n",
       "    </tr>\n",
       "    <tr>\n",
       "      <th>436</th>\n",
       "      <td>0.056139</td>\n",
       "      <td>0.052057</td>\n",
       "    </tr>\n",
       "    <tr>\n",
       "      <th>437</th>\n",
       "      <td>0.049812</td>\n",
       "      <td>0.044937</td>\n",
       "    </tr>\n",
       "    <tr>\n",
       "      <th>438</th>\n",
       "      <td>0.050695</td>\n",
       "      <td>0.048803</td>\n",
       "    </tr>\n",
       "    <tr>\n",
       "      <th>439</th>\n",
       "      <td>0.050667</td>\n",
       "      <td>0.049585</td>\n",
       "    </tr>\n",
       "    <tr>\n",
       "      <th>440</th>\n",
       "      <td>0.053863</td>\n",
       "      <td>0.046653</td>\n",
       "    </tr>\n",
       "  </tbody>\n",
       "</table>\n",
       "<p>441 rows × 2 columns</p>\n",
       "</div>"
      ],
      "text/plain": [
       "     Predictions   Actuals\n",
       "0       0.073385  0.068645\n",
       "1       0.072509  0.059088\n",
       "2       0.066878  0.059466\n",
       "3       0.060737  0.051650\n",
       "4       0.055585  0.052649\n",
       "..           ...       ...\n",
       "436     0.056139  0.052057\n",
       "437     0.049812  0.044937\n",
       "438     0.050695  0.048803\n",
       "439     0.050667  0.049585\n",
       "440     0.053863  0.046653\n",
       "\n",
       "[441 rows x 2 columns]"
      ]
     },
     "execution_count": 33,
     "metadata": {},
     "output_type": "execute_result"
    },
    {
     "data": {
      "image/png": "[encoded data removed]",
      "text/plain": [
       "<Figure size 640x480 with 1 Axes>"
      ]
     },
     "metadata": {},
     "output_type": "display_data"
    }
   ],
   "source": [
    "final, mse_value, r2_value, mape_value = plot_predictions1(model5, X3_test, y3_test)\n",
    "print(mse_value,r2_value,mape_value)\n",
    "final\n",
    "\n"
   ]
  },
  {
   "cell_type": "code",
   "execution_count": 30,
   "metadata": {},
   "outputs": [
    {
     "data": {
      "text/html": [
       "<div>\n",
       "<style scoped>\n",
       "    .dataframe tbody tr th:only-of-type {\n",
       "        vertical-align: middle;\n",
       "    }\n",
       "\n",
       "    .dataframe tbody tr th {\n",
       "        vertical-align: top;\n",
       "    }\n",
       "\n",
       "    .dataframe thead th {\n",
       "        text-align: right;\n",
       "    }\n",
       "</style>\n",
       "<table border=\"1\" class=\"dataframe\">\n",
       "  <thead>\n",
       "    <tr style=\"text-align: right;\">\n",
       "      <th></th>\n",
       "      <th>Test Predictions</th>\n",
       "      <th>Actuals</th>\n",
       "    </tr>\n",
       "    <tr>\n",
       "      <th>DateTime</th>\n",
       "      <th></th>\n",
       "      <th></th>\n",
       "    </tr>\n",
       "  </thead>\n",
       "  <tbody>\n",
       "    <tr>\n",
       "      <th>2020-11-12 15:00:00</th>\n",
       "      <td>0.073385</td>\n",
       "      <td>0.068645</td>\n",
       "    </tr>\n",
       "    <tr>\n",
       "      <th>2020-11-12 16:00:00</th>\n",
       "      <td>0.072509</td>\n",
       "      <td>0.059088</td>\n",
       "    </tr>\n",
       "    <tr>\n",
       "      <th>2020-11-12 17:00:00</th>\n",
       "      <td>0.066878</td>\n",
       "      <td>0.059466</td>\n",
       "    </tr>\n",
       "    <tr>\n",
       "      <th>2020-11-12 18:00:00</th>\n",
       "      <td>0.060737</td>\n",
       "      <td>0.051650</td>\n",
       "    </tr>\n",
       "    <tr>\n",
       "      <th>2020-11-12 19:00:00</th>\n",
       "      <td>0.055585</td>\n",
       "      <td>0.052649</td>\n",
       "    </tr>\n",
       "    <tr>\n",
       "      <th>...</th>\n",
       "      <td>...</td>\n",
       "      <td>...</td>\n",
       "    </tr>\n",
       "    <tr>\n",
       "      <th>2020-11-30 19:00:00</th>\n",
       "      <td>0.056139</td>\n",
       "      <td>0.052057</td>\n",
       "    </tr>\n",
       "    <tr>\n",
       "      <th>2020-11-30 20:00:00</th>\n",
       "      <td>0.049812</td>\n",
       "      <td>0.044937</td>\n",
       "    </tr>\n",
       "    <tr>\n",
       "      <th>2020-11-30 21:00:00</th>\n",
       "      <td>0.050695</td>\n",
       "      <td>0.048803</td>\n",
       "    </tr>\n",
       "    <tr>\n",
       "      <th>2020-11-30 22:00:00</th>\n",
       "      <td>0.050667</td>\n",
       "      <td>0.049585</td>\n",
       "    </tr>\n",
       "    <tr>\n",
       "      <th>2020-11-30 23:00:00</th>\n",
       "      <td>0.053863</td>\n",
       "      <td>0.046653</td>\n",
       "    </tr>\n",
       "  </tbody>\n",
       "</table>\n",
       "<p>441 rows × 2 columns</p>\n",
       "</div>"
      ],
      "text/plain": [
       "                     Test Predictions   Actuals\n",
       "DateTime                                       \n",
       "2020-11-12 15:00:00          0.073385  0.068645\n",
       "2020-11-12 16:00:00          0.072509  0.059088\n",
       "2020-11-12 17:00:00          0.066878  0.059466\n",
       "2020-11-12 18:00:00          0.060737  0.051650\n",
       "2020-11-12 19:00:00          0.055585  0.052649\n",
       "...                               ...       ...\n",
       "2020-11-30 19:00:00          0.056139  0.052057\n",
       "2020-11-30 20:00:00          0.049812  0.044937\n",
       "2020-11-30 21:00:00          0.050695  0.048803\n",
       "2020-11-30 22:00:00          0.050667  0.049585\n",
       "2020-11-30 23:00:00          0.053863  0.046653\n",
       "\n",
       "[441 rows x 2 columns]"
      ]
     },
     "execution_count": 30,
     "metadata": {},
     "output_type": "execute_result"
    }
   ],
   "source": [
    "\n",
    "# final=final.set_index(df['DateTime'][2437:].index)\n",
    "# print(final)\n",
    "test_predictions = model5.predict(X3_test).flatten()\n",
    "test_results = pd.DataFrame(data={'Test Predictions':test_predictions, 'Actuals':y_test1},index=df['DateTime'][2437:].index)\n",
    "test_results"
   ]
  },
  {
   "cell_type": "code",
   "execution_count": 31,
   "metadata": {},
   "outputs": [
    {
     "data": {
      "text/plain": [
       "Text(0, 0.5, 'Active Power in MW')"
      ]
     },
     "execution_count": 31,
     "metadata": {},
     "output_type": "execute_result"
    },
    {
     "data": {
      "image/png": "[encoded data removed]",
      "text/plain": [
       "<Figure size 640x480 with 1 Axes>"
      ]
     },
     "metadata": {},
     "output_type": "display_data"
    }
   ],
   "source": [
    "import matplotlib.dates as mdates\n",
    "plt.gca().xaxis.set_major_formatter(mdates.DateFormatter('%m'))\n",
    "fig=plt.plot(target)#[:100])    \n",
    "fig=plt.plot(test_results['Test Predictions']) \n",
    "plt.legend(['Actuals','Test Predictions'])    \n",
    "plt.xlabel(\"Months/2020\")\n",
    "plt.ylabel(\"Active Power in MW\")"
   ]
  },
  {
   "cell_type": "code",
   "execution_count": null,
   "metadata": {},
   "outputs": [],
   "source": []
  }
 ],
 "metadata": {
  "kernelspec": {
   "display_name": "Python 3",
   "language": "python",
   "name": "python3"
  },
  "language_info": {
   "codemirror_mode": {
    "name": "ipython",
    "version": 3
   },
   "file_extension": ".py",
   "mimetype": "text/x-python",
   "name": "python",
   "nbconvert_exporter": "python",
   "pygments_lexer": "ipython3",
   "version": "3.9.13"
  },
  "orig_nbformat": 4,
  "vscode": {
   "interpreter": {
    "hash": "ffbc056fd71819a0e5d2fac0c7ab3ce08860f1834608a4b2098697b8cc1bc442"
   }
  }
 },
 "nbformat": 4,
 "nbformat_minor": 2
}
