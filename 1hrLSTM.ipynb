{
 "cells": [
  {
   "cell_type": "code",
   "execution_count": 1,
   "metadata": {},
   "outputs": [
    {
     "name": "stdout",
     "output_type": "stream",
     "text": [
      "INFO:tensorflow:Enabling eager execution\n",
      "INFO:tensorflow:Enabling v2 tensorshape\n",
      "INFO:tensorflow:Enabling resource variables\n",
      "INFO:tensorflow:Enabling tensor equality\n",
      "INFO:tensorflow:Enabling control flow v2\n"
     ]
    }
   ],
   "source": [
    "#TIME WINDOW = 1HR\n",
    "import tensorflow as tf\n",
    "import pandas as pd \n",
    "import numpy as np\n",
    "import matplotlib.pyplot as plt\n",
    "from tensorflow.keras.models import Sequential\n",
    "from tensorflow.keras.layers import *\n",
    "from tensorflow.keras.callbacks import ModelCheckpoint\n",
    "from tensorflow.keras.losses import MeanSquaredError\n",
    "from tensorflow.keras.metrics import RootMeanSquaredError\n",
    "from tensorflow.keras.optimizers import Adam"
   ]
  },
  {
   "cell_type": "code",
   "execution_count": 2,
   "metadata": {},
   "outputs": [
    {
     "name": "stdout",
     "output_type": "stream",
     "text": [
      "                               DateTime  Voltage Line 1 [V]  \\\n",
      "DateTime                                                      \n",
      "2020-08-02 00:00:00 2020-08-02 00:00:00              232.39   \n",
      "2020-08-02 01:00:00 2020-08-02 01:00:00              234.30   \n",
      "2020-08-02 02:00:00 2020-08-02 02:00:00              234.14   \n",
      "2020-08-02 03:00:00 2020-08-02 03:00:00              234.99   \n",
      "2020-08-02 04:00:00 2020-08-02 04:00:00              233.60   \n",
      "...                                 ...                 ...   \n",
      "2020-11-30 19:00:00 2020-11-30 19:00:00              233.59   \n",
      "2020-11-30 20:00:00 2020-11-30 20:00:00              233.99   \n",
      "2020-11-30 21:00:00 2020-11-30 21:00:00              233.38   \n",
      "2020-11-30 22:00:00 2020-11-30 22:00:00              233.50   \n",
      "2020-11-30 23:00:00 2020-11-30 23:00:00              232.89   \n",
      "\n",
      "                     Voltage Line 2 [V]  Voltage Line 3 [V]  \\\n",
      "DateTime                                                      \n",
      "2020-08-02 00:00:00              232.27              230.53   \n",
      "2020-08-02 01:00:00              234.51              232.35   \n",
      "2020-08-02 02:00:00              233.59              231.74   \n",
      "2020-08-02 03:00:00              234.59              232.55   \n",
      "2020-08-02 04:00:00              233.55              231.91   \n",
      "...                                 ...                 ...   \n",
      "2020-11-30 19:00:00              233.42              231.93   \n",
      "2020-11-30 20:00:00              234.11              232.65   \n",
      "2020-11-30 21:00:00              233.19              231.41   \n",
      "2020-11-30 22:00:00              232.91              231.56   \n",
      "2020-11-30 23:00:00              232.31              230.59   \n",
      "\n",
      "                     Current in Line 1 [Amp]  Current in Line 2 [Amp]  \\\n",
      "DateTime                                                                \n",
      "2020-08-02 00:00:00                    80.68                    78.04   \n",
      "2020-08-02 01:00:00                    92.21                    78.21   \n",
      "2020-08-02 02:00:00                    80.72                    69.16   \n",
      "2020-08-02 03:00:00                    85.04                    72.15   \n",
      "2020-08-02 04:00:00                    81.88                    65.06   \n",
      "...                                      ...                      ...   \n",
      "2020-11-30 19:00:00                    75.79                    82.21   \n",
      "2020-11-30 20:00:00                    72.91                    62.53   \n",
      "2020-11-30 21:00:00                    70.29                    72.40   \n",
      "2020-11-30 22:00:00                    80.09                    76.39   \n",
      "2020-11-30 23:00:00                    69.22                    72.51   \n",
      "\n",
      "                     Current in Line 3 [Amp]  \\\n",
      "DateTime                                       \n",
      "2020-08-02 00:00:00                    91.81   \n",
      "2020-08-02 01:00:00                    91.04   \n",
      "2020-08-02 02:00:00                    80.74   \n",
      "2020-08-02 03:00:00                    88.16   \n",
      "2020-08-02 04:00:00                    81.17   \n",
      "...                                      ...   \n",
      "2020-11-30 19:00:00                    78.28   \n",
      "2020-11-30 20:00:00                    67.83   \n",
      "2020-11-30 21:00:00                    81.45   \n",
      "2020-11-30 22:00:00                    71.99   \n",
      "2020-11-30 23:00:00                    74.78   \n",
      "\n",
      "                     Combined Active Power Line 1+2 +3 (watt)  \\\n",
      "DateTime                                                        \n",
      "2020-08-02 00:00:00                                  56683.98   \n",
      "2020-08-02 01:00:00                                  59487.19   \n",
      "2020-08-02 02:00:00                                  52798.79   \n",
      "2020-08-02 03:00:00                                  55698.04   \n",
      "2020-08-02 04:00:00                                  52330.48   \n",
      "...                                                       ...   \n",
      "2020-11-30 19:00:00                                  52057.36   \n",
      "2020-11-30 20:00:00                                  44937.44   \n",
      "2020-11-30 21:00:00                                  48802.58   \n",
      "2020-11-30 22:00:00                                  49585.46   \n",
      "2020-11-30 23:00:00                                  46653.30   \n",
      "\n",
      "                     Combined Apparent Power Line 1+2+3  \\\n",
      "DateTime                                                  \n",
      "2020-08-02 00:00:00                            57983.59   \n",
      "2020-08-02 01:00:00                            61091.12   \n",
      "2020-08-02 02:00:00                            53770.52   \n",
      "2020-08-02 03:00:00                            57424.54   \n",
      "2020-08-02 04:00:00                            53163.79   \n",
      "...                                                 ...   \n",
      "2020-11-30 19:00:00                            55031.18   \n",
      "2020-11-30 20:00:00                            47462.15   \n",
      "2020-11-30 21:00:00                            52115.82   \n",
      "2020-11-30 22:00:00                            53158.36   \n",
      "2020-11-30 23:00:00                            50223.58   \n",
      "\n",
      "                     Combined Reactive Power Line 1+2+3  ...  \\\n",
      "DateTime                                                 ...   \n",
      "2020-08-02 00:00:00                            11684.22  ...   \n",
      "2020-08-02 01:00:00                            13601.32  ...   \n",
      "2020-08-02 02:00:00                             8885.98  ...   \n",
      "2020-08-02 03:00:00                            13030.89  ...   \n",
      "2020-08-02 04:00:00                             8584.88  ...   \n",
      "...                                                 ...  ...   \n",
      "2020-11-30 19:00:00                            17593.00  ...   \n",
      "2020-11-30 20:00:00                            15053.53  ...   \n",
      "2020-11-30 21:00:00                            18048.29  ...   \n",
      "2020-11-30 22:00:00                            18749.11  ...   \n",
      "2020-11-30 23:00:00                            18488.18  ...   \n",
      "\n",
      "                     Current Neutral Line  Total Current in Line 1+2+3  \\\n",
      "DateTime                                                                 \n",
      "2020-08-02 00:00:00                 18.17                       250.42   \n",
      "2020-08-02 01:00:00                 23.96                       261.31   \n",
      "2020-08-02 02:00:00                 25.79                       230.61   \n",
      "2020-08-02 03:00:00                 24.14                       245.26   \n",
      "2020-08-02 04:00:00                 25.93                       228.12   \n",
      "...                                   ...                          ...   \n",
      "2020-11-30 19:00:00                  6.32                       236.15   \n",
      "2020-11-30 20:00:00                 17.59                       203.26   \n",
      "2020-11-30 21:00:00                 11.32                       224.24   \n",
      "2020-11-30 22:00:00                 11.08                       228.40   \n",
      "2020-11-30 23:00:00                  6.16                       216.55   \n",
      "\n",
      "                     Active Total Energy (Wh) [Wh]  \\\n",
      "DateTime                                             \n",
      "2020-08-02 00:00:00                     4282350848   \n",
      "2020-08-02 01:00:00                     4282409472   \n",
      "2020-08-02 02:00:00                     4282467584   \n",
      "2020-08-02 03:00:00                     4282525952   \n",
      "2020-08-02 04:00:00                     4282584320   \n",
      "...                                            ...   \n",
      "2020-11-30 19:00:00                     4480172544   \n",
      "2020-11-30 20:00:00                     4480225792   \n",
      "2020-11-30 21:00:00                     4480275968   \n",
      "2020-11-30 22:00:00                     4480325120   \n",
      "2020-11-30 23:00:00                     4480373248   \n",
      "\n",
      "                     Reactive Total Energy (VARh) [VARh]  \\\n",
      "DateTime                                                   \n",
      "2020-08-02 00:00:00                           1891807744   \n",
      "2020-08-02 01:00:00                           1891820160   \n",
      "2020-08-02 02:00:00                           1891832064   \n",
      "2020-08-02 03:00:00                           1891843968   \n",
      "2020-08-02 04:00:00                           1891856896   \n",
      "...                                                  ...   \n",
      "2020-11-30 19:00:00                           1972983680   \n",
      "2020-11-30 20:00:00                           1973002752   \n",
      "2020-11-30 21:00:00                           1973021568   \n",
      "2020-11-30 22:00:00                           1973040000   \n",
      "2020-11-30 23:00:00                           1973057152   \n",
      "\n",
      "                     Apparent Total Energy (Vah) [Vah]  Temp    Hi   Low  \\\n",
      "DateTime                                                                   \n",
      "2020-08-02 00:00:00                         4681609216  28.7  29.6  27.6   \n",
      "2020-08-02 01:00:00                         4681668096  26.0  27.4  25.2   \n",
      "2020-08-02 02:00:00                         4681725952  25.9  26.9  25.1   \n",
      "2020-08-02 03:00:00                         4681783808  25.3  26.4  24.4   \n",
      "2020-08-02 04:00:00                         4681842688  24.7  26.3  24.1   \n",
      "...                                                ...   ...   ...   ...   \n",
      "2020-11-30 19:00:00                         4895366656  14.4  15.1  14.1   \n",
      "2020-11-30 20:00:00                         4895422464  13.7  14.2  13.3   \n",
      "2020-11-30 21:00:00                         4895476224  13.4  13.7  13.2   \n",
      "2020-11-30 22:00:00                         4895528960  13.2  13.7  12.7   \n",
      "2020-11-30 23:00:00                         4895579648  12.8  13.4  12.6   \n",
      "\n",
      "                     Active Total Energy in MWh  Combined Active Power in MW  \n",
      "DateTime                                                                      \n",
      "2020-08-02 00:00:00                 4282.350848                     0.056684  \n",
      "2020-08-02 01:00:00                 4282.409472                     0.059487  \n",
      "2020-08-02 02:00:00                 4282.467584                     0.052799  \n",
      "2020-08-02 03:00:00                 4282.525952                     0.055698  \n",
      "2020-08-02 04:00:00                 4282.584320                     0.052330  \n",
      "...                                         ...                          ...  \n",
      "2020-11-30 19:00:00                 4480.172544                     0.052057  \n",
      "2020-11-30 20:00:00                 4480.225792                     0.044937  \n",
      "2020-11-30 21:00:00                 4480.275968                     0.048803  \n",
      "2020-11-30 22:00:00                 4480.325120                     0.049585  \n",
      "2020-11-30 23:00:00                 4480.373248                     0.046653  \n",
      "\n",
      "[2878 rows x 23 columns]\n"
     ]
    },
    {
     "data": {
      "image/png": "[encoded data removed]",
      "text/plain": [
       "<Figure size 640x480 with 1 Axes>"
      ]
     },
     "metadata": {},
     "output_type": "display_data"
    }
   ],
   "source": [
    "df = pd.read_csv('meter1_combined.csv')\n",
    "df.DateTime = pd.to_datetime(df.DateTime,dayfirst=True)\n",
    "df.index = pd.to_datetime(df['DateTime'], format='%d/%m/%Y %H:%M:%S')\n",
    "df[\"Active Total Energy in MWh\"]= df['Active Total Energy (Wh) [Wh]'].astype(float)/ 1000000\n",
    "df[\"Combined Active Power in MW\"] = df['Combined Active Power Line 1+2 +3 (watt)'].astype(float) / 1000000\n",
    "print(df)\n",
    "df['Combined Active Power in MW'].plot()\n",
    "# plt.show()\n",
    "target= df['Combined Active Power in MW']"
   ]
  },
  {
   "cell_type": "code",
   "execution_count": 3,
   "metadata": {},
   "outputs": [
    {
     "data": {
      "text/plain": [
       "((2877, 1, 1), (2877,))"
      ]
     },
     "execution_count": 3,
     "metadata": {},
     "output_type": "execute_result"
    }
   ],
   "source": [
    "#Convert TimeSeries\n",
    "#MODEL WITH JUST POWER\n",
    "def df_to_X_y(df, window_size=1):\n",
    "  df_as_np = df.to_numpy()\n",
    "  X = []\n",
    "  y = []\n",
    "  for i in range(len(df_as_np)-window_size):\n",
    "    row = [[a] for a in df_as_np[i:i+window_size]]\n",
    "    X.append(row)\n",
    "    label = df_as_np[i+window_size]\n",
    "    y.append(label)\n",
    "  return np.array(X), np.array(y)\n",
    "\n",
    "#Convert TimeSeries\n",
    "#Uses 5 hrs to predict the next hour ....\n",
    "WINDOW_SIZE = 1\n",
    "X1, y1 = df_to_X_y(target, WINDOW_SIZE)\n",
    "X1.shape, y1.shape"
   ]
  },
  {
   "cell_type": "code",
   "execution_count": 4,
   "metadata": {},
   "outputs": [
    {
     "name": "stdout",
     "output_type": "stream",
     "text": [
      "(2000, 1, 1) (2000,) (435, 1, 1) (435,) (442, 1, 1) (442,)\n"
     ]
    }
   ],
   "source": [
    "X_train1, y_train1 = X1[:2000], y1[:2000]\n",
    "X_val1, y_val1 = X1[2000:2435], y1[2000:2435]\n",
    "X_test1, y_test1 = X1[2435:], y1[2435:]\n",
    "print(X_train1.shape, y_train1.shape, X_val1.shape, y_val1.shape, X_test1.shape, y_test1.shape)"
   ]
  },
  {
   "cell_type": "code",
   "execution_count": 5,
   "metadata": {},
   "outputs": [
    {
     "name": "stdout",
     "output_type": "stream",
     "text": [
      "Model: \"sequential\"\n",
      "_________________________________________________________________\n",
      "Layer (type)                 Output Shape              Param #   \n",
      "=================================================================\n",
      "lstm (LSTM)                  (None, 64)                16896     \n",
      "_________________________________________________________________\n",
      "dense (Dense)                (None, 8)                 520       \n",
      "_________________________________________________________________\n",
      "dense_1 (Dense)              (None, 1)                 9         \n",
      "=================================================================\n",
      "Total params: 17,425\n",
      "Trainable params: 17,425\n",
      "Non-trainable params: 0\n",
      "_________________________________________________________________\n"
     ]
    }
   ],
   "source": [
    "model1 = Sequential()\n",
    "model1.add(InputLayer((1, 1)))\n",
    "model1.add(LSTM(64))\n",
    "model1.add(Dense(8, 'relu'))\n",
    "model1.add(Dense(1, 'linear'))\n",
    "\n",
    "model1.summary()"
   ]
  },
  {
   "cell_type": "code",
   "execution_count": 6,
   "metadata": {},
   "outputs": [],
   "source": [
    "cp1 = ModelCheckpoint('model1/', save_best_only=True)\n",
    "model1.compile(loss=MeanSquaredError(), optimizer=Adam(learning_rate=0.0001), metrics=[RootMeanSquaredError()])"
   ]
  },
  {
   "cell_type": "code",
   "execution_count": 7,
   "metadata": {},
   "outputs": [
    {
     "name": "stdout",
     "output_type": "stream",
     "text": [
      "Epoch 1/50\n",
      "63/63 [==============================] - 3s 13ms/step - loss: 0.0052 - root_mean_squared_error: 0.0720 - val_loss: 5.4597e-04 - val_root_mean_squared_error: 0.0234\n"
     ]
    },
    {
     "name": "stderr",
     "output_type": "stream",
     "text": [
      "WARNING:absl:Found untraced functions such as lstm_cell_layer_call_fn, lstm_cell_layer_call_and_return_conditional_losses, lstm_cell_layer_call_fn, lstm_cell_layer_call_and_return_conditional_losses, lstm_cell_layer_call_and_return_conditional_losses while saving (showing 5 of 5). These functions will not be directly callable after loading.\n"
     ]
    },
    {
     "name": "stdout",
     "output_type": "stream",
     "text": [
      "INFO:tensorflow:Assets written to: model1\\assets\n"
     ]
    },
    {
     "name": "stderr",
     "output_type": "stream",
     "text": [
      "INFO:tensorflow:Assets written to: model1\\assets\n"
     ]
    },
    {
     "name": "stdout",
     "output_type": "stream",
     "text": [
      "Epoch 2/50\n",
      "63/63 [==============================] - 0s 2ms/step - loss: 0.0025 - root_mean_squared_error: 0.0494 - val_loss: 1.5921e-04 - val_root_mean_squared_error: 0.0126\n"
     ]
    },
    {
     "name": "stderr",
     "output_type": "stream",
     "text": [
      "WARNING:absl:Found untraced functions such as lstm_cell_layer_call_fn, lstm_cell_layer_call_and_return_conditional_losses, lstm_cell_layer_call_fn, lstm_cell_layer_call_and_return_conditional_losses, lstm_cell_layer_call_and_return_conditional_losses while saving (showing 5 of 5). These functions will not be directly callable after loading.\n"
     ]
    },
    {
     "name": "stdout",
     "output_type": "stream",
     "text": [
      "INFO:tensorflow:Assets written to: model1\\assets\n"
     ]
    },
    {
     "name": "stderr",
     "output_type": "stream",
     "text": [
      "INFO:tensorflow:Assets written to: model1\\assets\n"
     ]
    },
    {
     "name": "stdout",
     "output_type": "stream",
     "text": [
      "Epoch 3/50\n",
      "63/63 [==============================] - 0s 2ms/step - loss: 0.0012 - root_mean_squared_error: 0.0347 - val_loss: 3.9269e-04 - val_root_mean_squared_error: 0.0198\n",
      "Epoch 4/50\n",
      "63/63 [==============================] - 0s 2ms/step - loss: 9.5931e-04 - root_mean_squared_error: 0.0309 - val_loss: 5.5585e-04 - val_root_mean_squared_error: 0.0236\n",
      "Epoch 5/50\n",
      "63/63 [==============================] - 0s 2ms/step - loss: 8.7890e-04 - root_mean_squared_error: 0.0296 - val_loss: 5.8486e-04 - val_root_mean_squared_error: 0.0242\n",
      "Epoch 6/50\n",
      "63/63 [==============================] - 0s 2ms/step - loss: 8.8871e-04 - root_mean_squared_error: 0.0298 - val_loss: 5.7483e-04 - val_root_mean_squared_error: 0.0240\n",
      "Epoch 7/50\n",
      "63/63 [==============================] - 0s 3ms/step - loss: 8.7885e-04 - root_mean_squared_error: 0.0296 - val_loss: 5.4518e-04 - val_root_mean_squared_error: 0.0233\n",
      "Epoch 8/50\n",
      "63/63 [==============================] - 0s 2ms/step - loss: 7.8458e-04 - root_mean_squared_error: 0.0280 - val_loss: 5.4588e-04 - val_root_mean_squared_error: 0.0234\n",
      "Epoch 9/50\n",
      "63/63 [==============================] - 0s 2ms/step - loss: 8.1292e-04 - root_mean_squared_error: 0.0285 - val_loss: 5.1814e-04 - val_root_mean_squared_error: 0.0228\n",
      "Epoch 10/50\n",
      "63/63 [==============================] - 0s 3ms/step - loss: 7.3817e-04 - root_mean_squared_error: 0.0271 - val_loss: 5.0690e-04 - val_root_mean_squared_error: 0.0225\n",
      "Epoch 11/50\n",
      "63/63 [==============================] - 0s 2ms/step - loss: 7.7704e-04 - root_mean_squared_error: 0.0278 - val_loss: 4.8039e-04 - val_root_mean_squared_error: 0.0219\n",
      "Epoch 12/50\n",
      "63/63 [==============================] - 0s 2ms/step - loss: 7.1826e-04 - root_mean_squared_error: 0.0268 - val_loss: 4.4214e-04 - val_root_mean_squared_error: 0.0210\n",
      "Epoch 13/50\n",
      "63/63 [==============================] - 0s 2ms/step - loss: 6.7032e-04 - root_mean_squared_error: 0.0259 - val_loss: 4.4476e-04 - val_root_mean_squared_error: 0.0211\n",
      "Epoch 14/50\n",
      "63/63 [==============================] - 0s 2ms/step - loss: 6.6013e-04 - root_mean_squared_error: 0.0257 - val_loss: 4.0813e-04 - val_root_mean_squared_error: 0.0202\n",
      "Epoch 15/50\n",
      "63/63 [==============================] - 0s 2ms/step - loss: 6.0261e-04 - root_mean_squared_error: 0.0245 - val_loss: 3.8581e-04 - val_root_mean_squared_error: 0.0196\n",
      "Epoch 16/50\n",
      "63/63 [==============================] - 0s 2ms/step - loss: 6.0021e-04 - root_mean_squared_error: 0.0245 - val_loss: 3.3290e-04 - val_root_mean_squared_error: 0.0182\n",
      "Epoch 17/50\n",
      "63/63 [==============================] - 0s 2ms/step - loss: 5.1354e-04 - root_mean_squared_error: 0.0226 - val_loss: 3.7078e-04 - val_root_mean_squared_error: 0.0193\n",
      "Epoch 18/50\n",
      "63/63 [==============================] - 0s 2ms/step - loss: 5.1923e-04 - root_mean_squared_error: 0.0228 - val_loss: 2.9111e-04 - val_root_mean_squared_error: 0.0171\n",
      "Epoch 19/50\n",
      "63/63 [==============================] - 0s 3ms/step - loss: 4.7904e-04 - root_mean_squared_error: 0.0219 - val_loss: 2.7061e-04 - val_root_mean_squared_error: 0.0165\n",
      "Epoch 20/50\n",
      "63/63 [==============================] - 0s 2ms/step - loss: 4.8370e-04 - root_mean_squared_error: 0.0220 - val_loss: 2.8624e-04 - val_root_mean_squared_error: 0.0169\n",
      "Epoch 21/50\n",
      "63/63 [==============================] - 0s 2ms/step - loss: 4.3169e-04 - root_mean_squared_error: 0.0208 - val_loss: 2.0958e-04 - val_root_mean_squared_error: 0.0145\n",
      "Epoch 22/50\n",
      "63/63 [==============================] - 0s 2ms/step - loss: 3.7484e-04 - root_mean_squared_error: 0.0194 - val_loss: 2.1812e-04 - val_root_mean_squared_error: 0.0148\n",
      "Epoch 23/50\n",
      "63/63 [==============================] - 0s 2ms/step - loss: 3.4826e-04 - root_mean_squared_error: 0.0187 - val_loss: 2.0241e-04 - val_root_mean_squared_error: 0.0142\n",
      "Epoch 24/50\n",
      "63/63 [==============================] - 0s 2ms/step - loss: 3.2531e-04 - root_mean_squared_error: 0.0180 - val_loss: 1.6608e-04 - val_root_mean_squared_error: 0.0129\n",
      "Epoch 25/50\n",
      "63/63 [==============================] - 0s 2ms/step - loss: 2.7983e-04 - root_mean_squared_error: 0.0167 - val_loss: 1.5365e-04 - val_root_mean_squared_error: 0.0124\n"
     ]
    },
    {
     "name": "stderr",
     "output_type": "stream",
     "text": [
      "WARNING:absl:Found untraced functions such as lstm_cell_layer_call_fn, lstm_cell_layer_call_and_return_conditional_losses, lstm_cell_layer_call_fn, lstm_cell_layer_call_and_return_conditional_losses, lstm_cell_layer_call_and_return_conditional_losses while saving (showing 5 of 5). These functions will not be directly callable after loading.\n"
     ]
    },
    {
     "name": "stdout",
     "output_type": "stream",
     "text": [
      "INFO:tensorflow:Assets written to: model1\\assets\n"
     ]
    },
    {
     "name": "stderr",
     "output_type": "stream",
     "text": [
      "INFO:tensorflow:Assets written to: model1\\assets\n"
     ]
    },
    {
     "name": "stdout",
     "output_type": "stream",
     "text": [
      "Epoch 26/50\n",
      "63/63 [==============================] - 0s 2ms/step - loss: 2.6250e-04 - root_mean_squared_error: 0.0162 - val_loss: 1.4911e-04 - val_root_mean_squared_error: 0.0122\n"
     ]
    },
    {
     "name": "stderr",
     "output_type": "stream",
     "text": [
      "WARNING:absl:Found untraced functions such as lstm_cell_layer_call_fn, lstm_cell_layer_call_and_return_conditional_losses, lstm_cell_layer_call_fn, lstm_cell_layer_call_and_return_conditional_losses, lstm_cell_layer_call_and_return_conditional_losses while saving (showing 5 of 5). These functions will not be directly callable after loading.\n"
     ]
    },
    {
     "name": "stdout",
     "output_type": "stream",
     "text": [
      "INFO:tensorflow:Assets written to: model1\\assets\n"
     ]
    },
    {
     "name": "stderr",
     "output_type": "stream",
     "text": [
      "INFO:tensorflow:Assets written to: model1\\assets\n"
     ]
    },
    {
     "name": "stdout",
     "output_type": "stream",
     "text": [
      "Epoch 27/50\n",
      "63/63 [==============================] - 0s 2ms/step - loss: 2.2337e-04 - root_mean_squared_error: 0.0149 - val_loss: 1.2920e-04 - val_root_mean_squared_error: 0.0114\n"
     ]
    },
    {
     "name": "stderr",
     "output_type": "stream",
     "text": [
      "WARNING:absl:Found untraced functions such as lstm_cell_layer_call_fn, lstm_cell_layer_call_and_return_conditional_losses, lstm_cell_layer_call_fn, lstm_cell_layer_call_and_return_conditional_losses, lstm_cell_layer_call_and_return_conditional_losses while saving (showing 5 of 5). These functions will not be directly callable after loading.\n"
     ]
    },
    {
     "name": "stdout",
     "output_type": "stream",
     "text": [
      "INFO:tensorflow:Assets written to: model1\\assets\n"
     ]
    },
    {
     "name": "stderr",
     "output_type": "stream",
     "text": [
      "INFO:tensorflow:Assets written to: model1\\assets\n"
     ]
    },
    {
     "name": "stdout",
     "output_type": "stream",
     "text": [
      "Epoch 28/50\n",
      "63/63 [==============================] - 0s 2ms/step - loss: 2.3232e-04 - root_mean_squared_error: 0.0152 - val_loss: 1.1225e-04 - val_root_mean_squared_error: 0.0106\n"
     ]
    },
    {
     "name": "stderr",
     "output_type": "stream",
     "text": [
      "WARNING:absl:Found untraced functions such as lstm_cell_layer_call_fn, lstm_cell_layer_call_and_return_conditional_losses, lstm_cell_layer_call_fn, lstm_cell_layer_call_and_return_conditional_losses, lstm_cell_layer_call_and_return_conditional_losses while saving (showing 5 of 5). These functions will not be directly callable after loading.\n"
     ]
    },
    {
     "name": "stdout",
     "output_type": "stream",
     "text": [
      "INFO:tensorflow:Assets written to: model1\\assets\n"
     ]
    },
    {
     "name": "stderr",
     "output_type": "stream",
     "text": [
      "INFO:tensorflow:Assets written to: model1\\assets\n"
     ]
    },
    {
     "name": "stdout",
     "output_type": "stream",
     "text": [
      "Epoch 29/50\n",
      "63/63 [==============================] - 0s 2ms/step - loss: 2.3327e-04 - root_mean_squared_error: 0.0152 - val_loss: 1.1026e-04 - val_root_mean_squared_error: 0.0105\n"
     ]
    },
    {
     "name": "stderr",
     "output_type": "stream",
     "text": [
      "WARNING:absl:Found untraced functions such as lstm_cell_layer_call_fn, lstm_cell_layer_call_and_return_conditional_losses, lstm_cell_layer_call_fn, lstm_cell_layer_call_and_return_conditional_losses, lstm_cell_layer_call_and_return_conditional_losses while saving (showing 5 of 5). These functions will not be directly callable after loading.\n"
     ]
    },
    {
     "name": "stdout",
     "output_type": "stream",
     "text": [
      "INFO:tensorflow:Assets written to: model1\\assets\n"
     ]
    },
    {
     "name": "stderr",
     "output_type": "stream",
     "text": [
      "INFO:tensorflow:Assets written to: model1\\assets\n"
     ]
    },
    {
     "name": "stdout",
     "output_type": "stream",
     "text": [
      "Epoch 30/50\n",
      "63/63 [==============================] - 0s 2ms/step - loss: 2.0836e-04 - root_mean_squared_error: 0.0144 - val_loss: 9.9011e-05 - val_root_mean_squared_error: 0.0100\n"
     ]
    },
    {
     "name": "stderr",
     "output_type": "stream",
     "text": [
      "WARNING:absl:Found untraced functions such as lstm_cell_layer_call_fn, lstm_cell_layer_call_and_return_conditional_losses, lstm_cell_layer_call_fn, lstm_cell_layer_call_and_return_conditional_losses, lstm_cell_layer_call_and_return_conditional_losses while saving (showing 5 of 5). These functions will not be directly callable after loading.\n"
     ]
    },
    {
     "name": "stdout",
     "output_type": "stream",
     "text": [
      "INFO:tensorflow:Assets written to: model1\\assets\n"
     ]
    },
    {
     "name": "stderr",
     "output_type": "stream",
     "text": [
      "INFO:tensorflow:Assets written to: model1\\assets\n"
     ]
    },
    {
     "name": "stdout",
     "output_type": "stream",
     "text": [
      "Epoch 31/50\n",
      "63/63 [==============================] - 0s 2ms/step - loss: 1.6761e-04 - root_mean_squared_error: 0.0129 - val_loss: 9.1071e-05 - val_root_mean_squared_error: 0.0095\n"
     ]
    },
    {
     "name": "stderr",
     "output_type": "stream",
     "text": [
      "WARNING:absl:Found untraced functions such as lstm_cell_layer_call_fn, lstm_cell_layer_call_and_return_conditional_losses, lstm_cell_layer_call_fn, lstm_cell_layer_call_and_return_conditional_losses, lstm_cell_layer_call_and_return_conditional_losses while saving (showing 5 of 5). These functions will not be directly callable after loading.\n"
     ]
    },
    {
     "name": "stdout",
     "output_type": "stream",
     "text": [
      "INFO:tensorflow:Assets written to: model1\\assets\n"
     ]
    },
    {
     "name": "stderr",
     "output_type": "stream",
     "text": [
      "INFO:tensorflow:Assets written to: model1\\assets\n"
     ]
    },
    {
     "name": "stdout",
     "output_type": "stream",
     "text": [
      "Epoch 32/50\n",
      "63/63 [==============================] - 0s 2ms/step - loss: 1.9720e-04 - root_mean_squared_error: 0.0140 - val_loss: 7.1860e-05 - val_root_mean_squared_error: 0.0085\n"
     ]
    },
    {
     "name": "stderr",
     "output_type": "stream",
     "text": [
      "WARNING:absl:Found untraced functions such as lstm_cell_layer_call_fn, lstm_cell_layer_call_and_return_conditional_losses, lstm_cell_layer_call_fn, lstm_cell_layer_call_and_return_conditional_losses, lstm_cell_layer_call_and_return_conditional_losses while saving (showing 5 of 5). These functions will not be directly callable after loading.\n"
     ]
    },
    {
     "name": "stdout",
     "output_type": "stream",
     "text": [
      "INFO:tensorflow:Assets written to: model1\\assets\n"
     ]
    },
    {
     "name": "stderr",
     "output_type": "stream",
     "text": [
      "INFO:tensorflow:Assets written to: model1\\assets\n"
     ]
    },
    {
     "name": "stdout",
     "output_type": "stream",
     "text": [
      "Epoch 33/50\n",
      "63/63 [==============================] - 0s 2ms/step - loss: 1.7179e-04 - root_mean_squared_error: 0.0131 - val_loss: 6.2320e-05 - val_root_mean_squared_error: 0.0079\n"
     ]
    },
    {
     "name": "stderr",
     "output_type": "stream",
     "text": [
      "WARNING:absl:Found untraced functions such as lstm_cell_layer_call_fn, lstm_cell_layer_call_and_return_conditional_losses, lstm_cell_layer_call_fn, lstm_cell_layer_call_and_return_conditional_losses, lstm_cell_layer_call_and_return_conditional_losses while saving (showing 5 of 5). These functions will not be directly callable after loading.\n"
     ]
    },
    {
     "name": "stdout",
     "output_type": "stream",
     "text": [
      "INFO:tensorflow:Assets written to: model1\\assets\n"
     ]
    },
    {
     "name": "stderr",
     "output_type": "stream",
     "text": [
      "INFO:tensorflow:Assets written to: model1\\assets\n"
     ]
    },
    {
     "name": "stdout",
     "output_type": "stream",
     "text": [
      "Epoch 34/50\n",
      "63/63 [==============================] - 0s 2ms/step - loss: 1.7779e-04 - root_mean_squared_error: 0.0133 - val_loss: 5.7204e-05 - val_root_mean_squared_error: 0.0076\n"
     ]
    },
    {
     "name": "stderr",
     "output_type": "stream",
     "text": [
      "WARNING:absl:Found untraced functions such as lstm_cell_layer_call_fn, lstm_cell_layer_call_and_return_conditional_losses, lstm_cell_layer_call_fn, lstm_cell_layer_call_and_return_conditional_losses, lstm_cell_layer_call_and_return_conditional_losses while saving (showing 5 of 5). These functions will not be directly callable after loading.\n"
     ]
    },
    {
     "name": "stdout",
     "output_type": "stream",
     "text": [
      "INFO:tensorflow:Assets written to: model1\\assets\n"
     ]
    },
    {
     "name": "stderr",
     "output_type": "stream",
     "text": [
      "INFO:tensorflow:Assets written to: model1\\assets\n"
     ]
    },
    {
     "name": "stdout",
     "output_type": "stream",
     "text": [
      "Epoch 35/50\n",
      "63/63 [==============================] - 0s 2ms/step - loss: 1.6483e-04 - root_mean_squared_error: 0.0128 - val_loss: 5.6070e-05 - val_root_mean_squared_error: 0.0075\n"
     ]
    },
    {
     "name": "stderr",
     "output_type": "stream",
     "text": [
      "WARNING:absl:Found untraced functions such as lstm_cell_layer_call_fn, lstm_cell_layer_call_and_return_conditional_losses, lstm_cell_layer_call_fn, lstm_cell_layer_call_and_return_conditional_losses, lstm_cell_layer_call_and_return_conditional_losses while saving (showing 5 of 5). These functions will not be directly callable after loading.\n"
     ]
    },
    {
     "name": "stdout",
     "output_type": "stream",
     "text": [
      "INFO:tensorflow:Assets written to: model1\\assets\n"
     ]
    },
    {
     "name": "stderr",
     "output_type": "stream",
     "text": [
      "INFO:tensorflow:Assets written to: model1\\assets\n"
     ]
    },
    {
     "name": "stdout",
     "output_type": "stream",
     "text": [
      "Epoch 36/50\n",
      "63/63 [==============================] - 0s 2ms/step - loss: 1.6561e-04 - root_mean_squared_error: 0.0129 - val_loss: 5.8618e-05 - val_root_mean_squared_error: 0.0077\n",
      "Epoch 37/50\n",
      "63/63 [==============================] - 0s 2ms/step - loss: 1.6315e-04 - root_mean_squared_error: 0.0128 - val_loss: 4.8919e-05 - val_root_mean_squared_error: 0.0070\n"
     ]
    },
    {
     "name": "stderr",
     "output_type": "stream",
     "text": [
      "WARNING:absl:Found untraced functions such as lstm_cell_layer_call_fn, lstm_cell_layer_call_and_return_conditional_losses, lstm_cell_layer_call_fn, lstm_cell_layer_call_and_return_conditional_losses, lstm_cell_layer_call_and_return_conditional_losses while saving (showing 5 of 5). These functions will not be directly callable after loading.\n"
     ]
    },
    {
     "name": "stdout",
     "output_type": "stream",
     "text": [
      "INFO:tensorflow:Assets written to: model1\\assets\n"
     ]
    },
    {
     "name": "stderr",
     "output_type": "stream",
     "text": [
      "INFO:tensorflow:Assets written to: model1\\assets\n"
     ]
    },
    {
     "name": "stdout",
     "output_type": "stream",
     "text": [
      "Epoch 38/50\n",
      "63/63 [==============================] - 0s 2ms/step - loss: 1.6703e-04 - root_mean_squared_error: 0.0129 - val_loss: 4.8804e-05 - val_root_mean_squared_error: 0.0070\n"
     ]
    },
    {
     "name": "stderr",
     "output_type": "stream",
     "text": [
      "WARNING:absl:Found untraced functions such as lstm_cell_layer_call_fn, lstm_cell_layer_call_and_return_conditional_losses, lstm_cell_layer_call_fn, lstm_cell_layer_call_and_return_conditional_losses, lstm_cell_layer_call_and_return_conditional_losses while saving (showing 5 of 5). These functions will not be directly callable after loading.\n"
     ]
    },
    {
     "name": "stdout",
     "output_type": "stream",
     "text": [
      "INFO:tensorflow:Assets written to: model1\\assets\n"
     ]
    },
    {
     "name": "stderr",
     "output_type": "stream",
     "text": [
      "INFO:tensorflow:Assets written to: model1\\assets\n"
     ]
    },
    {
     "name": "stdout",
     "output_type": "stream",
     "text": [
      "Epoch 39/50\n",
      "63/63 [==============================] - 0s 2ms/step - loss: 1.4595e-04 - root_mean_squared_error: 0.0121 - val_loss: 4.6759e-05 - val_root_mean_squared_error: 0.0068\n"
     ]
    },
    {
     "name": "stderr",
     "output_type": "stream",
     "text": [
      "WARNING:absl:Found untraced functions such as lstm_cell_layer_call_fn, lstm_cell_layer_call_and_return_conditional_losses, lstm_cell_layer_call_fn, lstm_cell_layer_call_and_return_conditional_losses, lstm_cell_layer_call_and_return_conditional_losses while saving (showing 5 of 5). These functions will not be directly callable after loading.\n"
     ]
    },
    {
     "name": "stdout",
     "output_type": "stream",
     "text": [
      "INFO:tensorflow:Assets written to: model1\\assets\n"
     ]
    },
    {
     "name": "stderr",
     "output_type": "stream",
     "text": [
      "INFO:tensorflow:Assets written to: model1\\assets\n"
     ]
    },
    {
     "name": "stdout",
     "output_type": "stream",
     "text": [
      "Epoch 40/50\n",
      "63/63 [==============================] - 0s 2ms/step - loss: 1.6183e-04 - root_mean_squared_error: 0.0127 - val_loss: 4.6790e-05 - val_root_mean_squared_error: 0.0068\n",
      "Epoch 41/50\n",
      "63/63 [==============================] - 0s 2ms/step - loss: 1.4825e-04 - root_mean_squared_error: 0.0122 - val_loss: 4.4193e-05 - val_root_mean_squared_error: 0.0066\n"
     ]
    },
    {
     "name": "stderr",
     "output_type": "stream",
     "text": [
      "WARNING:absl:Found untraced functions such as lstm_cell_layer_call_fn, lstm_cell_layer_call_and_return_conditional_losses, lstm_cell_layer_call_fn, lstm_cell_layer_call_and_return_conditional_losses, lstm_cell_layer_call_and_return_conditional_losses while saving (showing 5 of 5). These functions will not be directly callable after loading.\n"
     ]
    },
    {
     "name": "stdout",
     "output_type": "stream",
     "text": [
      "INFO:tensorflow:Assets written to: model1\\assets\n"
     ]
    },
    {
     "name": "stderr",
     "output_type": "stream",
     "text": [
      "INFO:tensorflow:Assets written to: model1\\assets\n"
     ]
    },
    {
     "name": "stdout",
     "output_type": "stream",
     "text": [
      "Epoch 42/50\n",
      "63/63 [==============================] - 0s 2ms/step - loss: 1.5429e-04 - root_mean_squared_error: 0.0124 - val_loss: 5.2444e-05 - val_root_mean_squared_error: 0.0072\n",
      "Epoch 43/50\n",
      "63/63 [==============================] - 0s 2ms/step - loss: 1.4157e-04 - root_mean_squared_error: 0.0119 - val_loss: 4.4537e-05 - val_root_mean_squared_error: 0.0067\n",
      "Epoch 44/50\n",
      "63/63 [==============================] - 0s 2ms/step - loss: 1.3782e-04 - root_mean_squared_error: 0.0117 - val_loss: 5.6379e-05 - val_root_mean_squared_error: 0.0075\n",
      "Epoch 45/50\n",
      "63/63 [==============================] - 0s 2ms/step - loss: 1.5062e-04 - root_mean_squared_error: 0.0123 - val_loss: 4.8163e-05 - val_root_mean_squared_error: 0.0069\n",
      "Epoch 46/50\n",
      "63/63 [==============================] - 0s 2ms/step - loss: 1.4841e-04 - root_mean_squared_error: 0.0122 - val_loss: 5.3534e-05 - val_root_mean_squared_error: 0.0073\n",
      "Epoch 47/50\n",
      "63/63 [==============================] - 0s 2ms/step - loss: 1.4612e-04 - root_mean_squared_error: 0.0121 - val_loss: 4.8560e-05 - val_root_mean_squared_error: 0.0070\n",
      "Epoch 48/50\n",
      "63/63 [==============================] - 0s 2ms/step - loss: 1.4879e-04 - root_mean_squared_error: 0.0122 - val_loss: 4.5226e-05 - val_root_mean_squared_error: 0.0067\n",
      "Epoch 49/50\n",
      "63/63 [==============================] - 0s 2ms/step - loss: 1.5311e-04 - root_mean_squared_error: 0.0124 - val_loss: 4.7616e-05 - val_root_mean_squared_error: 0.0069\n",
      "Epoch 50/50\n",
      "63/63 [==============================] - 0s 2ms/step - loss: 1.5161e-04 - root_mean_squared_error: 0.0123 - val_loss: 4.6863e-05 - val_root_mean_squared_error: 0.0068\n"
     ]
    }
   ],
   "source": [
    "model1.fit(X_train1, y_train1, validation_data=(X_val1, y_val1), epochs=50, callbacks=[cp1])\n",
    "from tensorflow.keras.models import load_model\n",
    "model1 = load_model('model1/')"
   ]
  },
  {
   "cell_type": "code",
   "execution_count": 8,
   "metadata": {},
   "outputs": [],
   "source": [
    "train_predictions = model1.predict(X_train1).flatten()\n",
    "train_results = pd.DataFrame(data={'Train Predictions':train_predictions, 'Actuals':y_train1})"
   ]
  },
  {
   "cell_type": "code",
   "execution_count": 9,
   "metadata": {},
   "outputs": [
    {
     "data": {
      "image/png": "[encoded data removed]",
      "text/plain": [
       "<Figure size 640x480 with 1 Axes>"
      ]
     },
     "metadata": {},
     "output_type": "display_data"
    }
   ],
   "source": [
    "import matplotlib.pyplot as plt\n",
    "plt.plot(train_results['Train Predictions'][50:100])\n",
    "plt.plot(train_results['Actuals'][50:100])\n",
    "plt.legend(['Actuals','Train Predictions'])\n",
    "plt.show()"
   ]
  },
  {
   "cell_type": "code",
   "execution_count": 10,
   "metadata": {},
   "outputs": [
    {
     "data": {
      "text/html": [
       "<div>\n",
       "<style scoped>\n",
       "    .dataframe tbody tr th:only-of-type {\n",
       "        vertical-align: middle;\n",
       "    }\n",
       "\n",
       "    .dataframe tbody tr th {\n",
       "        vertical-align: top;\n",
       "    }\n",
       "\n",
       "    .dataframe thead th {\n",
       "        text-align: right;\n",
       "    }\n",
       "</style>\n",
       "<table border=\"1\" class=\"dataframe\">\n",
       "  <thead>\n",
       "    <tr style=\"text-align: right;\">\n",
       "      <th></th>\n",
       "      <th>Val Predictions</th>\n",
       "      <th>Actuals</th>\n",
       "    </tr>\n",
       "  </thead>\n",
       "  <tbody>\n",
       "    <tr>\n",
       "      <th>0</th>\n",
       "      <td>0.051425</td>\n",
       "      <td>0.046778</td>\n",
       "    </tr>\n",
       "    <tr>\n",
       "      <th>1</th>\n",
       "      <td>0.047542</td>\n",
       "      <td>0.055130</td>\n",
       "    </tr>\n",
       "    <tr>\n",
       "      <th>2</th>\n",
       "      <td>0.055093</td>\n",
       "      <td>0.049332</td>\n",
       "    </tr>\n",
       "    <tr>\n",
       "      <th>3</th>\n",
       "      <td>0.049849</td>\n",
       "      <td>0.054107</td>\n",
       "    </tr>\n",
       "    <tr>\n",
       "      <th>4</th>\n",
       "      <td>0.054167</td>\n",
       "      <td>0.053055</td>\n",
       "    </tr>\n",
       "    <tr>\n",
       "      <th>...</th>\n",
       "      <td>...</td>\n",
       "      <td>...</td>\n",
       "    </tr>\n",
       "    <tr>\n",
       "      <th>430</th>\n",
       "      <td>0.054214</td>\n",
       "      <td>0.061506</td>\n",
       "    </tr>\n",
       "    <tr>\n",
       "      <th>431</th>\n",
       "      <td>0.060866</td>\n",
       "      <td>0.062895</td>\n",
       "    </tr>\n",
       "    <tr>\n",
       "      <th>432</th>\n",
       "      <td>0.062125</td>\n",
       "      <td>0.077486</td>\n",
       "    </tr>\n",
       "    <tr>\n",
       "      <th>433</th>\n",
       "      <td>0.075370</td>\n",
       "      <td>0.077844</td>\n",
       "    </tr>\n",
       "    <tr>\n",
       "      <th>434</th>\n",
       "      <td>0.075696</td>\n",
       "      <td>0.071681</td>\n",
       "    </tr>\n",
       "  </tbody>\n",
       "</table>\n",
       "<p>435 rows × 2 columns</p>\n",
       "</div>"
      ],
      "text/plain": [
       "     Val Predictions   Actuals\n",
       "0           0.051425  0.046778\n",
       "1           0.047542  0.055130\n",
       "2           0.055093  0.049332\n",
       "3           0.049849  0.054107\n",
       "4           0.054167  0.053055\n",
       "..               ...       ...\n",
       "430         0.054214  0.061506\n",
       "431         0.060866  0.062895\n",
       "432         0.062125  0.077486\n",
       "433         0.075370  0.077844\n",
       "434         0.075696  0.071681\n",
       "\n",
       "[435 rows x 2 columns]"
      ]
     },
     "execution_count": 10,
     "metadata": {},
     "output_type": "execute_result"
    }
   ],
   "source": [
    "val_predictions = model1.predict(X_val1).flatten()\n",
    "val_results = pd.DataFrame(data={'Val Predictions':val_predictions, 'Actuals':y_val1})\n",
    "val_results"
   ]
  },
  {
   "cell_type": "code",
   "execution_count": 11,
   "metadata": {},
   "outputs": [
    {
     "data": {
      "text/plain": [
       "<matplotlib.legend.Legend at 0x185c528fdf0>"
      ]
     },
     "execution_count": 11,
     "metadata": {},
     "output_type": "execute_result"
    },
    {
     "data": {
      "image/png": "[encoded data removed]",
      "text/plain": [
       "<Figure size 640x480 with 1 Axes>"
      ]
     },
     "metadata": {},
     "output_type": "display_data"
    }
   ],
   "source": [
    "plt.plot(val_results['Val Predictions'][:100])\n",
    "plt.plot(val_results['Actuals'][:100])\n",
    "plt.legend(['Actuals','Validation Predictions'])"
   ]
  },
  {
   "cell_type": "code",
   "execution_count": 12,
   "metadata": {},
   "outputs": [
    {
     "data": {
      "text/html": [
       "<div>\n",
       "<style scoped>\n",
       "    .dataframe tbody tr th:only-of-type {\n",
       "        vertical-align: middle;\n",
       "    }\n",
       "\n",
       "    .dataframe tbody tr th {\n",
       "        vertical-align: top;\n",
       "    }\n",
       "\n",
       "    .dataframe thead th {\n",
       "        text-align: right;\n",
       "    }\n",
       "</style>\n",
       "<table border=\"1\" class=\"dataframe\">\n",
       "  <thead>\n",
       "    <tr style=\"text-align: right;\">\n",
       "      <th></th>\n",
       "      <th>Test Predictions</th>\n",
       "      <th>Actuals</th>\n",
       "    </tr>\n",
       "    <tr>\n",
       "      <th>DateTime</th>\n",
       "      <th></th>\n",
       "      <th></th>\n",
       "    </tr>\n",
       "  </thead>\n",
       "  <tbody>\n",
       "    <tr>\n",
       "      <th>2020-11-12 14:00:00</th>\n",
       "      <td>0.070095</td>\n",
       "      <td>0.070841</td>\n",
       "    </tr>\n",
       "    <tr>\n",
       "      <th>2020-11-12 15:00:00</th>\n",
       "      <td>0.069333</td>\n",
       "      <td>0.068645</td>\n",
       "    </tr>\n",
       "    <tr>\n",
       "      <th>2020-11-12 16:00:00</th>\n",
       "      <td>0.067340</td>\n",
       "      <td>0.059088</td>\n",
       "    </tr>\n",
       "    <tr>\n",
       "      <th>2020-11-12 17:00:00</th>\n",
       "      <td>0.058676</td>\n",
       "      <td>0.059466</td>\n",
       "    </tr>\n",
       "    <tr>\n",
       "      <th>2020-11-12 18:00:00</th>\n",
       "      <td>0.059018</td>\n",
       "      <td>0.051650</td>\n",
       "    </tr>\n",
       "    <tr>\n",
       "      <th>...</th>\n",
       "      <td>...</td>\n",
       "      <td>...</td>\n",
       "    </tr>\n",
       "    <tr>\n",
       "      <th>2020-11-30 19:00:00</th>\n",
       "      <td>0.048492</td>\n",
       "      <td>0.052057</td>\n",
       "    </tr>\n",
       "    <tr>\n",
       "      <th>2020-11-30 20:00:00</th>\n",
       "      <td>0.052313</td>\n",
       "      <td>0.044937</td>\n",
       "    </tr>\n",
       "    <tr>\n",
       "      <th>2020-11-30 21:00:00</th>\n",
       "      <td>0.045880</td>\n",
       "      <td>0.048803</td>\n",
       "    </tr>\n",
       "    <tr>\n",
       "      <th>2020-11-30 22:00:00</th>\n",
       "      <td>0.049371</td>\n",
       "      <td>0.049585</td>\n",
       "    </tr>\n",
       "    <tr>\n",
       "      <th>2020-11-30 23:00:00</th>\n",
       "      <td>0.050078</td>\n",
       "      <td>0.046653</td>\n",
       "    </tr>\n",
       "  </tbody>\n",
       "</table>\n",
       "<p>442 rows × 2 columns</p>\n",
       "</div>"
      ],
      "text/plain": [
       "                     Test Predictions   Actuals\n",
       "DateTime                                       \n",
       "2020-11-12 14:00:00          0.070095  0.070841\n",
       "2020-11-12 15:00:00          0.069333  0.068645\n",
       "2020-11-12 16:00:00          0.067340  0.059088\n",
       "2020-11-12 17:00:00          0.058676  0.059466\n",
       "2020-11-12 18:00:00          0.059018  0.051650\n",
       "...                               ...       ...\n",
       "2020-11-30 19:00:00          0.048492  0.052057\n",
       "2020-11-30 20:00:00          0.052313  0.044937\n",
       "2020-11-30 21:00:00          0.045880  0.048803\n",
       "2020-11-30 22:00:00          0.049371  0.049585\n",
       "2020-11-30 23:00:00          0.050078  0.046653\n",
       "\n",
       "[442 rows x 2 columns]"
      ]
     },
     "execution_count": 12,
     "metadata": {},
     "output_type": "execute_result"
    }
   ],
   "source": [
    "test_predictions = model1.predict(X_test1).flatten()\n",
    "test_results = pd.DataFrame(data={'Test Predictions':test_predictions, 'Actuals':y_test1},index=df['DateTime'][2436:].index)\n",
    "test_results"
   ]
  },
  {
   "cell_type": "code",
   "execution_count": 38,
   "metadata": {},
   "outputs": [
    {
     "ename": "ValueError",
     "evalue": "array length 442 does not match index length 2878",
     "output_type": "error",
     "traceback": [
      "\u001b[1;31m---------------------------------------------------------------------------\u001b[0m",
      "\u001b[1;31mValueError\u001b[0m                                Traceback (most recent call last)",
      "Cell \u001b[1;32mIn [38], line 19\u001b[0m\n\u001b[0;32m     16\u001b[0m     plt\u001b[39m.\u001b[39mlegend([\u001b[39m'\u001b[39m\u001b[39mActuals\u001b[39m\u001b[39m'\u001b[39m, \u001b[39m'\u001b[39m\u001b[39mTarget\u001b[39m\u001b[39m'\u001b[39m, \u001b[39m'\u001b[39m\u001b[39mTest Predictions\u001b[39m\u001b[39m'\u001b[39m])\n\u001b[0;32m     17\u001b[0m     \u001b[39mreturn\u001b[39;00m df, mse(y, predictions), r2(y, predictions), mape(y, predictions)\n\u001b[1;32m---> 19\u001b[0m final, mse_val, r2_val, mape_value \u001b[39m=\u001b[39m plot_predictions2(model1, X_test1, y_test1, target)\n\u001b[0;32m     20\u001b[0m \u001b[39mprint\u001b[39m(mse_val, r2_val, mape_value)\n",
      "Cell \u001b[1;32mIn [38], line 13\u001b[0m, in \u001b[0;36mplot_predictions2\u001b[1;34m(model, X, y, y_all)\u001b[0m\n\u001b[0;32m     11\u001b[0m \u001b[39mdef\u001b[39;00m \u001b[39mplot_predictions2\u001b[39m(model, X, y, y_all):\n\u001b[0;32m     12\u001b[0m     predictions \u001b[39m=\u001b[39m model\u001b[39m.\u001b[39mpredict(X)\u001b[39m.\u001b[39mflatten()\n\u001b[1;32m---> 13\u001b[0m     df \u001b[39m=\u001b[39m pd\u001b[39m.\u001b[39;49mDataFrame(data\u001b[39m=\u001b[39;49m{\u001b[39m'\u001b[39;49m\u001b[39mPredictions\u001b[39;49m\u001b[39m'\u001b[39;49m: predictions, \u001b[39m'\u001b[39;49m\u001b[39mActuals\u001b[39;49m\u001b[39m'\u001b[39;49m: y, \u001b[39m'\u001b[39;49m\u001b[39mTarget\u001b[39;49m\u001b[39m'\u001b[39;49m: y_all})\n\u001b[0;32m     14\u001b[0m     plt\u001b[39m.\u001b[39mplot(df[[\u001b[39m'\u001b[39m\u001b[39mActuals\u001b[39m\u001b[39m'\u001b[39m, \u001b[39m'\u001b[39m\u001b[39mTarget\u001b[39m\u001b[39m'\u001b[39m]])\n\u001b[0;32m     15\u001b[0m     plt\u001b[39m.\u001b[39mplot(df[\u001b[39m'\u001b[39m\u001b[39mPredictions\u001b[39m\u001b[39m'\u001b[39m])\n",
      "File \u001b[1;32m~\\AppData\\Local\\Packages\\PythonSoftwareFoundation.Python.3.9_qbz5n2kfra8p0\\LocalCache\\local-packages\\Python39\\site-packages\\pandas\\core\\frame.py:529\u001b[0m, in \u001b[0;36mDataFrame.__init__\u001b[1;34m(self, data, index, columns, dtype, copy)\u001b[0m\n\u001b[0;32m    524\u001b[0m     mgr \u001b[39m=\u001b[39m \u001b[39mself\u001b[39m\u001b[39m.\u001b[39m_init_mgr(\n\u001b[0;32m    525\u001b[0m         data, axes\u001b[39m=\u001b[39m{\u001b[39m\"\u001b[39m\u001b[39mindex\u001b[39m\u001b[39m\"\u001b[39m: index, \u001b[39m\"\u001b[39m\u001b[39mcolumns\u001b[39m\u001b[39m\"\u001b[39m: columns}, dtype\u001b[39m=\u001b[39mdtype, copy\u001b[39m=\u001b[39mcopy\n\u001b[0;32m    526\u001b[0m     )\n\u001b[0;32m    528\u001b[0m \u001b[39melif\u001b[39;00m \u001b[39misinstance\u001b[39m(data, \u001b[39mdict\u001b[39m):\n\u001b[1;32m--> 529\u001b[0m     mgr \u001b[39m=\u001b[39m init_dict(data, index, columns, dtype\u001b[39m=\u001b[39;49mdtype)\n\u001b[0;32m    530\u001b[0m \u001b[39melif\u001b[39;00m \u001b[39misinstance\u001b[39m(data, ma\u001b[39m.\u001b[39mMaskedArray):\n\u001b[0;32m    531\u001b[0m     \u001b[39mimport\u001b[39;00m \u001b[39mnumpy\u001b[39;00m\u001b[39m.\u001b[39;00m\u001b[39mma\u001b[39;00m\u001b[39m.\u001b[39;00m\u001b[39mmrecords\u001b[39;00m \u001b[39mas\u001b[39;00m \u001b[39mmrecords\u001b[39;00m\n",
      "File \u001b[1;32m~\\AppData\\Local\\Packages\\PythonSoftwareFoundation.Python.3.9_qbz5n2kfra8p0\\LocalCache\\local-packages\\Python39\\site-packages\\pandas\\core\\internals\\construction.py:287\u001b[0m, in \u001b[0;36minit_dict\u001b[1;34m(data, index, columns, dtype)\u001b[0m\n\u001b[0;32m    281\u001b[0m     arrays \u001b[39m=\u001b[39m [\n\u001b[0;32m    282\u001b[0m         arr \u001b[39mif\u001b[39;00m \u001b[39mnot\u001b[39;00m \u001b[39misinstance\u001b[39m(arr, ABCIndexClass) \u001b[39melse\u001b[39;00m arr\u001b[39m.\u001b[39m_data \u001b[39mfor\u001b[39;00m arr \u001b[39min\u001b[39;00m arrays\n\u001b[0;32m    283\u001b[0m     ]\n\u001b[0;32m    284\u001b[0m     arrays \u001b[39m=\u001b[39m [\n\u001b[0;32m    285\u001b[0m         arr \u001b[39mif\u001b[39;00m \u001b[39mnot\u001b[39;00m is_datetime64tz_dtype(arr) \u001b[39melse\u001b[39;00m arr\u001b[39m.\u001b[39mcopy() \u001b[39mfor\u001b[39;00m arr \u001b[39min\u001b[39;00m arrays\n\u001b[0;32m    286\u001b[0m     ]\n\u001b[1;32m--> 287\u001b[0m \u001b[39mreturn\u001b[39;00m arrays_to_mgr(arrays, data_names, index, columns, dtype\u001b[39m=\u001b[39;49mdtype)\n",
      "File \u001b[1;32m~\\AppData\\Local\\Packages\\PythonSoftwareFoundation.Python.3.9_qbz5n2kfra8p0\\LocalCache\\local-packages\\Python39\\site-packages\\pandas\\core\\internals\\construction.py:80\u001b[0m, in \u001b[0;36marrays_to_mgr\u001b[1;34m(arrays, arr_names, index, columns, dtype, verify_integrity)\u001b[0m\n\u001b[0;32m     77\u001b[0m \u001b[39mif\u001b[39;00m verify_integrity:\n\u001b[0;32m     78\u001b[0m     \u001b[39m# figure out the index, if necessary\u001b[39;00m\n\u001b[0;32m     79\u001b[0m     \u001b[39mif\u001b[39;00m index \u001b[39mis\u001b[39;00m \u001b[39mNone\u001b[39;00m:\n\u001b[1;32m---> 80\u001b[0m         index \u001b[39m=\u001b[39m extract_index(arrays)\n\u001b[0;32m     81\u001b[0m     \u001b[39melse\u001b[39;00m:\n\u001b[0;32m     82\u001b[0m         index \u001b[39m=\u001b[39m ensure_index(index)\n",
      "File \u001b[1;32m~\\AppData\\Local\\Packages\\PythonSoftwareFoundation.Python.3.9_qbz5n2kfra8p0\\LocalCache\\local-packages\\Python39\\site-packages\\pandas\\core\\internals\\construction.py:415\u001b[0m, in \u001b[0;36mextract_index\u001b[1;34m(data)\u001b[0m\n\u001b[0;32m    410\u001b[0m     \u001b[39mif\u001b[39;00m lengths[\u001b[39m0\u001b[39m] \u001b[39m!=\u001b[39m \u001b[39mlen\u001b[39m(index):\n\u001b[0;32m    411\u001b[0m         msg \u001b[39m=\u001b[39m (\n\u001b[0;32m    412\u001b[0m             \u001b[39mf\u001b[39m\u001b[39m\"\u001b[39m\u001b[39marray length \u001b[39m\u001b[39m{\u001b[39;00mlengths[\u001b[39m0\u001b[39m]\u001b[39m}\u001b[39;00m\u001b[39m does not match index \u001b[39m\u001b[39m\"\u001b[39m\n\u001b[0;32m    413\u001b[0m             \u001b[39mf\u001b[39m\u001b[39m\"\u001b[39m\u001b[39mlength \u001b[39m\u001b[39m{\u001b[39;00m\u001b[39mlen\u001b[39m(index)\u001b[39m}\u001b[39;00m\u001b[39m\"\u001b[39m\n\u001b[0;32m    414\u001b[0m         )\n\u001b[1;32m--> 415\u001b[0m         \u001b[39mraise\u001b[39;00m \u001b[39mValueError\u001b[39;00m(msg)\n\u001b[0;32m    416\u001b[0m \u001b[39melse\u001b[39;00m:\n\u001b[0;32m    417\u001b[0m     index \u001b[39m=\u001b[39m ibase\u001b[39m.\u001b[39mdefault_index(lengths[\u001b[39m0\u001b[39m])\n",
      "\u001b[1;31mValueError\u001b[0m: array length 442 does not match index length 2878"
     ]
    }
   ],
   "source": [
    "# print(target.head())\n",
    "# plt.plot(test_results['Test Predictions'])#[:100])\n",
    "# plt.plot(target)#[:100])\n",
    "# # plt.legend(['Actuals','Test Predictions'])\n",
    "# import pandas as pd\n",
    "# import matplotlib.pyplot as plt\n",
    "# from sklearn.metrics import mean_squared_error as mse\n",
    "# from sklearn.metrics import r2_score as r2\n",
    "# from sklearn.metrics import mean_absolute_percentage_error as mape\n",
    "\n",
    "# def plot_predictions2(model, X, y, y_all):\n",
    "#     predictions = model.predict(X).flatten()\n",
    "#     df = pd.DataFrame(data={'Predictions': predictions, 'Actuals': y, 'Target': y_all})\n",
    "#     plt.plot(df[['Actuals', 'Target']])\n",
    "#     plt.plot(df['Predictions'])\n",
    "#     plt.legend(['Actuals', 'Target', 'Test Predictions'])\n",
    "#     return df, mse(y, predictions), r2(y, predictions), mape(y, predictions)\n",
    "\n",
    "# final, mse_val, r2_val, mape_value = plot_predictions2(model1, X_test1, y_test1, target)\n",
    "# print(mse_val, r2_val, mape_value)\n",
    "\n"
   ]
  },
  {
   "cell_type": "code",
   "execution_count": 46,
   "metadata": {},
   "outputs": [
    {
     "data": {
      "text/plain": [
       "Text(0, 0.5, 'Active Power in MW')"
      ]
     },
     "execution_count": 46,
     "metadata": {},
     "output_type": "execute_result"
    },
    {
     "data": {
      "image/png": "[encoded data removed]",
      "text/plain": [
       "<Figure size 640x480 with 1 Axes>"
      ]
     },
     "metadata": {},
     "output_type": "display_data"
    }
   ],
   "source": [
    "#fig=plt.plot(test_results['Test Predictions'])#[:100])\n",
    "import matplotlib.dates as mdates\n",
    "plt.gca().xaxis.set_major_formatter(mdates.DateFormatter('%m'))\n",
    "fig=plt.plot(target)#[:100])    \n",
    "fig=plt.plot(test_results['Test Predictions']) \n",
    "plt.legend(['Actuals','Test Predictions'])    \n",
    "plt.xlabel(\"Months/2020\")\n",
    "plt.ylabel(\"Active Power in MW\")                           \n",
    "#fig.autofmt_xdate()"
   ]
  },
  {
   "cell_type": "code",
   "execution_count": 14,
   "metadata": {},
   "outputs": [
    {
     "name": "stdout",
     "output_type": "stream",
     "text": [
      "14/14 [==============================] - 1s 923us/step - loss: 4.8694e-05 - root_mean_squared_error: 0.0070\n",
      "Test accuracy:  69.78118792176247 %\n"
     ]
    }
   ],
   "source": [
    "scores = model1.evaluate(X_test1, y_test1)\n",
    "\n",
    "LSTM_accuracy = scores[1]*10000\n",
    "\n",
    "print('Test accuracy: ', LSTM_accuracy, '%')"
   ]
  },
  {
   "cell_type": "code",
   "execution_count": 32,
   "metadata": {},
   "outputs": [
    {
     "name": "stdout",
     "output_type": "stream",
     "text": [
      "4.869413870970758e-05 0.7332875220003601 0.09347198959797866\n"
     ]
    },
    {
     "data": {
      "image/png": "[encoded data removed]",
      "text/plain": [
       "<Figure size 640x480 with 1 Axes>"
      ]
     },
     "metadata": {},
     "output_type": "display_data"
    }
   ],
   "source": [
    "from sklearn.metrics import mean_squared_error as mse\n",
    "from sklearn.metrics import r2_score as r2\n",
    "from sklearn.metrics import mean_absolute_percentage_error as mape\n",
    "\n",
    "def plot_predictions1(model, X, y):\n",
    "  predictions = model.predict(X).flatten()\n",
    "  df = pd.DataFrame(data={'Predictions':predictions, 'Actuals':y})\n",
    "  plt.plot(df['Predictions'])\n",
    "  plt.plot(df['Actuals'])\n",
    "  plt.legend(['Actuals','Test Predictions'])\n",
    "  return df, mse(y, predictions), r2(y,predictions), mape (y,predictions)\n",
    "\n",
    "final, mse_val, r2_val, mape_value = plot_predictions1(model1, X_test1, y_test1)\n",
    "print(mse_val, r2_val, mape_value)"
   ]
  },
  {
   "cell_type": "code",
   "execution_count": 16,
   "metadata": {},
   "outputs": [
    {
     "data": {
      "text/plain": [
       "DateTime\n",
       "2020-08-02 00:00:00    0.056684\n",
       "2020-08-02 01:00:00    0.059487\n",
       "2020-08-02 02:00:00    0.052799\n",
       "2020-08-02 03:00:00    0.055698\n",
       "2020-08-02 04:00:00    0.052330\n",
       "Name: Combined Active Power in MW, dtype: float64"
      ]
     },
     "execution_count": 16,
     "metadata": {},
     "output_type": "execute_result"
    }
   ],
   "source": [
    "target.head()"
   ]
  },
  {
   "cell_type": "code",
   "execution_count": 17,
   "metadata": {},
   "outputs": [
    {
     "data": {
      "text/html": [
       "<div>\n",
       "<style scoped>\n",
       "    .dataframe tbody tr th:only-of-type {\n",
       "        vertical-align: middle;\n",
       "    }\n",
       "\n",
       "    .dataframe tbody tr th {\n",
       "        vertical-align: top;\n",
       "    }\n",
       "\n",
       "    .dataframe thead th {\n",
       "        text-align: right;\n",
       "    }\n",
       "</style>\n",
       "<table border=\"1\" class=\"dataframe\">\n",
       "  <thead>\n",
       "    <tr style=\"text-align: right;\">\n",
       "      <th></th>\n",
       "      <th>Power</th>\n",
       "      <th>Avg Temp</th>\n",
       "      <th>High Temp</th>\n",
       "      <th>Low Temp</th>\n",
       "      <th>Seconds</th>\n",
       "    </tr>\n",
       "    <tr>\n",
       "      <th>DateTime</th>\n",
       "      <th></th>\n",
       "      <th></th>\n",
       "      <th></th>\n",
       "      <th></th>\n",
       "      <th></th>\n",
       "    </tr>\n",
       "  </thead>\n",
       "  <tbody>\n",
       "    <tr>\n",
       "      <th>2020-08-02 00:00:00</th>\n",
       "      <td>0.056684</td>\n",
       "      <td>28.7</td>\n",
       "      <td>29.6</td>\n",
       "      <td>27.6</td>\n",
       "      <td>1.596326e+09</td>\n",
       "    </tr>\n",
       "    <tr>\n",
       "      <th>2020-08-02 01:00:00</th>\n",
       "      <td>0.059487</td>\n",
       "      <td>26.0</td>\n",
       "      <td>27.4</td>\n",
       "      <td>25.2</td>\n",
       "      <td>1.596330e+09</td>\n",
       "    </tr>\n",
       "    <tr>\n",
       "      <th>2020-08-02 02:00:00</th>\n",
       "      <td>0.052799</td>\n",
       "      <td>25.9</td>\n",
       "      <td>26.9</td>\n",
       "      <td>25.1</td>\n",
       "      <td>1.596334e+09</td>\n",
       "    </tr>\n",
       "    <tr>\n",
       "      <th>2020-08-02 03:00:00</th>\n",
       "      <td>0.055698</td>\n",
       "      <td>25.3</td>\n",
       "      <td>26.4</td>\n",
       "      <td>24.4</td>\n",
       "      <td>1.596337e+09</td>\n",
       "    </tr>\n",
       "    <tr>\n",
       "      <th>2020-08-02 04:00:00</th>\n",
       "      <td>0.052330</td>\n",
       "      <td>24.7</td>\n",
       "      <td>26.3</td>\n",
       "      <td>24.1</td>\n",
       "      <td>1.596341e+09</td>\n",
       "    </tr>\n",
       "    <tr>\n",
       "      <th>...</th>\n",
       "      <td>...</td>\n",
       "      <td>...</td>\n",
       "      <td>...</td>\n",
       "      <td>...</td>\n",
       "      <td>...</td>\n",
       "    </tr>\n",
       "    <tr>\n",
       "      <th>2020-11-30 19:00:00</th>\n",
       "      <td>0.052057</td>\n",
       "      <td>14.4</td>\n",
       "      <td>15.1</td>\n",
       "      <td>14.1</td>\n",
       "      <td>1.606763e+09</td>\n",
       "    </tr>\n",
       "    <tr>\n",
       "      <th>2020-11-30 20:00:00</th>\n",
       "      <td>0.044937</td>\n",
       "      <td>13.7</td>\n",
       "      <td>14.2</td>\n",
       "      <td>13.3</td>\n",
       "      <td>1.606766e+09</td>\n",
       "    </tr>\n",
       "    <tr>\n",
       "      <th>2020-11-30 21:00:00</th>\n",
       "      <td>0.048803</td>\n",
       "      <td>13.4</td>\n",
       "      <td>13.7</td>\n",
       "      <td>13.2</td>\n",
       "      <td>1.606770e+09</td>\n",
       "    </tr>\n",
       "    <tr>\n",
       "      <th>2020-11-30 22:00:00</th>\n",
       "      <td>0.049585</td>\n",
       "      <td>13.2</td>\n",
       "      <td>13.7</td>\n",
       "      <td>12.7</td>\n",
       "      <td>1.606774e+09</td>\n",
       "    </tr>\n",
       "    <tr>\n",
       "      <th>2020-11-30 23:00:00</th>\n",
       "      <td>0.046653</td>\n",
       "      <td>12.8</td>\n",
       "      <td>13.4</td>\n",
       "      <td>12.6</td>\n",
       "      <td>1.606777e+09</td>\n",
       "    </tr>\n",
       "  </tbody>\n",
       "</table>\n",
       "<p>2878 rows × 5 columns</p>\n",
       "</div>"
      ],
      "text/plain": [
       "                        Power  Avg Temp  High Temp  Low Temp       Seconds\n",
       "DateTime                                                                  \n",
       "2020-08-02 00:00:00  0.056684      28.7       29.6      27.6  1.596326e+09\n",
       "2020-08-02 01:00:00  0.059487      26.0       27.4      25.2  1.596330e+09\n",
       "2020-08-02 02:00:00  0.052799      25.9       26.9      25.1  1.596334e+09\n",
       "2020-08-02 03:00:00  0.055698      25.3       26.4      24.4  1.596337e+09\n",
       "2020-08-02 04:00:00  0.052330      24.7       26.3      24.1  1.596341e+09\n",
       "...                       ...       ...        ...       ...           ...\n",
       "2020-11-30 19:00:00  0.052057      14.4       15.1      14.1  1.606763e+09\n",
       "2020-11-30 20:00:00  0.044937      13.7       14.2      13.3  1.606766e+09\n",
       "2020-11-30 21:00:00  0.048803      13.4       13.7      13.2  1.606770e+09\n",
       "2020-11-30 22:00:00  0.049585      13.2       13.7      12.7  1.606774e+09\n",
       "2020-11-30 23:00:00  0.046653      12.8       13.4      12.6  1.606777e+09\n",
       "\n",
       "[2878 rows x 5 columns]"
      ]
     },
     "execution_count": 17,
     "metadata": {},
     "output_type": "execute_result"
    }
   ],
   "source": [
    "#Weather Data + Time\n",
    "temp_df = pd.DataFrame({'Power':target,\"Avg Temp\":df[\"Temp\"],\"High Temp\":df['Hi'],\"Low Temp\":df[\"Low\"]})\n",
    "temp_df['Seconds'] = temp_df.index.map(pd.Timestamp.timestamp)\n",
    "temp_df"
   ]
  },
  {
   "cell_type": "code",
   "execution_count": 18,
   "metadata": {},
   "outputs": [
    {
     "data": {
      "text/html": [
       "<div>\n",
       "<style scoped>\n",
       "    .dataframe tbody tr th:only-of-type {\n",
       "        vertical-align: middle;\n",
       "    }\n",
       "\n",
       "    .dataframe tbody tr th {\n",
       "        vertical-align: top;\n",
       "    }\n",
       "\n",
       "    .dataframe thead th {\n",
       "        text-align: right;\n",
       "    }\n",
       "</style>\n",
       "<table border=\"1\" class=\"dataframe\">\n",
       "  <thead>\n",
       "    <tr style=\"text-align: right;\">\n",
       "      <th></th>\n",
       "      <th>Power</th>\n",
       "      <th>Avg Temp</th>\n",
       "      <th>High Temp</th>\n",
       "      <th>Low Temp</th>\n",
       "      <th>Seconds</th>\n",
       "      <th>Day sin</th>\n",
       "      <th>Day cos</th>\n",
       "      <th>Month sin</th>\n",
       "      <th>Month cos</th>\n",
       "    </tr>\n",
       "    <tr>\n",
       "      <th>DateTime</th>\n",
       "      <th></th>\n",
       "      <th></th>\n",
       "      <th></th>\n",
       "      <th></th>\n",
       "      <th></th>\n",
       "      <th></th>\n",
       "      <th></th>\n",
       "      <th></th>\n",
       "      <th></th>\n",
       "    </tr>\n",
       "  </thead>\n",
       "  <tbody>\n",
       "    <tr>\n",
       "      <th>2020-08-02 00:00:00</th>\n",
       "      <td>0.056684</td>\n",
       "      <td>28.7</td>\n",
       "      <td>29.6</td>\n",
       "      <td>27.6</td>\n",
       "      <td>1.596326e+09</td>\n",
       "      <td>-4.553737e-12</td>\n",
       "      <td>1.000000</td>\n",
       "      <td>-0.743145</td>\n",
       "      <td>0.669131</td>\n",
       "    </tr>\n",
       "    <tr>\n",
       "      <th>2020-08-02 01:00:00</th>\n",
       "      <td>0.059487</td>\n",
       "      <td>26.0</td>\n",
       "      <td>27.4</td>\n",
       "      <td>25.2</td>\n",
       "      <td>1.596330e+09</td>\n",
       "      <td>2.588190e-01</td>\n",
       "      <td>0.965926</td>\n",
       "      <td>-0.737277</td>\n",
       "      <td>0.675590</td>\n",
       "    </tr>\n",
       "    <tr>\n",
       "      <th>2020-08-02 02:00:00</th>\n",
       "      <td>0.052799</td>\n",
       "      <td>25.9</td>\n",
       "      <td>26.9</td>\n",
       "      <td>25.1</td>\n",
       "      <td>1.596334e+09</td>\n",
       "      <td>5.000000e-01</td>\n",
       "      <td>0.866025</td>\n",
       "      <td>-0.731354</td>\n",
       "      <td>0.681998</td>\n",
       "    </tr>\n",
       "    <tr>\n",
       "      <th>2020-08-02 03:00:00</th>\n",
       "      <td>0.055698</td>\n",
       "      <td>25.3</td>\n",
       "      <td>26.4</td>\n",
       "      <td>24.4</td>\n",
       "      <td>1.596337e+09</td>\n",
       "      <td>7.071068e-01</td>\n",
       "      <td>0.707107</td>\n",
       "      <td>-0.725374</td>\n",
       "      <td>0.688355</td>\n",
       "    </tr>\n",
       "    <tr>\n",
       "      <th>2020-08-02 04:00:00</th>\n",
       "      <td>0.052330</td>\n",
       "      <td>24.7</td>\n",
       "      <td>26.3</td>\n",
       "      <td>24.1</td>\n",
       "      <td>1.596341e+09</td>\n",
       "      <td>8.660254e-01</td>\n",
       "      <td>0.500000</td>\n",
       "      <td>-0.719340</td>\n",
       "      <td>0.694658</td>\n",
       "    </tr>\n",
       "    <tr>\n",
       "      <th>...</th>\n",
       "      <td>...</td>\n",
       "      <td>...</td>\n",
       "      <td>...</td>\n",
       "      <td>...</td>\n",
       "      <td>...</td>\n",
       "      <td>...</td>\n",
       "      <td>...</td>\n",
       "      <td>...</td>\n",
       "      <td>...</td>\n",
       "    </tr>\n",
       "    <tr>\n",
       "      <th>2020-11-30 19:00:00</th>\n",
       "      <td>0.052057</td>\n",
       "      <td>14.4</td>\n",
       "      <td>15.1</td>\n",
       "      <td>14.1</td>\n",
       "      <td>1.606763e+09</td>\n",
       "      <td>-9.659258e-01</td>\n",
       "      <td>0.258819</td>\n",
       "      <td>-0.622515</td>\n",
       "      <td>0.782608</td>\n",
       "    </tr>\n",
       "    <tr>\n",
       "      <th>2020-11-30 20:00:00</th>\n",
       "      <td>0.044937</td>\n",
       "      <td>13.7</td>\n",
       "      <td>14.2</td>\n",
       "      <td>13.3</td>\n",
       "      <td>1.606766e+09</td>\n",
       "      <td>-8.660254e-01</td>\n",
       "      <td>0.500000</td>\n",
       "      <td>-0.615661</td>\n",
       "      <td>0.788011</td>\n",
       "    </tr>\n",
       "    <tr>\n",
       "      <th>2020-11-30 21:00:00</th>\n",
       "      <td>0.048803</td>\n",
       "      <td>13.4</td>\n",
       "      <td>13.7</td>\n",
       "      <td>13.2</td>\n",
       "      <td>1.606770e+09</td>\n",
       "      <td>-7.071068e-01</td>\n",
       "      <td>0.707107</td>\n",
       "      <td>-0.608761</td>\n",
       "      <td>0.793353</td>\n",
       "    </tr>\n",
       "    <tr>\n",
       "      <th>2020-11-30 22:00:00</th>\n",
       "      <td>0.049585</td>\n",
       "      <td>13.2</td>\n",
       "      <td>13.7</td>\n",
       "      <td>12.7</td>\n",
       "      <td>1.606774e+09</td>\n",
       "      <td>-5.000000e-01</td>\n",
       "      <td>0.866025</td>\n",
       "      <td>-0.601815</td>\n",
       "      <td>0.798636</td>\n",
       "    </tr>\n",
       "    <tr>\n",
       "      <th>2020-11-30 23:00:00</th>\n",
       "      <td>0.046653</td>\n",
       "      <td>12.8</td>\n",
       "      <td>13.4</td>\n",
       "      <td>12.6</td>\n",
       "      <td>1.606777e+09</td>\n",
       "      <td>-2.588190e-01</td>\n",
       "      <td>0.965926</td>\n",
       "      <td>-0.594823</td>\n",
       "      <td>0.803857</td>\n",
       "    </tr>\n",
       "  </tbody>\n",
       "</table>\n",
       "<p>2878 rows × 9 columns</p>\n",
       "</div>"
      ],
      "text/plain": [
       "                        Power  Avg Temp  High Temp  Low Temp       Seconds  \\\n",
       "DateTime                                                                     \n",
       "2020-08-02 00:00:00  0.056684      28.7       29.6      27.6  1.596326e+09   \n",
       "2020-08-02 01:00:00  0.059487      26.0       27.4      25.2  1.596330e+09   \n",
       "2020-08-02 02:00:00  0.052799      25.9       26.9      25.1  1.596334e+09   \n",
       "2020-08-02 03:00:00  0.055698      25.3       26.4      24.4  1.596337e+09   \n",
       "2020-08-02 04:00:00  0.052330      24.7       26.3      24.1  1.596341e+09   \n",
       "...                       ...       ...        ...       ...           ...   \n",
       "2020-11-30 19:00:00  0.052057      14.4       15.1      14.1  1.606763e+09   \n",
       "2020-11-30 20:00:00  0.044937      13.7       14.2      13.3  1.606766e+09   \n",
       "2020-11-30 21:00:00  0.048803      13.4       13.7      13.2  1.606770e+09   \n",
       "2020-11-30 22:00:00  0.049585      13.2       13.7      12.7  1.606774e+09   \n",
       "2020-11-30 23:00:00  0.046653      12.8       13.4      12.6  1.606777e+09   \n",
       "\n",
       "                          Day sin   Day cos  Month sin  Month cos  \n",
       "DateTime                                                           \n",
       "2020-08-02 00:00:00 -4.553737e-12  1.000000  -0.743145   0.669131  \n",
       "2020-08-02 01:00:00  2.588190e-01  0.965926  -0.737277   0.675590  \n",
       "2020-08-02 02:00:00  5.000000e-01  0.866025  -0.731354   0.681998  \n",
       "2020-08-02 03:00:00  7.071068e-01  0.707107  -0.725374   0.688355  \n",
       "2020-08-02 04:00:00  8.660254e-01  0.500000  -0.719340   0.694658  \n",
       "...                           ...       ...        ...        ...  \n",
       "2020-11-30 19:00:00 -9.659258e-01  0.258819  -0.622515   0.782608  \n",
       "2020-11-30 20:00:00 -8.660254e-01  0.500000  -0.615661   0.788011  \n",
       "2020-11-30 21:00:00 -7.071068e-01  0.707107  -0.608761   0.793353  \n",
       "2020-11-30 22:00:00 -5.000000e-01  0.866025  -0.601815   0.798636  \n",
       "2020-11-30 23:00:00 -2.588190e-01  0.965926  -0.594823   0.803857  \n",
       "\n",
       "[2878 rows x 9 columns]"
      ]
     },
     "execution_count": 18,
     "metadata": {},
     "output_type": "execute_result"
    }
   ],
   "source": [
    "#Adding into consideration the time as a periodic function\n",
    "\n",
    "day = 60*60*24\n",
    "month= 30*day\n",
    "temp_df['Day sin'] = np.sin(temp_df['Seconds'] * (2* np.pi / day))\n",
    "temp_df['Day cos'] = np.cos(temp_df['Seconds'] * (2 * np.pi / day))\n",
    "temp_df['Month sin'] = np.sin(temp_df['Seconds'] * (2 * np.pi / month))\n",
    "temp_df['Month cos'] = np.cos(temp_df['Seconds'] * (2 * np.pi / month))\n",
    "temp_df"
   ]
  },
  {
   "cell_type": "code",
   "execution_count": 19,
   "metadata": {},
   "outputs": [
    {
     "data": {
      "text/html": [
       "<div>\n",
       "<style scoped>\n",
       "    .dataframe tbody tr th:only-of-type {\n",
       "        vertical-align: middle;\n",
       "    }\n",
       "\n",
       "    .dataframe tbody tr th {\n",
       "        vertical-align: top;\n",
       "    }\n",
       "\n",
       "    .dataframe thead th {\n",
       "        text-align: right;\n",
       "    }\n",
       "</style>\n",
       "<table border=\"1\" class=\"dataframe\">\n",
       "  <thead>\n",
       "    <tr style=\"text-align: right;\">\n",
       "      <th></th>\n",
       "      <th>Power</th>\n",
       "      <th>Avg Temp</th>\n",
       "      <th>High Temp</th>\n",
       "      <th>Low Temp</th>\n",
       "      <th>Day sin</th>\n",
       "      <th>Day cos</th>\n",
       "      <th>Month sin</th>\n",
       "      <th>Month cos</th>\n",
       "    </tr>\n",
       "    <tr>\n",
       "      <th>DateTime</th>\n",
       "      <th></th>\n",
       "      <th></th>\n",
       "      <th></th>\n",
       "      <th></th>\n",
       "      <th></th>\n",
       "      <th></th>\n",
       "      <th></th>\n",
       "      <th></th>\n",
       "    </tr>\n",
       "  </thead>\n",
       "  <tbody>\n",
       "    <tr>\n",
       "      <th>2020-08-02 00:00:00</th>\n",
       "      <td>0.056684</td>\n",
       "      <td>28.7</td>\n",
       "      <td>29.6</td>\n",
       "      <td>27.6</td>\n",
       "      <td>-4.553737e-12</td>\n",
       "      <td>1.000000</td>\n",
       "      <td>-0.743145</td>\n",
       "      <td>0.669131</td>\n",
       "    </tr>\n",
       "    <tr>\n",
       "      <th>2020-08-02 01:00:00</th>\n",
       "      <td>0.059487</td>\n",
       "      <td>26.0</td>\n",
       "      <td>27.4</td>\n",
       "      <td>25.2</td>\n",
       "      <td>2.588190e-01</td>\n",
       "      <td>0.965926</td>\n",
       "      <td>-0.737277</td>\n",
       "      <td>0.675590</td>\n",
       "    </tr>\n",
       "    <tr>\n",
       "      <th>2020-08-02 02:00:00</th>\n",
       "      <td>0.052799</td>\n",
       "      <td>25.9</td>\n",
       "      <td>26.9</td>\n",
       "      <td>25.1</td>\n",
       "      <td>5.000000e-01</td>\n",
       "      <td>0.866025</td>\n",
       "      <td>-0.731354</td>\n",
       "      <td>0.681998</td>\n",
       "    </tr>\n",
       "    <tr>\n",
       "      <th>2020-08-02 03:00:00</th>\n",
       "      <td>0.055698</td>\n",
       "      <td>25.3</td>\n",
       "      <td>26.4</td>\n",
       "      <td>24.4</td>\n",
       "      <td>7.071068e-01</td>\n",
       "      <td>0.707107</td>\n",
       "      <td>-0.725374</td>\n",
       "      <td>0.688355</td>\n",
       "    </tr>\n",
       "    <tr>\n",
       "      <th>2020-08-02 04:00:00</th>\n",
       "      <td>0.052330</td>\n",
       "      <td>24.7</td>\n",
       "      <td>26.3</td>\n",
       "      <td>24.1</td>\n",
       "      <td>8.660254e-01</td>\n",
       "      <td>0.500000</td>\n",
       "      <td>-0.719340</td>\n",
       "      <td>0.694658</td>\n",
       "    </tr>\n",
       "  </tbody>\n",
       "</table>\n",
       "</div>"
      ],
      "text/plain": [
       "                        Power  Avg Temp  High Temp  Low Temp       Day sin  \\\n",
       "DateTime                                                                     \n",
       "2020-08-02 00:00:00  0.056684      28.7       29.6      27.6 -4.553737e-12   \n",
       "2020-08-02 01:00:00  0.059487      26.0       27.4      25.2  2.588190e-01   \n",
       "2020-08-02 02:00:00  0.052799      25.9       26.9      25.1  5.000000e-01   \n",
       "2020-08-02 03:00:00  0.055698      25.3       26.4      24.4  7.071068e-01   \n",
       "2020-08-02 04:00:00  0.052330      24.7       26.3      24.1  8.660254e-01   \n",
       "\n",
       "                      Day cos  Month sin  Month cos  \n",
       "DateTime                                             \n",
       "2020-08-02 00:00:00  1.000000  -0.743145   0.669131  \n",
       "2020-08-02 01:00:00  0.965926  -0.737277   0.675590  \n",
       "2020-08-02 02:00:00  0.866025  -0.731354   0.681998  \n",
       "2020-08-02 03:00:00  0.707107  -0.725374   0.688355  \n",
       "2020-08-02 04:00:00  0.500000  -0.719340   0.694658  "
      ]
     },
     "execution_count": 19,
     "metadata": {},
     "output_type": "execute_result"
    }
   ],
   "source": [
    "temp_df.drop(\"Seconds\",axis=1,inplace=True)\n",
    "temp_df.head()"
   ]
  },
  {
   "cell_type": "code",
   "execution_count": 20,
   "metadata": {},
   "outputs": [],
   "source": [
    "#Function to create timeseries for multiple parameters\n",
    "def df_to_X_y2(df, window_size=1):\n",
    "  df_as_np = df.to_numpy()\n",
    "  X = []\n",
    "  y = []\n",
    "  for i in range(len(df_as_np)-window_size):\n",
    "    row = [r for r in df_as_np[i:i+window_size]]\n",
    "    X.append(row)\n",
    "    label = df_as_np[i+window_size][0]\n",
    "    y.append(label)\n",
    "  return np.array(X), np.array(y)"
   ]
  },
  {
   "cell_type": "code",
   "execution_count": 21,
   "metadata": {},
   "outputs": [
    {
     "data": {
      "text/plain": [
       "((2877, 1, 8), (2877,))"
      ]
     },
     "execution_count": 21,
     "metadata": {},
     "output_type": "execute_result"
    }
   ],
   "source": [
    "X2, y2 = df_to_X_y2(temp_df)\n",
    "X2.shape, y2.shape"
   ]
  },
  {
   "cell_type": "code",
   "execution_count": 22,
   "metadata": {},
   "outputs": [
    {
     "data": {
      "text/plain": [
       "((2000, 1, 8), (2000,), (435, 1, 8), (435,), (442, 1, 8), (442,))"
      ]
     },
     "execution_count": 22,
     "metadata": {},
     "output_type": "execute_result"
    }
   ],
   "source": [
    "X2_train, y2_train = X2[:2000], y2[:2000]\n",
    "X2_val, y2_val = X2[2000:2435], y2[2000:2435]\n",
    "X2_test, y2_test = X2[2435:], y2[2435:]\n",
    "X2_train.shape, y2_train.shape, X2_val.shape, y2_val.shape, X2_test.shape, y2_test.shape"
   ]
  },
  {
   "cell_type": "code",
   "execution_count": 23,
   "metadata": {},
   "outputs": [
    {
     "data": {
      "text/plain": [
       "array([[[ 0.07168051, -1.02806753, -1.05114388, ..., -0.96592583,\n",
       "          0.97629601, -0.21643961]],\n",
       "\n",
       "       [[ 0.07084134, -0.94875434, -1.03141483, ..., -0.8660254 ,\n",
       "          0.97437006, -0.22495105]],\n",
       "\n",
       "       [[ 0.06864545, -0.92892604, -0.99195674, ..., -0.70710678,\n",
       "          0.97236992, -0.23344536]],\n",
       "\n",
       "       ...,\n",
       "\n",
       "       [[ 0.04493744, -2.35656353, -2.35326096, ...,  0.5       ,\n",
       "         -0.61566148,  0.78801075]],\n",
       "\n",
       "       [[ 0.04880258, -2.41604843, -2.4519062 , ...,  0.70710678,\n",
       "         -0.60876143,  0.79335334]],\n",
       "\n",
       "       [[ 0.04958546, -2.45570503, -2.4519062 , ...,  0.8660254 ,\n",
       "         -0.60181502,  0.79863551]]])"
      ]
     },
     "execution_count": 23,
     "metadata": {},
     "output_type": "execute_result"
    }
   ],
   "source": [
    "#Standardization for the temperatures. Dividing mean/std \n",
    "avg_temp_training_mean = np.mean(X2_train[:, :, 1])\n",
    "avg_temp_training_std = np.std(X2_train[:, :, 1])\n",
    "hi_temp_training_mean=np.mean(X2_train[:, :, 2])\n",
    "hi_temp_training_std=np.std(X2_train[:, :, 2])\n",
    "low_temp_training_mean = np.mean(X2_train[:, :, 3])\n",
    "low_temp_training_std=np.std(X2_train[:, :, 3])\n",
    "\n",
    "def preprocess(X):\n",
    "  X[:, :, 1] = (X[:, :, 1] - avg_temp_training_mean) / avg_temp_training_std\n",
    "  X[:, :, 2] = (X[:, :, 2] - hi_temp_training_mean) / hi_temp_training_std\n",
    "  X[:, :, 3] = (X[:, :, 3] - low_temp_training_mean) / low_temp_training_std\n",
    "  return X\n",
    "\n",
    "preprocess(X2_train)\n",
    "preprocess(X2_val)\n",
    "preprocess(X2_test)"
   ]
  },
  {
   "cell_type": "code",
   "execution_count": 24,
   "metadata": {},
   "outputs": [
    {
     "name": "stdout",
     "output_type": "stream",
     "text": [
      "Model: \"sequential_1\"\n",
      "_________________________________________________________________\n",
      "Layer (type)                 Output Shape              Param #   \n",
      "=================================================================\n",
      "lstm_1 (LSTM)                (None, 64)                18688     \n",
      "_________________________________________________________________\n",
      "dense_2 (Dense)              (None, 8)                 520       \n",
      "_________________________________________________________________\n",
      "dense_3 (Dense)              (None, 1)                 9         \n",
      "=================================================================\n",
      "Total params: 19,217\n",
      "Trainable params: 19,217\n",
      "Non-trainable params: 0\n",
      "_________________________________________________________________\n"
     ]
    }
   ],
   "source": [
    "model4 = Sequential()\n",
    "model4.add(InputLayer((1, 8)))\n",
    "model4.add(LSTM(64))\n",
    "model4.add(Dense(8, 'relu'))\n",
    "model4.add(Dense(1, 'linear'))\n",
    "\n",
    "model4.summary()"
   ]
  },
  {
   "cell_type": "code",
   "execution_count": 25,
   "metadata": {},
   "outputs": [],
   "source": [
    "cp4 = ModelCheckpoint('model4/', save_best_only=True)\n",
    "model4.compile(loss=MeanSquaredError(), optimizer=Adam(learning_rate=0.0001), metrics=[RootMeanSquaredError()])"
   ]
  },
  {
   "cell_type": "code",
   "execution_count": 26,
   "metadata": {},
   "outputs": [
    {
     "name": "stdout",
     "output_type": "stream",
     "text": [
      "Epoch 1/50\n",
      "63/63 [==============================] - 3s 11ms/step - loss: 0.0101 - root_mean_squared_error: 0.1004 - val_loss: 0.0072 - val_root_mean_squared_error: 0.0851\n"
     ]
    },
    {
     "name": "stderr",
     "output_type": "stream",
     "text": [
      "WARNING:absl:Found untraced functions such as lstm_cell_2_layer_call_fn, lstm_cell_2_layer_call_and_return_conditional_losses, lstm_cell_2_layer_call_fn, lstm_cell_2_layer_call_and_return_conditional_losses, lstm_cell_2_layer_call_and_return_conditional_losses while saving (showing 5 of 5). These functions will not be directly callable after loading.\n"
     ]
    },
    {
     "name": "stdout",
     "output_type": "stream",
     "text": [
      "INFO:tensorflow:Assets written to: model4\\assets\n"
     ]
    },
    {
     "name": "stderr",
     "output_type": "stream",
     "text": [
      "INFO:tensorflow:Assets written to: model4\\assets\n"
     ]
    },
    {
     "name": "stdout",
     "output_type": "stream",
     "text": [
      "Epoch 2/50\n",
      "63/63 [==============================] - 0s 3ms/step - loss: 0.0054 - root_mean_squared_error: 0.0733 - val_loss: 0.0035 - val_root_mean_squared_error: 0.0588\n"
     ]
    },
    {
     "ename": "KeyboardInterrupt",
     "evalue": "",
     "output_type": "error",
     "traceback": [
      "\u001b[1;31m---------------------------------------------------------------------------\u001b[0m",
      "\u001b[1;31mKeyboardInterrupt\u001b[0m                         Traceback (most recent call last)",
      "Cell \u001b[1;32mIn [26], line 1\u001b[0m\n\u001b[1;32m----> 1\u001b[0m model4\u001b[39m.\u001b[39;49mfit(X2_train, y2_train, validation_data\u001b[39m=\u001b[39;49m(X2_val, y2_val), epochs\u001b[39m=\u001b[39;49m\u001b[39m50\u001b[39;49m, callbacks\u001b[39m=\u001b[39;49m[cp4])\n",
      "File \u001b[1;32m~\\AppData\\Local\\Packages\\PythonSoftwareFoundation.Python.3.9_qbz5n2kfra8p0\\LocalCache\\local-packages\\Python39\\site-packages\\tensorflow\\python\\keras\\engine\\training.py:1229\u001b[0m, in \u001b[0;36mModel.fit\u001b[1;34m(self, x, y, batch_size, epochs, verbose, callbacks, validation_split, validation_data, shuffle, class_weight, sample_weight, initial_epoch, steps_per_epoch, validation_steps, validation_batch_size, validation_freq, max_queue_size, workers, use_multiprocessing)\u001b[0m\n\u001b[0;32m   1226\u001b[0m   val_logs \u001b[39m=\u001b[39m {\u001b[39m'\u001b[39m\u001b[39mval_\u001b[39m\u001b[39m'\u001b[39m \u001b[39m+\u001b[39m name: val \u001b[39mfor\u001b[39;00m name, val \u001b[39min\u001b[39;00m val_logs\u001b[39m.\u001b[39mitems()}\n\u001b[0;32m   1227\u001b[0m   epoch_logs\u001b[39m.\u001b[39mupdate(val_logs)\n\u001b[1;32m-> 1229\u001b[0m callbacks\u001b[39m.\u001b[39;49mon_epoch_end(epoch, epoch_logs)\n\u001b[0;32m   1230\u001b[0m training_logs \u001b[39m=\u001b[39m epoch_logs\n\u001b[0;32m   1231\u001b[0m \u001b[39mif\u001b[39;00m \u001b[39mself\u001b[39m\u001b[39m.\u001b[39mstop_training:\n",
      "File \u001b[1;32m~\\AppData\\Local\\Packages\\PythonSoftwareFoundation.Python.3.9_qbz5n2kfra8p0\\LocalCache\\local-packages\\Python39\\site-packages\\tensorflow\\python\\keras\\callbacks.py:435\u001b[0m, in \u001b[0;36mCallbackList.on_epoch_end\u001b[1;34m(self, epoch, logs)\u001b[0m\n\u001b[0;32m    433\u001b[0m logs \u001b[39m=\u001b[39m \u001b[39mself\u001b[39m\u001b[39m.\u001b[39m_process_logs(logs)\n\u001b[0;32m    434\u001b[0m \u001b[39mfor\u001b[39;00m callback \u001b[39min\u001b[39;00m \u001b[39mself\u001b[39m\u001b[39m.\u001b[39mcallbacks:\n\u001b[1;32m--> 435\u001b[0m   callback\u001b[39m.\u001b[39;49mon_epoch_end(epoch, logs)\n",
      "File \u001b[1;32m~\\AppData\\Local\\Packages\\PythonSoftwareFoundation.Python.3.9_qbz5n2kfra8p0\\LocalCache\\local-packages\\Python39\\site-packages\\tensorflow\\python\\keras\\callbacks.py:1361\u001b[0m, in \u001b[0;36mModelCheckpoint.on_epoch_end\u001b[1;34m(self, epoch, logs)\u001b[0m\n\u001b[0;32m   1359\u001b[0m \u001b[39m# pylint: disable=protected-access\u001b[39;00m\n\u001b[0;32m   1360\u001b[0m \u001b[39mif\u001b[39;00m \u001b[39mself\u001b[39m\u001b[39m.\u001b[39msave_freq \u001b[39m==\u001b[39m \u001b[39m'\u001b[39m\u001b[39mepoch\u001b[39m\u001b[39m'\u001b[39m:\n\u001b[1;32m-> 1361\u001b[0m   \u001b[39mself\u001b[39;49m\u001b[39m.\u001b[39;49m_save_model(epoch\u001b[39m=\u001b[39;49mepoch, logs\u001b[39m=\u001b[39;49mlogs)\n",
      "File \u001b[1;32m~\\AppData\\Local\\Packages\\PythonSoftwareFoundation.Python.3.9_qbz5n2kfra8p0\\LocalCache\\local-packages\\Python39\\site-packages\\tensorflow\\python\\keras\\callbacks.py:1413\u001b[0m, in \u001b[0;36mModelCheckpoint._save_model\u001b[1;34m(self, epoch, logs)\u001b[0m\n\u001b[0;32m   1410\u001b[0m     \u001b[39mself\u001b[39m\u001b[39m.\u001b[39mmodel\u001b[39m.\u001b[39msave_weights(\n\u001b[0;32m   1411\u001b[0m         filepath, overwrite\u001b[39m=\u001b[39m\u001b[39mTrue\u001b[39;00m, options\u001b[39m=\u001b[39m\u001b[39mself\u001b[39m\u001b[39m.\u001b[39m_options)\n\u001b[0;32m   1412\u001b[0m   \u001b[39melse\u001b[39;00m:\n\u001b[1;32m-> 1413\u001b[0m     \u001b[39mself\u001b[39;49m\u001b[39m.\u001b[39;49mmodel\u001b[39m.\u001b[39;49msave(filepath, overwrite\u001b[39m=\u001b[39;49m\u001b[39mTrue\u001b[39;49;00m, options\u001b[39m=\u001b[39;49m\u001b[39mself\u001b[39;49m\u001b[39m.\u001b[39;49m_options)\n\u001b[0;32m   1414\u001b[0m \u001b[39melse\u001b[39;00m:\n\u001b[0;32m   1415\u001b[0m   \u001b[39mif\u001b[39;00m \u001b[39mself\u001b[39m\u001b[39m.\u001b[39mverbose \u001b[39m>\u001b[39m \u001b[39m0\u001b[39m:\n",
      "File \u001b[1;32m~\\AppData\\Local\\Packages\\PythonSoftwareFoundation.Python.3.9_qbz5n2kfra8p0\\LocalCache\\local-packages\\Python39\\site-packages\\tensorflow\\python\\keras\\engine\\training.py:2111\u001b[0m, in \u001b[0;36mModel.save\u001b[1;34m(self, filepath, overwrite, include_optimizer, save_format, signatures, options, save_traces)\u001b[0m\n\u001b[0;32m   2069\u001b[0m \u001b[39m\"\"\"Saves the model to Tensorflow SavedModel or a single HDF5 file.\u001b[39;00m\n\u001b[0;32m   2070\u001b[0m \n\u001b[0;32m   2071\u001b[0m \u001b[39mPlease see `tf.keras.models.save_model` or the\u001b[39;00m\n\u001b[1;32m   (...)\u001b[0m\n\u001b[0;32m   2108\u001b[0m \u001b[39m```\u001b[39;00m\n\u001b[0;32m   2109\u001b[0m \u001b[39m\"\"\"\u001b[39;00m\n\u001b[0;32m   2110\u001b[0m \u001b[39m# pylint: enable=line-too-long\u001b[39;00m\n\u001b[1;32m-> 2111\u001b[0m save\u001b[39m.\u001b[39;49msave_model(\u001b[39mself\u001b[39;49m, filepath, overwrite, include_optimizer, save_format,\n\u001b[0;32m   2112\u001b[0m                 signatures, options, save_traces)\n",
      "File \u001b[1;32m~\\AppData\\Local\\Packages\\PythonSoftwareFoundation.Python.3.9_qbz5n2kfra8p0\\LocalCache\\local-packages\\Python39\\site-packages\\tensorflow\\python\\keras\\saving\\save.py:150\u001b[0m, in \u001b[0;36msave_model\u001b[1;34m(model, filepath, overwrite, include_optimizer, save_format, signatures, options, save_traces)\u001b[0m\n\u001b[0;32m    148\u001b[0m \u001b[39melse\u001b[39;00m:\n\u001b[0;32m    149\u001b[0m   \u001b[39mwith\u001b[39;00m generic_utils\u001b[39m.\u001b[39mSharedObjectSavingScope():\n\u001b[1;32m--> 150\u001b[0m     saved_model_save\u001b[39m.\u001b[39;49msave(model, filepath, overwrite, include_optimizer,\n\u001b[0;32m    151\u001b[0m                           signatures, options, save_traces)\n",
      "File \u001b[1;32m~\\AppData\\Local\\Packages\\PythonSoftwareFoundation.Python.3.9_qbz5n2kfra8p0\\LocalCache\\local-packages\\Python39\\site-packages\\tensorflow\\python\\keras\\saving\\saved_model\\save.py:89\u001b[0m, in \u001b[0;36msave\u001b[1;34m(model, filepath, overwrite, include_optimizer, signatures, options, save_traces)\u001b[0m\n\u001b[0;32m     87\u001b[0m \u001b[39mwith\u001b[39;00m K\u001b[39m.\u001b[39mdeprecated_internal_learning_phase_scope(\u001b[39m0\u001b[39m):\n\u001b[0;32m     88\u001b[0m   \u001b[39mwith\u001b[39;00m utils\u001b[39m.\u001b[39mkeras_option_scope(save_traces):\n\u001b[1;32m---> 89\u001b[0m     saved_nodes, node_paths \u001b[39m=\u001b[39m save_lib\u001b[39m.\u001b[39;49msave_and_return_nodes(\n\u001b[0;32m     90\u001b[0m         model, filepath, signatures, options)\n\u001b[0;32m     92\u001b[0m   \u001b[39m# Save all metadata to a separate file in the SavedModel directory.\u001b[39;00m\n\u001b[0;32m     93\u001b[0m   metadata \u001b[39m=\u001b[39m generate_keras_metadata(saved_nodes, node_paths)\n",
      "File \u001b[1;32m~\\AppData\\Local\\Packages\\PythonSoftwareFoundation.Python.3.9_qbz5n2kfra8p0\\LocalCache\\local-packages\\Python39\\site-packages\\tensorflow\\python\\saved_model\\save.py:1103\u001b[0m, in \u001b[0;36msave_and_return_nodes\u001b[1;34m(obj, export_dir, signatures, options, raise_metadata_warning, experimental_skip_checkpoint)\u001b[0m\n\u001b[0;32m   1099\u001b[0m saved_model \u001b[39m=\u001b[39m saved_model_pb2\u001b[39m.\u001b[39mSavedModel()\n\u001b[0;32m   1100\u001b[0m meta_graph_def \u001b[39m=\u001b[39m saved_model\u001b[39m.\u001b[39mmeta_graphs\u001b[39m.\u001b[39madd()\n\u001b[0;32m   1102\u001b[0m _, exported_graph, object_saver, asset_info, saved_nodes, node_paths \u001b[39m=\u001b[39m (\n\u001b[1;32m-> 1103\u001b[0m     _build_meta_graph(obj, signatures, options, meta_graph_def,\n\u001b[0;32m   1104\u001b[0m                       raise_metadata_warning))\n\u001b[0;32m   1105\u001b[0m saved_model\u001b[39m.\u001b[39msaved_model_schema_version \u001b[39m=\u001b[39m constants\u001b[39m.\u001b[39mSAVED_MODEL_SCHEMA_VERSION\n\u001b[0;32m   1107\u001b[0m \u001b[39m# Write the checkpoint, copy assets into the assets directory, and write out\u001b[39;00m\n\u001b[0;32m   1108\u001b[0m \u001b[39m# the SavedModel proto itself.\u001b[39;00m\n",
      "File \u001b[1;32m~\\AppData\\Local\\Packages\\PythonSoftwareFoundation.Python.3.9_qbz5n2kfra8p0\\LocalCache\\local-packages\\Python39\\site-packages\\tensorflow\\python\\saved_model\\save.py:1290\u001b[0m, in \u001b[0;36m_build_meta_graph\u001b[1;34m(obj, signatures, options, meta_graph_def, raise_metadata_warning)\u001b[0m\n\u001b[0;32m   1263\u001b[0m \u001b[39m\"\"\"Creates a MetaGraph under a save context.\u001b[39;00m\n\u001b[0;32m   1264\u001b[0m \n\u001b[0;32m   1265\u001b[0m \u001b[39mArgs:\u001b[39;00m\n\u001b[1;32m   (...)\u001b[0m\n\u001b[0;32m   1286\u001b[0m \u001b[39m  asset_info: `_AssetInfo` tuple containing external assets in the `obj`.\u001b[39;00m\n\u001b[0;32m   1287\u001b[0m \u001b[39m\"\"\"\u001b[39;00m\n\u001b[0;32m   1289\u001b[0m \u001b[39mwith\u001b[39;00m save_context\u001b[39m.\u001b[39msave_context(options):\n\u001b[1;32m-> 1290\u001b[0m   \u001b[39mreturn\u001b[39;00m _build_meta_graph_impl(obj, signatures, options, meta_graph_def,\n\u001b[0;32m   1291\u001b[0m                                 raise_metadata_warning)\n",
      "File \u001b[1;32m~\\AppData\\Local\\Packages\\PythonSoftwareFoundation.Python.3.9_qbz5n2kfra8p0\\LocalCache\\local-packages\\Python39\\site-packages\\tensorflow\\python\\saved_model\\save.py:1220\u001b[0m, in \u001b[0;36m_build_meta_graph_impl\u001b[1;34m(obj, signatures, options, meta_graph_def, raise_metadata_warning)\u001b[0m\n\u001b[0;32m   1214\u001b[0m checkpoint_graph_view\u001b[39m.\u001b[39madd_object(\n\u001b[0;32m   1215\u001b[0m     parent_node\u001b[39m=\u001b[39mcheckpoint_graph_view\u001b[39m.\u001b[39mroot,\n\u001b[0;32m   1216\u001b[0m     name_in_parent\u001b[39m=\u001b[39msignature_serialization\u001b[39m.\u001b[39mSIGNATURE_ATTRIBUTE_NAME,\n\u001b[0;32m   1217\u001b[0m     subgraph_root\u001b[39m=\u001b[39msignature_map)\n\u001b[0;32m   1219\u001b[0m \u001b[39m# Use _SaveableView to provide a frozen listing of properties and functions.\u001b[39;00m\n\u001b[1;32m-> 1220\u001b[0m saveable_view \u001b[39m=\u001b[39m _SaveableView(checkpoint_graph_view, options,\n\u001b[0;32m   1221\u001b[0m                               wrapped_functions)\n\u001b[0;32m   1222\u001b[0m object_saver \u001b[39m=\u001b[39m util\u001b[39m.\u001b[39mTrackableSaver(checkpoint_graph_view)\n\u001b[0;32m   1223\u001b[0m asset_info, exported_graph \u001b[39m=\u001b[39m _fill_meta_graph_def(meta_graph_def,\n\u001b[0;32m   1224\u001b[0m                                                   saveable_view, signatures,\n\u001b[0;32m   1225\u001b[0m                                                   options\u001b[39m.\u001b[39mnamespace_whitelist)\n",
      "File \u001b[1;32m~\\AppData\\Local\\Packages\\PythonSoftwareFoundation.Python.3.9_qbz5n2kfra8p0\\LocalCache\\local-packages\\Python39\\site-packages\\tensorflow\\python\\saved_model\\save.py:191\u001b[0m, in \u001b[0;36m_SaveableView.__init__\u001b[1;34m(self, checkpoint_view, options, wrapped_functions)\u001b[0m\n\u001b[0;32m    188\u001b[0m \u001b[39mself\u001b[39m\u001b[39m.\u001b[39m_wrapped_functions \u001b[39m=\u001b[39m wrapped_functions \u001b[39mor\u001b[39;00m {}\n\u001b[0;32m    189\u001b[0m \u001b[39m# Run through the nodes in the object graph first for side effects of\u001b[39;00m\n\u001b[0;32m    190\u001b[0m \u001b[39m# creating variables.\u001b[39;00m\n\u001b[1;32m--> 191\u001b[0m \u001b[39mself\u001b[39;49m\u001b[39m.\u001b[39;49m_trace_all_concrete_functions()\n\u001b[0;32m    193\u001b[0m (\u001b[39mself\u001b[39m\u001b[39m.\u001b[39m_trackable_objects, \u001b[39mself\u001b[39m\u001b[39m.\u001b[39mnode_paths, \u001b[39mself\u001b[39m\u001b[39m.\u001b[39m_node_ids,\n\u001b[0;32m    194\u001b[0m  \u001b[39mself\u001b[39m\u001b[39m.\u001b[39m_slot_variables) \u001b[39m=\u001b[39m (\n\u001b[0;32m    195\u001b[0m      \u001b[39mself\u001b[39m\u001b[39m.\u001b[39mcheckpoint_view\u001b[39m.\u001b[39mobjects_ids_and_slot_variables_and_paths())\n\u001b[0;32m    196\u001b[0m \u001b[39mself\u001b[39m\u001b[39m.\u001b[39m_initialize_nodes_and_concrete_functions()\n",
      "File \u001b[1;32m~\\AppData\\Local\\Packages\\PythonSoftwareFoundation.Python.3.9_qbz5n2kfra8p0\\LocalCache\\local-packages\\Python39\\site-packages\\tensorflow\\python\\saved_model\\save.py:275\u001b[0m, in \u001b[0;36m_SaveableView._trace_all_concrete_functions\u001b[1;34m(self)\u001b[0m\n\u001b[0;32m    266\u001b[0m \u001b[39m\"\"\"Trace concrete functions to force side-effects.\u001b[39;00m\n\u001b[0;32m    267\u001b[0m \n\u001b[0;32m    268\u001b[0m \u001b[39mLists the concrete functions in order to:\u001b[39;00m\n\u001b[1;32m   (...)\u001b[0m\n\u001b[0;32m    272\u001b[0m \u001b[39m    variables on first run.\u001b[39;00m\n\u001b[0;32m    273\u001b[0m \u001b[39m\"\"\"\u001b[39;00m\n\u001b[0;32m    274\u001b[0m \u001b[39mfor\u001b[39;00m obj \u001b[39min\u001b[39;00m \u001b[39mself\u001b[39m\u001b[39m.\u001b[39mcheckpoint_view\u001b[39m.\u001b[39mlist_objects():\n\u001b[1;32m--> 275\u001b[0m   \u001b[39mfor\u001b[39;00m function \u001b[39min\u001b[39;00m \u001b[39mself\u001b[39;49m\u001b[39m.\u001b[39;49mcheckpoint_view\u001b[39m.\u001b[39;49mlist_functions(obj)\u001b[39m.\u001b[39mvalues():\n\u001b[0;32m    276\u001b[0m     \u001b[39mif\u001b[39;00m \u001b[39misinstance\u001b[39m(function, def_function\u001b[39m.\u001b[39mFunction):\n\u001b[0;32m    277\u001b[0m       function\u001b[39m.\u001b[39m_list_all_concrete_functions_for_serialization()\n",
      "File \u001b[1;32m~\\AppData\\Local\\Packages\\PythonSoftwareFoundation.Python.3.9_qbz5n2kfra8p0\\LocalCache\\local-packages\\Python39\\site-packages\\tensorflow\\python\\saved_model\\save.py:154\u001b[0m, in \u001b[0;36m_AugmentedGraphView.list_functions\u001b[1;34m(self, obj)\u001b[0m\n\u001b[0;32m    152\u001b[0m obj_functions \u001b[39m=\u001b[39m \u001b[39mself\u001b[39m\u001b[39m.\u001b[39m_functions\u001b[39m.\u001b[39mget(obj, \u001b[39mNone\u001b[39;00m)\n\u001b[0;32m    153\u001b[0m \u001b[39mif\u001b[39;00m obj_functions \u001b[39mis\u001b[39;00m \u001b[39mNone\u001b[39;00m:\n\u001b[1;32m--> 154\u001b[0m   obj_functions \u001b[39m=\u001b[39m obj\u001b[39m.\u001b[39;49m_list_functions_for_serialization(  \u001b[39m# pylint: disable=protected-access\u001b[39;49;00m\n\u001b[0;32m    155\u001b[0m       \u001b[39mself\u001b[39;49m\u001b[39m.\u001b[39;49m_serialization_cache)\n\u001b[0;32m    156\u001b[0m   \u001b[39mself\u001b[39m\u001b[39m.\u001b[39m_functions[obj] \u001b[39m=\u001b[39m obj_functions\n\u001b[0;32m    157\u001b[0m \u001b[39mreturn\u001b[39;00m obj_functions\n",
      "File \u001b[1;32m~\\AppData\\Local\\Packages\\PythonSoftwareFoundation.Python.3.9_qbz5n2kfra8p0\\LocalCache\\local-packages\\Python39\\site-packages\\tensorflow\\python\\training\\tracking\\tracking.py:121\u001b[0m, in \u001b[0;36mAutoTrackable._list_functions_for_serialization\u001b[1;34m(self, unused_serialization_cache)\u001b[0m\n\u001b[0;32m    116\u001b[0m   attribute_value \u001b[39m=\u001b[39m \u001b[39mNone\u001b[39;00m\n\u001b[0;32m    117\u001b[0m \u001b[39mfinally\u001b[39;00m:\n\u001b[0;32m    118\u001b[0m   \u001b[39m# We reset the verbosity setting in a `finally` block, to make\u001b[39;00m\n\u001b[0;32m    119\u001b[0m   \u001b[39m# sure it always happens, even if we make the exception catching above\u001b[39;00m\n\u001b[0;32m    120\u001b[0m   \u001b[39m# be less broad.\u001b[39;00m\n\u001b[1;32m--> 121\u001b[0m   logging\u001b[39m.\u001b[39;49mset_verbosity(logging_verbosity)\n\u001b[0;32m    122\u001b[0m \u001b[39mif\u001b[39;00m \u001b[39misinstance\u001b[39m(attribute_value, (def_function\u001b[39m.\u001b[39mFunction,\n\u001b[0;32m    123\u001b[0m                                 defun\u001b[39m.\u001b[39mConcreteFunction)):\n\u001b[0;32m    124\u001b[0m   functions[attribute_name] \u001b[39m=\u001b[39m attribute_value\n",
      "File \u001b[1;32m~\\AppData\\Local\\Packages\\PythonSoftwareFoundation.Python.3.9_qbz5n2kfra8p0\\LocalCache\\local-packages\\Python39\\site-packages\\absl\\logging\\__init__.py:355\u001b[0m, in \u001b[0;36mset_verbosity\u001b[1;34m(v)\u001b[0m\n\u001b[0;32m    353\u001b[0m \u001b[39mexcept\u001b[39;00m \u001b[39mValueError\u001b[39;00m:\n\u001b[0;32m    354\u001b[0m   new_level \u001b[39m=\u001b[39m converter\u001b[39m.\u001b[39mABSL_NAMES[v\u001b[39m.\u001b[39mupper()]\n\u001b[1;32m--> 355\u001b[0m FLAGS\u001b[39m.\u001b[39;49mverbosity \u001b[39m=\u001b[39m new_level\n",
      "File \u001b[1;32m~\\AppData\\Local\\Packages\\PythonSoftwareFoundation.Python.3.9_qbz5n2kfra8p0\\LocalCache\\local-packages\\Python39\\site-packages\\absl\\flags\\_flagvalues.py:502\u001b[0m, in \u001b[0;36mFlagValues.__setattr__\u001b[1;34m(self, name, value)\u001b[0m\n\u001b[0;32m    500\u001b[0m \u001b[39mdef\u001b[39;00m \u001b[39m__setattr__\u001b[39m(\u001b[39mself\u001b[39m, name, value):\n\u001b[0;32m    501\u001b[0m   \u001b[39m\"\"\"Sets the 'value' attribute of the flag --name.\"\"\"\u001b[39;00m\n\u001b[1;32m--> 502\u001b[0m   \u001b[39mself\u001b[39m\u001b[39m.\u001b[39m_set_attributes(\u001b[39m*\u001b[39m\u001b[39m*\u001b[39m{name: value})\n\u001b[0;32m    503\u001b[0m   \u001b[39mreturn\u001b[39;00m value\n",
      "File \u001b[1;32m~\\AppData\\Local\\Packages\\PythonSoftwareFoundation.Python.3.9_qbz5n2kfra8p0\\LocalCache\\local-packages\\Python39\\site-packages\\absl\\flags\\_flagvalues.py:513\u001b[0m, in \u001b[0;36mFlagValues._set_attributes\u001b[1;34m(self, **attributes)\u001b[0m\n\u001b[0;32m    511\u001b[0m   \u001b[39mraise\u001b[39;00m \u001b[39mAttributeError\u001b[39;00m(name)\n\u001b[0;32m    512\u001b[0m \u001b[39mif\u001b[39;00m name \u001b[39min\u001b[39;00m fl:\n\u001b[1;32m--> 513\u001b[0m   fl[name]\u001b[39m.\u001b[39;49mvalue \u001b[39m=\u001b[39m value\n\u001b[0;32m    514\u001b[0m   known_flags\u001b[39m.\u001b[39madd(name)\n\u001b[0;32m    515\u001b[0m \u001b[39melse\u001b[39;00m:\n",
      "File \u001b[1;32m~\\AppData\\Local\\Packages\\PythonSoftwareFoundation.Python.3.9_qbz5n2kfra8p0\\LocalCache\\local-packages\\Python39\\site-packages\\absl\\logging\\__init__.py:177\u001b[0m, in \u001b[0;36m_VerbosityFlag.value\u001b[1;34m(self, v)\u001b[0m\n\u001b[0;32m    174\u001b[0m \u001b[39m@value\u001b[39m\u001b[39m.\u001b[39msetter\n\u001b[0;32m    175\u001b[0m \u001b[39mdef\u001b[39;00m \u001b[39mvalue\u001b[39m(\u001b[39mself\u001b[39m, v):\n\u001b[0;32m    176\u001b[0m   \u001b[39mself\u001b[39m\u001b[39m.\u001b[39m_value \u001b[39m=\u001b[39m v\n\u001b[1;32m--> 177\u001b[0m   \u001b[39mself\u001b[39;49m\u001b[39m.\u001b[39;49m_update_logging_levels()\n",
      "File \u001b[1;32m~\\AppData\\Local\\Packages\\PythonSoftwareFoundation.Python.3.9_qbz5n2kfra8p0\\LocalCache\\local-packages\\Python39\\site-packages\\absl\\logging\\__init__.py:200\u001b[0m, in \u001b[0;36m_VerbosityFlag._update_logging_levels\u001b[1;34m(self)\u001b[0m\n\u001b[0;32m    198\u001b[0m   logging\u001b[39m.\u001b[39mroot\u001b[39m.\u001b[39msetLevel(standard_verbosity)\n\u001b[0;32m    199\u001b[0m \u001b[39melse\u001b[39;00m:\n\u001b[1;32m--> 200\u001b[0m   _absl_logger\u001b[39m.\u001b[39;49msetLevel(standard_verbosity)\n",
      "File \u001b[1;32mC:\\Program Files\\WindowsApps\\PythonSoftwareFoundation.Python.3.9_3.9.3568.0_x64__qbz5n2kfra8p0\\lib\\logging\\__init__.py:1422\u001b[0m, in \u001b[0;36mLogger.setLevel\u001b[1;34m(self, level)\u001b[0m\n\u001b[0;32m   1418\u001b[0m \u001b[39m\"\"\"\u001b[39;00m\n\u001b[0;32m   1419\u001b[0m \u001b[39mSet the logging level of this logger.  level must be an int or a str.\u001b[39;00m\n\u001b[0;32m   1420\u001b[0m \u001b[39m\"\"\"\u001b[39;00m\n\u001b[0;32m   1421\u001b[0m \u001b[39mself\u001b[39m\u001b[39m.\u001b[39mlevel \u001b[39m=\u001b[39m _checkLevel(level)\n\u001b[1;32m-> 1422\u001b[0m \u001b[39mself\u001b[39;49m\u001b[39m.\u001b[39;49mmanager\u001b[39m.\u001b[39;49m_clear_cache()\n",
      "File \u001b[1;32mC:\\Program Files\\WindowsApps\\PythonSoftwareFoundation.Python.3.9_3.9.3568.0_x64__qbz5n2kfra8p0\\lib\\logging\\__init__.py:1381\u001b[0m, in \u001b[0;36mManager._clear_cache\u001b[1;34m(self)\u001b[0m\n\u001b[0;32m   1379\u001b[0m \u001b[39mfor\u001b[39;00m logger \u001b[39min\u001b[39;00m \u001b[39mself\u001b[39m\u001b[39m.\u001b[39mloggerDict\u001b[39m.\u001b[39mvalues():\n\u001b[0;32m   1380\u001b[0m     \u001b[39mif\u001b[39;00m \u001b[39misinstance\u001b[39m(logger, Logger):\n\u001b[1;32m-> 1381\u001b[0m         logger\u001b[39m.\u001b[39;49m_cache\u001b[39m.\u001b[39;49mclear()\n\u001b[0;32m   1382\u001b[0m \u001b[39mself\u001b[39m\u001b[39m.\u001b[39mroot\u001b[39m.\u001b[39m_cache\u001b[39m.\u001b[39mclear()\n\u001b[0;32m   1383\u001b[0m _releaseLock()\n",
      "\u001b[1;31mKeyboardInterrupt\u001b[0m: "
     ]
    }
   ],
   "source": [
    "model4.fit(X2_train, y2_train, validation_data=(X2_val, y2_val), epochs=50, callbacks=[cp4])"
   ]
  },
  {
   "cell_type": "code",
   "execution_count": null,
   "metadata": {},
   "outputs": [],
   "source": [
    "plot_predictions1(model4, X2_test, y2_test)\n",
    "from keras.models import load_model\n",
    "\n",
    "model = load_model('model4')\n",
    "scores = model4.evaluate(X2_test, y2_test)\n",
    "\n",
    "LSTM_accuracy = scores[1]*100\n",
    "\n",
    "print('Test accuracy: ', LSTM_accuracy, '%')"
   ]
  },
  {
   "cell_type": "code",
   "execution_count": null,
   "metadata": {},
   "outputs": [],
   "source": [
    "plot_predictions1(model4, X2_train, y2_train)\n",
    "from keras.models import load_model\n",
    "\n",
    "model = load_model('model4')\n",
    "scores = model4.evaluate(X2_train, y2_train)\n",
    "\n",
    "LSTM_accuracy = scores[1]*100\n",
    "\n",
    "print('Test accuracy: ', LSTM_accuracy, '%')"
   ]
  },
  {
   "cell_type": "code",
   "execution_count": null,
   "metadata": {},
   "outputs": [],
   "source": [
    "#Prediction without using time as a parameter (Just Temperature)\n",
    "new_df= pd.DataFrame({'Power':target,\"Avg Temp\":df[\"Temp\"],\"High Temp\":df['Hi'],\"Low Temp\":df[\"Low\"]})\n",
    "new_df"
   ]
  },
  {
   "cell_type": "code",
   "execution_count": null,
   "metadata": {},
   "outputs": [],
   "source": [
    "X3, y3 = df_to_X_y2(new_df)\n",
    "X3.shape, y3.shape"
   ]
  },
  {
   "cell_type": "code",
   "execution_count": null,
   "metadata": {},
   "outputs": [],
   "source": [
    "X3_train, y3_train = X3[:2000], y3[:2000]\n",
    "X3_val, y3_val = X3[2000:2435], y3[2000:2435]\n",
    "X3_test, y3_test = X3[2435:], y3[2435:]\n",
    "X3_train.shape, y3_train.shape, X3_val.shape, y3_val.shape, X3_test.shape, y3_test.shape"
   ]
  },
  {
   "cell_type": "code",
   "execution_count": null,
   "metadata": {},
   "outputs": [],
   "source": [
    "avg_temp_training_mean = np.mean(X3_train[:, :, 1])\n",
    "avg_temp_training_std = np.std(X3_train[:, :, 1])\n",
    "hi_temp_training_mean=np.mean(X3_train[:, :, 2])\n",
    "hi_temp_training_std=np.std(X3_train[:, :, 2])\n",
    "low_temp_training_mean = np.mean(X3_train[:, :, 3])\n",
    "low_temp_training_std=np.std(X3_train[:, :, 3])\n",
    "\n",
    "def preprocess(X):\n",
    "  X[:, :, 1] = (X[:, :, 1] - avg_temp_training_mean) / avg_temp_training_std\n",
    "  X[:, :, 2] = (X[:, :, 2] - hi_temp_training_mean) / hi_temp_training_std\n",
    "  X[:, :, 3] = (X[:, :, 3] - low_temp_training_mean) / low_temp_training_std\n",
    "  return X\n",
    "\n",
    "preprocess(X3_train)\n",
    "preprocess(X3_val)\n",
    "preprocess(X3_test)"
   ]
  },
  {
   "cell_type": "code",
   "execution_count": null,
   "metadata": {},
   "outputs": [],
   "source": [
    "model5 = Sequential()\n",
    "model5.add(InputLayer((1, 4)))\n",
    "model5.add(LSTM(150))\n",
    "model5.add(Dense(8, 'relu'))\n",
    "model5.add(Dense(8, 'relu'))\n",
    "model5.add(Dense(1, 'linear'))\n",
    "\n",
    "model5.summary()"
   ]
  },
  {
   "cell_type": "code",
   "execution_count": null,
   "metadata": {},
   "outputs": [],
   "source": [
    "cp5 = ModelCheckpoint('model5/', save_best_only=True)\n",
    "model5.compile(loss=MeanSquaredError(), optimizer=Adam(learning_rate=0.0001), metrics=[RootMeanSquaredError()])"
   ]
  },
  {
   "cell_type": "code",
   "execution_count": null,
   "metadata": {},
   "outputs": [],
   "source": [
    "model5.fit(X3_train, y3_train, validation_data=(X3_val, y3_val), epochs=50, callbacks=[cp4])"
   ]
  },
  {
   "cell_type": "code",
   "execution_count": null,
   "metadata": {},
   "outputs": [],
   "source": [
    "final, mse = plot_predictions1(model5, X3_test, y3_test)\n",
    "final\n",
    "\n"
   ]
  },
  {
   "cell_type": "code",
   "execution_count": null,
   "metadata": {},
   "outputs": [],
   "source": [
    "\n",
    "final=final.set_index(df['DateTime'][2436:].index)\n",
    "print(final)"
   ]
  },
  {
   "cell_type": "code",
   "execution_count": null,
   "metadata": {},
   "outputs": [],
   "source": []
  }
 ],
 "metadata": {
  "kernelspec": {
   "display_name": "Python 3.9.13 64-bit (microsoft store)",
   "language": "python",
   "name": "python3"
  },
  "language_info": {
   "codemirror_mode": {
    "name": "ipython",
    "version": 3
   },
   "file_extension": ".py",
   "mimetype": "text/x-python",
   "name": "python",
   "nbconvert_exporter": "python",
   "pygments_lexer": "ipython3",
   "version": "3.9.13"
  },
  "orig_nbformat": 4,
  "vscode": {
   "interpreter": {
    "hash": "ffbc056fd71819a0e5d2fac0c7ab3ce08860f1834608a4b2098697b8cc1bc442"
   }
  }
 },
 "nbformat": 4,
 "nbformat_minor": 2
}
