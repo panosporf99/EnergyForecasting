{
 "cells": [
  {
   "cell_type": "code",
   "execution_count": 2,
   "metadata": {},
   "outputs": [
    {
     "name": "stdout",
     "output_type": "stream",
     "text": [
      "INFO:tensorflow:Enabling eager execution\n",
      "INFO:tensorflow:Enabling v2 tensorshape\n",
      "INFO:tensorflow:Enabling resource variables\n",
      "INFO:tensorflow:Enabling tensor equality\n",
      "INFO:tensorflow:Enabling control flow v2\n"
     ]
    }
   ],
   "source": [
    "import tensorflow as tf\n",
    "import pandas as pd \n",
    "import numpy as np\n",
    "import matplotlib.pyplot as plt\n",
    "from tensorflow.keras.models import Sequential\n",
    "from tensorflow.keras.layers import *\n",
    "from tensorflow.keras.callbacks import ModelCheckpoint\n",
    "from tensorflow.keras.losses import MeanSquaredError\n",
    "from tensorflow.keras.metrics import RootMeanSquaredError\n",
    "from tensorflow.keras.optimizers import Adam"
   ]
  },
  {
   "cell_type": "code",
   "execution_count": 3,
   "metadata": {},
   "outputs": [
    {
     "name": "stdout",
     "output_type": "stream",
     "text": [
      "                               DateTime  Voltage Line 1 [V]  \\\n",
      "DateTime                                                      \n",
      "2020-08-02 00:00:00 2020-08-02 00:00:00              232.39   \n",
      "2020-08-02 01:00:00 2020-08-02 01:00:00              234.30   \n",
      "2020-08-02 02:00:00 2020-08-02 02:00:00              234.14   \n",
      "2020-08-02 03:00:00 2020-08-02 03:00:00              234.99   \n",
      "2020-08-02 04:00:00 2020-08-02 04:00:00              233.60   \n",
      "...                                 ...                 ...   \n",
      "2020-11-30 19:00:00 2020-11-30 19:00:00              233.59   \n",
      "2020-11-30 20:00:00 2020-11-30 20:00:00              233.99   \n",
      "2020-11-30 21:00:00 2020-11-30 21:00:00              233.38   \n",
      "2020-11-30 22:00:00 2020-11-30 22:00:00              233.50   \n",
      "2020-11-30 23:00:00 2020-11-30 23:00:00              232.89   \n",
      "\n",
      "                     Voltage Line 2 [V]  Voltage Line 3 [V]  \\\n",
      "DateTime                                                      \n",
      "2020-08-02 00:00:00              232.27              230.53   \n",
      "2020-08-02 01:00:00              234.51              232.35   \n",
      "2020-08-02 02:00:00              233.59              231.74   \n",
      "2020-08-02 03:00:00              234.59              232.55   \n",
      "2020-08-02 04:00:00              233.55              231.91   \n",
      "...                                 ...                 ...   \n",
      "2020-11-30 19:00:00              233.42              231.93   \n",
      "2020-11-30 20:00:00              234.11              232.65   \n",
      "2020-11-30 21:00:00              233.19              231.41   \n",
      "2020-11-30 22:00:00              232.91              231.56   \n",
      "2020-11-30 23:00:00              232.31              230.59   \n",
      "\n",
      "                     Current in Line 1 [Amp]  Current in Line 2 [Amp]  \\\n",
      "DateTime                                                                \n",
      "2020-08-02 00:00:00                    80.68                    78.04   \n",
      "2020-08-02 01:00:00                    92.21                    78.21   \n",
      "2020-08-02 02:00:00                    80.72                    69.16   \n",
      "2020-08-02 03:00:00                    85.04                    72.15   \n",
      "2020-08-02 04:00:00                    81.88                    65.06   \n",
      "...                                      ...                      ...   \n",
      "2020-11-30 19:00:00                    75.79                    82.21   \n",
      "2020-11-30 20:00:00                    72.91                    62.53   \n",
      "2020-11-30 21:00:00                    70.29                    72.40   \n",
      "2020-11-30 22:00:00                    80.09                    76.39   \n",
      "2020-11-30 23:00:00                    69.22                    72.51   \n",
      "\n",
      "                     Current in Line 3 [Amp]  \\\n",
      "DateTime                                       \n",
      "2020-08-02 00:00:00                    91.81   \n",
      "2020-08-02 01:00:00                    91.04   \n",
      "2020-08-02 02:00:00                    80.74   \n",
      "2020-08-02 03:00:00                    88.16   \n",
      "2020-08-02 04:00:00                    81.17   \n",
      "...                                      ...   \n",
      "2020-11-30 19:00:00                    78.28   \n",
      "2020-11-30 20:00:00                    67.83   \n",
      "2020-11-30 21:00:00                    81.45   \n",
      "2020-11-30 22:00:00                    71.99   \n",
      "2020-11-30 23:00:00                    74.78   \n",
      "\n",
      "                     Combined Active Power Line 1+2 +3 (watt)  \\\n",
      "DateTime                                                        \n",
      "2020-08-02 00:00:00                                  56683.98   \n",
      "2020-08-02 01:00:00                                  59487.19   \n",
      "2020-08-02 02:00:00                                  52798.79   \n",
      "2020-08-02 03:00:00                                  55698.04   \n",
      "2020-08-02 04:00:00                                  52330.48   \n",
      "...                                                       ...   \n",
      "2020-11-30 19:00:00                                  52057.36   \n",
      "2020-11-30 20:00:00                                  44937.44   \n",
      "2020-11-30 21:00:00                                  48802.58   \n",
      "2020-11-30 22:00:00                                  49585.46   \n",
      "2020-11-30 23:00:00                                  46653.30   \n",
      "\n",
      "                     Combined Apparent Power Line 1+2+3  \\\n",
      "DateTime                                                  \n",
      "2020-08-02 00:00:00                            57983.59   \n",
      "2020-08-02 01:00:00                            61091.12   \n",
      "2020-08-02 02:00:00                            53770.52   \n",
      "2020-08-02 03:00:00                            57424.54   \n",
      "2020-08-02 04:00:00                            53163.79   \n",
      "...                                                 ...   \n",
      "2020-11-30 19:00:00                            55031.18   \n",
      "2020-11-30 20:00:00                            47462.15   \n",
      "2020-11-30 21:00:00                            52115.82   \n",
      "2020-11-30 22:00:00                            53158.36   \n",
      "2020-11-30 23:00:00                            50223.58   \n",
      "\n",
      "                     Combined Reactive Power Line 1+2+3  ...  \\\n",
      "DateTime                                                 ...   \n",
      "2020-08-02 00:00:00                            11684.22  ...   \n",
      "2020-08-02 01:00:00                            13601.32  ...   \n",
      "2020-08-02 02:00:00                             8885.98  ...   \n",
      "2020-08-02 03:00:00                            13030.89  ...   \n",
      "2020-08-02 04:00:00                             8584.88  ...   \n",
      "...                                                 ...  ...   \n",
      "2020-11-30 19:00:00                            17593.00  ...   \n",
      "2020-11-30 20:00:00                            15053.53  ...   \n",
      "2020-11-30 21:00:00                            18048.29  ...   \n",
      "2020-11-30 22:00:00                            18749.11  ...   \n",
      "2020-11-30 23:00:00                            18488.18  ...   \n",
      "\n",
      "                     Current Neutral Line  Total Current in Line 1+2+3  \\\n",
      "DateTime                                                                 \n",
      "2020-08-02 00:00:00                 18.17                       250.42   \n",
      "2020-08-02 01:00:00                 23.96                       261.31   \n",
      "2020-08-02 02:00:00                 25.79                       230.61   \n",
      "2020-08-02 03:00:00                 24.14                       245.26   \n",
      "2020-08-02 04:00:00                 25.93                       228.12   \n",
      "...                                   ...                          ...   \n",
      "2020-11-30 19:00:00                  6.32                       236.15   \n",
      "2020-11-30 20:00:00                 17.59                       203.26   \n",
      "2020-11-30 21:00:00                 11.32                       224.24   \n",
      "2020-11-30 22:00:00                 11.08                       228.40   \n",
      "2020-11-30 23:00:00                  6.16                       216.55   \n",
      "\n",
      "                     Active Total Energy (Wh) [Wh]  \\\n",
      "DateTime                                             \n",
      "2020-08-02 00:00:00                     4282350848   \n",
      "2020-08-02 01:00:00                     4282409472   \n",
      "2020-08-02 02:00:00                     4282467584   \n",
      "2020-08-02 03:00:00                     4282525952   \n",
      "2020-08-02 04:00:00                     4282584320   \n",
      "...                                            ...   \n",
      "2020-11-30 19:00:00                     4480172544   \n",
      "2020-11-30 20:00:00                     4480225792   \n",
      "2020-11-30 21:00:00                     4480275968   \n",
      "2020-11-30 22:00:00                     4480325120   \n",
      "2020-11-30 23:00:00                     4480373248   \n",
      "\n",
      "                     Reactive Total Energy (VARh) [VARh]  \\\n",
      "DateTime                                                   \n",
      "2020-08-02 00:00:00                           1891807744   \n",
      "2020-08-02 01:00:00                           1891820160   \n",
      "2020-08-02 02:00:00                           1891832064   \n",
      "2020-08-02 03:00:00                           1891843968   \n",
      "2020-08-02 04:00:00                           1891856896   \n",
      "...                                                  ...   \n",
      "2020-11-30 19:00:00                           1972983680   \n",
      "2020-11-30 20:00:00                           1973002752   \n",
      "2020-11-30 21:00:00                           1973021568   \n",
      "2020-11-30 22:00:00                           1973040000   \n",
      "2020-11-30 23:00:00                           1973057152   \n",
      "\n",
      "                     Apparent Total Energy (Vah) [Vah]  Temp    Hi   Low  \\\n",
      "DateTime                                                                   \n",
      "2020-08-02 00:00:00                         4681609216  28.7  29.6  27.6   \n",
      "2020-08-02 01:00:00                         4681668096  26.0  27.4  25.2   \n",
      "2020-08-02 02:00:00                         4681725952  25.9  26.9  25.1   \n",
      "2020-08-02 03:00:00                         4681783808  25.3  26.4  24.4   \n",
      "2020-08-02 04:00:00                         4681842688  24.7  26.3  24.1   \n",
      "...                                                ...   ...   ...   ...   \n",
      "2020-11-30 19:00:00                         4895366656  14.4  15.1  14.1   \n",
      "2020-11-30 20:00:00                         4895422464  13.7  14.2  13.3   \n",
      "2020-11-30 21:00:00                         4895476224  13.4  13.7  13.2   \n",
      "2020-11-30 22:00:00                         4895528960  13.2  13.7  12.7   \n",
      "2020-11-30 23:00:00                         4895579648  12.8  13.4  12.6   \n",
      "\n",
      "                     Active Total Energy in MWh  Combined Active Power in MW  \n",
      "DateTime                                                                      \n",
      "2020-08-02 00:00:00                 4282.350848                     0.056684  \n",
      "2020-08-02 01:00:00                 4282.409472                     0.059487  \n",
      "2020-08-02 02:00:00                 4282.467584                     0.052799  \n",
      "2020-08-02 03:00:00                 4282.525952                     0.055698  \n",
      "2020-08-02 04:00:00                 4282.584320                     0.052330  \n",
      "...                                         ...                          ...  \n",
      "2020-11-30 19:00:00                 4480.172544                     0.052057  \n",
      "2020-11-30 20:00:00                 4480.225792                     0.044937  \n",
      "2020-11-30 21:00:00                 4480.275968                     0.048803  \n",
      "2020-11-30 22:00:00                 4480.325120                     0.049585  \n",
      "2020-11-30 23:00:00                 4480.373248                     0.046653  \n",
      "\n",
      "[2878 rows x 23 columns]\n"
     ]
    },
    {
     "data": {
      "image/png": "[encoded data removed]",
      "text/plain": [
       "<Figure size 640x480 with 1 Axes>"
      ]
     },
     "metadata": {},
     "output_type": "display_data"
    }
   ],
   "source": [
    "df = pd.read_csv('meter1_combined.csv')\n",
    "df.DateTime = pd.to_datetime(df.DateTime,dayfirst=True)\n",
    "df.index = pd.to_datetime(df['DateTime'], format='%d/%m/%Y %H:%M:%S')\n",
    "df[\"Active Total Energy in MWh\"]= df['Active Total Energy (Wh) [Wh]'].astype(float)/ 1000000\n",
    "df[\"Combined Active Power in MW\"] = df['Combined Active Power Line 1+2 +3 (watt)'].astype(float) / 1000000\n",
    "print(df)\n",
    "df['Combined Active Power in MW'].plot()\n",
    "# plt.show()\n",
    "target= df['Combined Active Power in MW']"
   ]
  },
  {
   "cell_type": "code",
   "execution_count": 5,
   "metadata": {},
   "outputs": [],
   "source": [
    "from sklearn.metrics import mean_squared_error as mse\n",
    "\n",
    "def plot_predictions1(model, X, y, start=0, end=100):\n",
    "  predictions = model.predict(X).flatten()\n",
    "  df = pd.DataFrame(data={'Predictions':predictions, 'Actuals':y})\n",
    "  plt.plot(df['Predictions'][start:end])\n",
    "  plt.plot(df['Actuals'][start:end])\n",
    "  plt.legend(['Actuals','Test Predictions'])\n",
    "  return df, mse(y, predictions)\n",
    "\n",
    "# plot_predictions1(model1, X_test1, y_test1)"
   ]
  },
  {
   "cell_type": "code",
   "execution_count": 6,
   "metadata": {},
   "outputs": [
    {
     "data": {
      "text/html": [
       "<div>\n",
       "<style scoped>\n",
       "    .dataframe tbody tr th:only-of-type {\n",
       "        vertical-align: middle;\n",
       "    }\n",
       "\n",
       "    .dataframe tbody tr th {\n",
       "        vertical-align: top;\n",
       "    }\n",
       "\n",
       "    .dataframe thead th {\n",
       "        text-align: right;\n",
       "    }\n",
       "</style>\n",
       "<table border=\"1\" class=\"dataframe\">\n",
       "  <thead>\n",
       "    <tr style=\"text-align: right;\">\n",
       "      <th></th>\n",
       "      <th>Power</th>\n",
       "      <th>Avg Temp</th>\n",
       "      <th>High Temp</th>\n",
       "      <th>Low Temp</th>\n",
       "      <th>Seconds</th>\n",
       "    </tr>\n",
       "    <tr>\n",
       "      <th>DateTime</th>\n",
       "      <th></th>\n",
       "      <th></th>\n",
       "      <th></th>\n",
       "      <th></th>\n",
       "      <th></th>\n",
       "    </tr>\n",
       "  </thead>\n",
       "  <tbody>\n",
       "    <tr>\n",
       "      <th>2020-08-02 00:00:00</th>\n",
       "      <td>0.056684</td>\n",
       "      <td>28.7</td>\n",
       "      <td>29.6</td>\n",
       "      <td>27.6</td>\n",
       "      <td>1.596326e+09</td>\n",
       "    </tr>\n",
       "    <tr>\n",
       "      <th>2020-08-02 01:00:00</th>\n",
       "      <td>0.059487</td>\n",
       "      <td>26.0</td>\n",
       "      <td>27.4</td>\n",
       "      <td>25.2</td>\n",
       "      <td>1.596330e+09</td>\n",
       "    </tr>\n",
       "    <tr>\n",
       "      <th>2020-08-02 02:00:00</th>\n",
       "      <td>0.052799</td>\n",
       "      <td>25.9</td>\n",
       "      <td>26.9</td>\n",
       "      <td>25.1</td>\n",
       "      <td>1.596334e+09</td>\n",
       "    </tr>\n",
       "    <tr>\n",
       "      <th>2020-08-02 03:00:00</th>\n",
       "      <td>0.055698</td>\n",
       "      <td>25.3</td>\n",
       "      <td>26.4</td>\n",
       "      <td>24.4</td>\n",
       "      <td>1.596337e+09</td>\n",
       "    </tr>\n",
       "    <tr>\n",
       "      <th>2020-08-02 04:00:00</th>\n",
       "      <td>0.052330</td>\n",
       "      <td>24.7</td>\n",
       "      <td>26.3</td>\n",
       "      <td>24.1</td>\n",
       "      <td>1.596341e+09</td>\n",
       "    </tr>\n",
       "    <tr>\n",
       "      <th>...</th>\n",
       "      <td>...</td>\n",
       "      <td>...</td>\n",
       "      <td>...</td>\n",
       "      <td>...</td>\n",
       "      <td>...</td>\n",
       "    </tr>\n",
       "    <tr>\n",
       "      <th>2020-11-30 19:00:00</th>\n",
       "      <td>0.052057</td>\n",
       "      <td>14.4</td>\n",
       "      <td>15.1</td>\n",
       "      <td>14.1</td>\n",
       "      <td>1.606763e+09</td>\n",
       "    </tr>\n",
       "    <tr>\n",
       "      <th>2020-11-30 20:00:00</th>\n",
       "      <td>0.044937</td>\n",
       "      <td>13.7</td>\n",
       "      <td>14.2</td>\n",
       "      <td>13.3</td>\n",
       "      <td>1.606766e+09</td>\n",
       "    </tr>\n",
       "    <tr>\n",
       "      <th>2020-11-30 21:00:00</th>\n",
       "      <td>0.048803</td>\n",
       "      <td>13.4</td>\n",
       "      <td>13.7</td>\n",
       "      <td>13.2</td>\n",
       "      <td>1.606770e+09</td>\n",
       "    </tr>\n",
       "    <tr>\n",
       "      <th>2020-11-30 22:00:00</th>\n",
       "      <td>0.049585</td>\n",
       "      <td>13.2</td>\n",
       "      <td>13.7</td>\n",
       "      <td>12.7</td>\n",
       "      <td>1.606774e+09</td>\n",
       "    </tr>\n",
       "    <tr>\n",
       "      <th>2020-11-30 23:00:00</th>\n",
       "      <td>0.046653</td>\n",
       "      <td>12.8</td>\n",
       "      <td>13.4</td>\n",
       "      <td>12.6</td>\n",
       "      <td>1.606777e+09</td>\n",
       "    </tr>\n",
       "  </tbody>\n",
       "</table>\n",
       "<p>2878 rows × 5 columns</p>\n",
       "</div>"
      ],
      "text/plain": [
       "                        Power  Avg Temp  High Temp  Low Temp       Seconds\n",
       "DateTime                                                                  \n",
       "2020-08-02 00:00:00  0.056684      28.7       29.6      27.6  1.596326e+09\n",
       "2020-08-02 01:00:00  0.059487      26.0       27.4      25.2  1.596330e+09\n",
       "2020-08-02 02:00:00  0.052799      25.9       26.9      25.1  1.596334e+09\n",
       "2020-08-02 03:00:00  0.055698      25.3       26.4      24.4  1.596337e+09\n",
       "2020-08-02 04:00:00  0.052330      24.7       26.3      24.1  1.596341e+09\n",
       "...                       ...       ...        ...       ...           ...\n",
       "2020-11-30 19:00:00  0.052057      14.4       15.1      14.1  1.606763e+09\n",
       "2020-11-30 20:00:00  0.044937      13.7       14.2      13.3  1.606766e+09\n",
       "2020-11-30 21:00:00  0.048803      13.4       13.7      13.2  1.606770e+09\n",
       "2020-11-30 22:00:00  0.049585      13.2       13.7      12.7  1.606774e+09\n",
       "2020-11-30 23:00:00  0.046653      12.8       13.4      12.6  1.606777e+09\n",
       "\n",
       "[2878 rows x 5 columns]"
      ]
     },
     "execution_count": 6,
     "metadata": {},
     "output_type": "execute_result"
    }
   ],
   "source": [
    "temp_df = pd.DataFrame({'Power':target,\"Avg Temp\":df[\"Temp\"],\"High Temp\":df['Hi'],\"Low Temp\":df[\"Low\"]})\n",
    "temp_df['Seconds'] = temp_df.index.map(pd.Timestamp.timestamp)\n",
    "temp_df"
   ]
  },
  {
   "cell_type": "code",
   "execution_count": 7,
   "metadata": {},
   "outputs": [
    {
     "data": {
      "text/html": [
       "<div>\n",
       "<style scoped>\n",
       "    .dataframe tbody tr th:only-of-type {\n",
       "        vertical-align: middle;\n",
       "    }\n",
       "\n",
       "    .dataframe tbody tr th {\n",
       "        vertical-align: top;\n",
       "    }\n",
       "\n",
       "    .dataframe thead th {\n",
       "        text-align: right;\n",
       "    }\n",
       "</style>\n",
       "<table border=\"1\" class=\"dataframe\">\n",
       "  <thead>\n",
       "    <tr style=\"text-align: right;\">\n",
       "      <th></th>\n",
       "      <th>Power</th>\n",
       "      <th>Avg Temp</th>\n",
       "      <th>High Temp</th>\n",
       "      <th>Low Temp</th>\n",
       "      <th>Seconds</th>\n",
       "      <th>Day sin</th>\n",
       "      <th>Day cos</th>\n",
       "      <th>Month sin</th>\n",
       "      <th>Month cos</th>\n",
       "    </tr>\n",
       "    <tr>\n",
       "      <th>DateTime</th>\n",
       "      <th></th>\n",
       "      <th></th>\n",
       "      <th></th>\n",
       "      <th></th>\n",
       "      <th></th>\n",
       "      <th></th>\n",
       "      <th></th>\n",
       "      <th></th>\n",
       "      <th></th>\n",
       "    </tr>\n",
       "  </thead>\n",
       "  <tbody>\n",
       "    <tr>\n",
       "      <th>2020-08-02 00:00:00</th>\n",
       "      <td>0.056684</td>\n",
       "      <td>28.7</td>\n",
       "      <td>29.6</td>\n",
       "      <td>27.6</td>\n",
       "      <td>1.596326e+09</td>\n",
       "      <td>-4.553737e-12</td>\n",
       "      <td>1.000000</td>\n",
       "      <td>-0.743145</td>\n",
       "      <td>0.669131</td>\n",
       "    </tr>\n",
       "    <tr>\n",
       "      <th>2020-08-02 01:00:00</th>\n",
       "      <td>0.059487</td>\n",
       "      <td>26.0</td>\n",
       "      <td>27.4</td>\n",
       "      <td>25.2</td>\n",
       "      <td>1.596330e+09</td>\n",
       "      <td>2.588190e-01</td>\n",
       "      <td>0.965926</td>\n",
       "      <td>-0.737277</td>\n",
       "      <td>0.675590</td>\n",
       "    </tr>\n",
       "    <tr>\n",
       "      <th>2020-08-02 02:00:00</th>\n",
       "      <td>0.052799</td>\n",
       "      <td>25.9</td>\n",
       "      <td>26.9</td>\n",
       "      <td>25.1</td>\n",
       "      <td>1.596334e+09</td>\n",
       "      <td>5.000000e-01</td>\n",
       "      <td>0.866025</td>\n",
       "      <td>-0.731354</td>\n",
       "      <td>0.681998</td>\n",
       "    </tr>\n",
       "    <tr>\n",
       "      <th>2020-08-02 03:00:00</th>\n",
       "      <td>0.055698</td>\n",
       "      <td>25.3</td>\n",
       "      <td>26.4</td>\n",
       "      <td>24.4</td>\n",
       "      <td>1.596337e+09</td>\n",
       "      <td>7.071068e-01</td>\n",
       "      <td>0.707107</td>\n",
       "      <td>-0.725374</td>\n",
       "      <td>0.688355</td>\n",
       "    </tr>\n",
       "    <tr>\n",
       "      <th>2020-08-02 04:00:00</th>\n",
       "      <td>0.052330</td>\n",
       "      <td>24.7</td>\n",
       "      <td>26.3</td>\n",
       "      <td>24.1</td>\n",
       "      <td>1.596341e+09</td>\n",
       "      <td>8.660254e-01</td>\n",
       "      <td>0.500000</td>\n",
       "      <td>-0.719340</td>\n",
       "      <td>0.694658</td>\n",
       "    </tr>\n",
       "    <tr>\n",
       "      <th>...</th>\n",
       "      <td>...</td>\n",
       "      <td>...</td>\n",
       "      <td>...</td>\n",
       "      <td>...</td>\n",
       "      <td>...</td>\n",
       "      <td>...</td>\n",
       "      <td>...</td>\n",
       "      <td>...</td>\n",
       "      <td>...</td>\n",
       "    </tr>\n",
       "    <tr>\n",
       "      <th>2020-11-30 19:00:00</th>\n",
       "      <td>0.052057</td>\n",
       "      <td>14.4</td>\n",
       "      <td>15.1</td>\n",
       "      <td>14.1</td>\n",
       "      <td>1.606763e+09</td>\n",
       "      <td>-9.659258e-01</td>\n",
       "      <td>0.258819</td>\n",
       "      <td>-0.622515</td>\n",
       "      <td>0.782608</td>\n",
       "    </tr>\n",
       "    <tr>\n",
       "      <th>2020-11-30 20:00:00</th>\n",
       "      <td>0.044937</td>\n",
       "      <td>13.7</td>\n",
       "      <td>14.2</td>\n",
       "      <td>13.3</td>\n",
       "      <td>1.606766e+09</td>\n",
       "      <td>-8.660254e-01</td>\n",
       "      <td>0.500000</td>\n",
       "      <td>-0.615661</td>\n",
       "      <td>0.788011</td>\n",
       "    </tr>\n",
       "    <tr>\n",
       "      <th>2020-11-30 21:00:00</th>\n",
       "      <td>0.048803</td>\n",
       "      <td>13.4</td>\n",
       "      <td>13.7</td>\n",
       "      <td>13.2</td>\n",
       "      <td>1.606770e+09</td>\n",
       "      <td>-7.071068e-01</td>\n",
       "      <td>0.707107</td>\n",
       "      <td>-0.608761</td>\n",
       "      <td>0.793353</td>\n",
       "    </tr>\n",
       "    <tr>\n",
       "      <th>2020-11-30 22:00:00</th>\n",
       "      <td>0.049585</td>\n",
       "      <td>13.2</td>\n",
       "      <td>13.7</td>\n",
       "      <td>12.7</td>\n",
       "      <td>1.606774e+09</td>\n",
       "      <td>-5.000000e-01</td>\n",
       "      <td>0.866025</td>\n",
       "      <td>-0.601815</td>\n",
       "      <td>0.798636</td>\n",
       "    </tr>\n",
       "    <tr>\n",
       "      <th>2020-11-30 23:00:00</th>\n",
       "      <td>0.046653</td>\n",
       "      <td>12.8</td>\n",
       "      <td>13.4</td>\n",
       "      <td>12.6</td>\n",
       "      <td>1.606777e+09</td>\n",
       "      <td>-2.588190e-01</td>\n",
       "      <td>0.965926</td>\n",
       "      <td>-0.594823</td>\n",
       "      <td>0.803857</td>\n",
       "    </tr>\n",
       "  </tbody>\n",
       "</table>\n",
       "<p>2878 rows × 9 columns</p>\n",
       "</div>"
      ],
      "text/plain": [
       "                        Power  Avg Temp  High Temp  Low Temp       Seconds  \\\n",
       "DateTime                                                                     \n",
       "2020-08-02 00:00:00  0.056684      28.7       29.6      27.6  1.596326e+09   \n",
       "2020-08-02 01:00:00  0.059487      26.0       27.4      25.2  1.596330e+09   \n",
       "2020-08-02 02:00:00  0.052799      25.9       26.9      25.1  1.596334e+09   \n",
       "2020-08-02 03:00:00  0.055698      25.3       26.4      24.4  1.596337e+09   \n",
       "2020-08-02 04:00:00  0.052330      24.7       26.3      24.1  1.596341e+09   \n",
       "...                       ...       ...        ...       ...           ...   \n",
       "2020-11-30 19:00:00  0.052057      14.4       15.1      14.1  1.606763e+09   \n",
       "2020-11-30 20:00:00  0.044937      13.7       14.2      13.3  1.606766e+09   \n",
       "2020-11-30 21:00:00  0.048803      13.4       13.7      13.2  1.606770e+09   \n",
       "2020-11-30 22:00:00  0.049585      13.2       13.7      12.7  1.606774e+09   \n",
       "2020-11-30 23:00:00  0.046653      12.8       13.4      12.6  1.606777e+09   \n",
       "\n",
       "                          Day sin   Day cos  Month sin  Month cos  \n",
       "DateTime                                                           \n",
       "2020-08-02 00:00:00 -4.553737e-12  1.000000  -0.743145   0.669131  \n",
       "2020-08-02 01:00:00  2.588190e-01  0.965926  -0.737277   0.675590  \n",
       "2020-08-02 02:00:00  5.000000e-01  0.866025  -0.731354   0.681998  \n",
       "2020-08-02 03:00:00  7.071068e-01  0.707107  -0.725374   0.688355  \n",
       "2020-08-02 04:00:00  8.660254e-01  0.500000  -0.719340   0.694658  \n",
       "...                           ...       ...        ...        ...  \n",
       "2020-11-30 19:00:00 -9.659258e-01  0.258819  -0.622515   0.782608  \n",
       "2020-11-30 20:00:00 -8.660254e-01  0.500000  -0.615661   0.788011  \n",
       "2020-11-30 21:00:00 -7.071068e-01  0.707107  -0.608761   0.793353  \n",
       "2020-11-30 22:00:00 -5.000000e-01  0.866025  -0.601815   0.798636  \n",
       "2020-11-30 23:00:00 -2.588190e-01  0.965926  -0.594823   0.803857  \n",
       "\n",
       "[2878 rows x 9 columns]"
      ]
     },
     "execution_count": 7,
     "metadata": {},
     "output_type": "execute_result"
    }
   ],
   "source": [
    "\n",
    "day = 60*60*24\n",
    "month= 30*day\n",
    "temp_df['Day sin'] = np.sin(temp_df['Seconds'] * (2* np.pi / day))\n",
    "temp_df['Day cos'] = np.cos(temp_df['Seconds'] * (2 * np.pi / day))\n",
    "temp_df['Month sin'] = np.sin(temp_df['Seconds'] * (2 * np.pi / month))\n",
    "temp_df['Month cos'] = np.cos(temp_df['Seconds'] * (2 * np.pi / month))\n",
    "temp_df"
   ]
  },
  {
   "cell_type": "code",
   "execution_count": 8,
   "metadata": {},
   "outputs": [
    {
     "data": {
      "text/html": [
       "<div>\n",
       "<style scoped>\n",
       "    .dataframe tbody tr th:only-of-type {\n",
       "        vertical-align: middle;\n",
       "    }\n",
       "\n",
       "    .dataframe tbody tr th {\n",
       "        vertical-align: top;\n",
       "    }\n",
       "\n",
       "    .dataframe thead th {\n",
       "        text-align: right;\n",
       "    }\n",
       "</style>\n",
       "<table border=\"1\" class=\"dataframe\">\n",
       "  <thead>\n",
       "    <tr style=\"text-align: right;\">\n",
       "      <th></th>\n",
       "      <th>Power</th>\n",
       "      <th>Avg Temp</th>\n",
       "      <th>High Temp</th>\n",
       "      <th>Low Temp</th>\n",
       "      <th>Day sin</th>\n",
       "      <th>Day cos</th>\n",
       "      <th>Month sin</th>\n",
       "      <th>Month cos</th>\n",
       "    </tr>\n",
       "    <tr>\n",
       "      <th>DateTime</th>\n",
       "      <th></th>\n",
       "      <th></th>\n",
       "      <th></th>\n",
       "      <th></th>\n",
       "      <th></th>\n",
       "      <th></th>\n",
       "      <th></th>\n",
       "      <th></th>\n",
       "    </tr>\n",
       "  </thead>\n",
       "  <tbody>\n",
       "    <tr>\n",
       "      <th>2020-08-02 00:00:00</th>\n",
       "      <td>0.056684</td>\n",
       "      <td>28.7</td>\n",
       "      <td>29.6</td>\n",
       "      <td>27.6</td>\n",
       "      <td>-4.553737e-12</td>\n",
       "      <td>1.000000</td>\n",
       "      <td>-0.743145</td>\n",
       "      <td>0.669131</td>\n",
       "    </tr>\n",
       "    <tr>\n",
       "      <th>2020-08-02 01:00:00</th>\n",
       "      <td>0.059487</td>\n",
       "      <td>26.0</td>\n",
       "      <td>27.4</td>\n",
       "      <td>25.2</td>\n",
       "      <td>2.588190e-01</td>\n",
       "      <td>0.965926</td>\n",
       "      <td>-0.737277</td>\n",
       "      <td>0.675590</td>\n",
       "    </tr>\n",
       "    <tr>\n",
       "      <th>2020-08-02 02:00:00</th>\n",
       "      <td>0.052799</td>\n",
       "      <td>25.9</td>\n",
       "      <td>26.9</td>\n",
       "      <td>25.1</td>\n",
       "      <td>5.000000e-01</td>\n",
       "      <td>0.866025</td>\n",
       "      <td>-0.731354</td>\n",
       "      <td>0.681998</td>\n",
       "    </tr>\n",
       "    <tr>\n",
       "      <th>2020-08-02 03:00:00</th>\n",
       "      <td>0.055698</td>\n",
       "      <td>25.3</td>\n",
       "      <td>26.4</td>\n",
       "      <td>24.4</td>\n",
       "      <td>7.071068e-01</td>\n",
       "      <td>0.707107</td>\n",
       "      <td>-0.725374</td>\n",
       "      <td>0.688355</td>\n",
       "    </tr>\n",
       "    <tr>\n",
       "      <th>2020-08-02 04:00:00</th>\n",
       "      <td>0.052330</td>\n",
       "      <td>24.7</td>\n",
       "      <td>26.3</td>\n",
       "      <td>24.1</td>\n",
       "      <td>8.660254e-01</td>\n",
       "      <td>0.500000</td>\n",
       "      <td>-0.719340</td>\n",
       "      <td>0.694658</td>\n",
       "    </tr>\n",
       "  </tbody>\n",
       "</table>\n",
       "</div>"
      ],
      "text/plain": [
       "                        Power  Avg Temp  High Temp  Low Temp       Day sin  \\\n",
       "DateTime                                                                     \n",
       "2020-08-02 00:00:00  0.056684      28.7       29.6      27.6 -4.553737e-12   \n",
       "2020-08-02 01:00:00  0.059487      26.0       27.4      25.2  2.588190e-01   \n",
       "2020-08-02 02:00:00  0.052799      25.9       26.9      25.1  5.000000e-01   \n",
       "2020-08-02 03:00:00  0.055698      25.3       26.4      24.4  7.071068e-01   \n",
       "2020-08-02 04:00:00  0.052330      24.7       26.3      24.1  8.660254e-01   \n",
       "\n",
       "                      Day cos  Month sin  Month cos  \n",
       "DateTime                                             \n",
       "2020-08-02 00:00:00  1.000000  -0.743145   0.669131  \n",
       "2020-08-02 01:00:00  0.965926  -0.737277   0.675590  \n",
       "2020-08-02 02:00:00  0.866025  -0.731354   0.681998  \n",
       "2020-08-02 03:00:00  0.707107  -0.725374   0.688355  \n",
       "2020-08-02 04:00:00  0.500000  -0.719340   0.694658  "
      ]
     },
     "execution_count": 8,
     "metadata": {},
     "output_type": "execute_result"
    }
   ],
   "source": [
    "temp_df.drop(\"Seconds\",axis=1,inplace=True)\n",
    "temp_df.head()"
   ]
  },
  {
   "cell_type": "code",
   "execution_count": 9,
   "metadata": {},
   "outputs": [],
   "source": [
    "#Function to create timeseries for multiple parameters\n",
    "def df_to_X_y2(df, window_size=5):\n",
    "  df_as_np = df.to_numpy()\n",
    "  X = []\n",
    "  y = []\n",
    "  for i in range(len(df_as_np)-window_size):\n",
    "    row = [r for r in df_as_np[i:i+window_size]]\n",
    "    X.append(row)\n",
    "    label = df_as_np[i+window_size][0]\n",
    "    y.append(label)\n",
    "  return np.array(X), np.array(y)"
   ]
  },
  {
   "cell_type": "code",
   "execution_count": 10,
   "metadata": {},
   "outputs": [
    {
     "data": {
      "text/plain": [
       "((2873, 5, 8), (2873,))"
      ]
     },
     "execution_count": 10,
     "metadata": {},
     "output_type": "execute_result"
    }
   ],
   "source": [
    "X2, y2 = df_to_X_y2(temp_df)\n",
    "X2.shape, y2.shape"
   ]
  },
  {
   "cell_type": "code",
   "execution_count": 11,
   "metadata": {},
   "outputs": [
    {
     "data": {
      "text/plain": [
       "((2000, 5, 8), (2000,), (435, 5, 8), (435,), (438, 5, 8), (438,))"
      ]
     },
     "execution_count": 11,
     "metadata": {},
     "output_type": "execute_result"
    }
   ],
   "source": [
    "X2_train, y2_train = X2[:2000], y2[:2000]\n",
    "X2_val, y2_val = X2[2000:2435], y2[2000:2435]\n",
    "X2_test, y2_test = X2[2435:], y2[2435:]\n",
    "X2_train.shape, y2_train.shape, X2_val.shape, y2_val.shape, X2_test.shape, y2_test.shape"
   ]
  },
  {
   "cell_type": "code",
   "execution_count": 12,
   "metadata": {},
   "outputs": [
    {
     "data": {
      "text/plain": [
       "array([[[ 7.16805100e-02, -1.02433919e+00, -1.04766768e+00, ...,\n",
       "         -9.65925826e-01,  9.76296007e-01, -2.16439614e-01],\n",
       "        [ 7.08413400e-02, -9.45156173e-01, -1.02796605e+00, ...,\n",
       "         -8.66025404e-01,  9.74370065e-01, -2.24951054e-01],\n",
       "        [ 6.86454500e-02, -9.25360420e-01, -9.88562791e-01, ...,\n",
       "         -7.07106781e-01,  9.72369920e-01, -2.33445364e-01],\n",
       "        [ 5.90878300e-02, -9.05564666e-01, -9.68861161e-01, ...,\n",
       "         -5.00000000e-01,  9.70295726e-01, -2.41921896e-01],\n",
       "        [ 5.94660000e-02, -1.00454343e+00, -1.02796605e+00, ...,\n",
       "         -2.58819045e-01,  9.68147640e-01, -2.50380004e-01]],\n",
       "\n",
       "       [[ 7.08413400e-02, -9.45156173e-01, -1.02796605e+00, ...,\n",
       "         -8.66025404e-01,  9.74370065e-01, -2.24951054e-01],\n",
       "        [ 6.86454500e-02, -9.25360420e-01, -9.88562791e-01, ...,\n",
       "         -7.07106781e-01,  9.72369920e-01, -2.33445364e-01],\n",
       "        [ 5.90878300e-02, -9.05564666e-01, -9.68861161e-01, ...,\n",
       "         -5.00000000e-01,  9.70295726e-01, -2.41921896e-01],\n",
       "        [ 5.94660000e-02, -1.00454343e+00, -1.02796605e+00, ...,\n",
       "         -2.58819045e-01,  9.68147640e-01, -2.50380004e-01],\n",
       "        [ 5.16504800e-02, -1.10352220e+00, -1.12647420e+00, ...,\n",
       "         -1.03502864e-11,  9.65925826e-01, -2.58819045e-01]],\n",
       "\n",
       "       [[ 6.86454500e-02, -9.25360420e-01, -9.88562791e-01, ...,\n",
       "         -7.07106781e-01,  9.72369920e-01, -2.33445364e-01],\n",
       "        [ 5.90878300e-02, -9.05564666e-01, -9.68861161e-01, ...,\n",
       "         -5.00000000e-01,  9.70295726e-01, -2.41921896e-01],\n",
       "        [ 5.94660000e-02, -1.00454343e+00, -1.02796605e+00, ...,\n",
       "         -2.58819045e-01,  9.68147640e-01, -2.50380004e-01],\n",
       "        [ 5.16504800e-02, -1.10352220e+00, -1.12647420e+00, ...,\n",
       "         -1.03502864e-11,  9.65925826e-01, -2.58819045e-01],\n",
       "        [ 5.26493200e-02, -1.24209248e+00, -1.26438561e+00, ...,\n",
       "          2.58819045e-01,  9.63630453e-01, -2.67238376e-01]],\n",
       "\n",
       "       ...,\n",
       "\n",
       "       [[ 4.95456200e-02, -1.75678207e+00, -1.83573289e+00, ...,\n",
       "         -5.00000000e-01, -6.42787610e-01,  7.66044443e-01],\n",
       "        [ 5.36701700e-02, -1.75678207e+00, -1.83573289e+00, ...,\n",
       "         -2.58819045e-01, -6.36078220e-01,  7.71624583e-01],\n",
       "        [ 4.78296400e-02, -1.87555659e+00, -1.87513615e+00, ...,\n",
       "         -5.73616737e-12, -6.29320391e-01,  7.77145961e-01],\n",
       "        [ 5.20573600e-02, -2.21208440e+00, -2.17066061e+00, ...,\n",
       "          2.58819045e-01, -6.22514637e-01,  7.82608157e-01],\n",
       "        [ 4.49374400e-02, -2.35065468e+00, -2.34797528e+00, ...,\n",
       "          5.00000000e-01, -6.15661475e-01,  7.88010754e-01]],\n",
       "\n",
       "       [[ 5.36701700e-02, -1.75678207e+00, -1.83573289e+00, ...,\n",
       "         -2.58819045e-01, -6.36078220e-01,  7.71624583e-01],\n",
       "        [ 4.78296400e-02, -1.87555659e+00, -1.87513615e+00, ...,\n",
       "         -5.73616737e-12, -6.29320391e-01,  7.77145961e-01],\n",
       "        [ 5.20573600e-02, -2.21208440e+00, -2.17066061e+00, ...,\n",
       "          2.58819045e-01, -6.22514637e-01,  7.82608157e-01],\n",
       "        [ 4.49374400e-02, -2.35065468e+00, -2.34797528e+00, ...,\n",
       "          5.00000000e-01, -6.15661475e-01,  7.88010754e-01],\n",
       "        [ 4.88025800e-02, -2.41004194e+00, -2.44648343e+00, ...,\n",
       "          7.07106781e-01, -6.08761429e-01,  7.93353340e-01]],\n",
       "\n",
       "       [[ 4.78296400e-02, -1.87555659e+00, -1.87513615e+00, ...,\n",
       "         -5.73616737e-12, -6.29320391e-01,  7.77145961e-01],\n",
       "        [ 5.20573600e-02, -2.21208440e+00, -2.17066061e+00, ...,\n",
       "          2.58819045e-01, -6.22514637e-01,  7.82608157e-01],\n",
       "        [ 4.49374400e-02, -2.35065468e+00, -2.34797528e+00, ...,\n",
       "          5.00000000e-01, -6.15661475e-01,  7.88010754e-01],\n",
       "        [ 4.88025800e-02, -2.41004194e+00, -2.44648343e+00, ...,\n",
       "          7.07106781e-01, -6.08761429e-01,  7.93353340e-01],\n",
       "        [ 4.95854600e-02, -2.44963345e+00, -2.44648343e+00, ...,\n",
       "          8.66025404e-01, -6.01815023e-01,  7.98635510e-01]]])"
      ]
     },
     "execution_count": 12,
     "metadata": {},
     "output_type": "execute_result"
    }
   ],
   "source": [
    "#Standardization for the temperatures. Dividing mean/std \n",
    "avg_temp_training_mean = np.mean(X2_train[:, :, 1])\n",
    "avg_temp_training_std = np.std(X2_train[:, :, 1])\n",
    "hi_temp_training_mean=np.mean(X2_train[:, :, 2])\n",
    "hi_temp_training_std=np.std(X2_train[:, :, 2])\n",
    "low_temp_training_mean = np.mean(X2_train[:, :, 3])\n",
    "low_temp_training_std=np.std(X2_train[:, :, 3])\n",
    "\n",
    "def preprocess(X):\n",
    "  X[:, :, 1] = (X[:, :, 1] - avg_temp_training_mean) / avg_temp_training_std\n",
    "  X[:, :, 2] = (X[:, :, 2] - hi_temp_training_mean) / hi_temp_training_std\n",
    "  X[:, :, 3] = (X[:, :, 3] - low_temp_training_mean) / low_temp_training_std\n",
    "  return X\n",
    "\n",
    "preprocess(X2_train)\n",
    "preprocess(X2_val)\n",
    "preprocess(X2_test)"
   ]
  },
  {
   "cell_type": "code",
   "execution_count": 13,
   "metadata": {},
   "outputs": [
    {
     "name": "stdout",
     "output_type": "stream",
     "text": [
      "Model: \"sequential\"\n",
      "_________________________________________________________________\n",
      "Layer (type)                 Output Shape              Param #   \n",
      "=================================================================\n",
      "gru (GRU)                    (None, 64)                14208     \n",
      "_________________________________________________________________\n",
      "dense (Dense)                (None, 8)                 520       \n",
      "_________________________________________________________________\n",
      "dense_1 (Dense)              (None, 1)                 9         \n",
      "=================================================================\n",
      "Total params: 14,737\n",
      "Trainable params: 14,737\n",
      "Non-trainable params: 0\n",
      "_________________________________________________________________\n"
     ]
    }
   ],
   "source": [
    "model4 = Sequential()\n",
    "model4.add(InputLayer((5, 8)))\n",
    "model4.add(GRU(64))\n",
    "model4.add(Dense(8, 'relu'))\n",
    "model4.add(Dense(1, 'linear'))\n",
    "\n",
    "model4.summary()"
   ]
  },
  {
   "cell_type": "code",
   "execution_count": 14,
   "metadata": {},
   "outputs": [],
   "source": [
    "cp4 = ModelCheckpoint('model4/', save_best_only=True)\n",
    "model4.compile(loss=MeanSquaredError(), optimizer=Adam(learning_rate=0.0001), metrics=[RootMeanSquaredError()])"
   ]
  },
  {
   "cell_type": "code",
   "execution_count": 15,
   "metadata": {},
   "outputs": [
    {
     "name": "stdout",
     "output_type": "stream",
     "text": [
      "Epoch 1/50\n",
      "63/63 [==============================] - 3s 15ms/step - loss: 0.0261 - root_mean_squared_error: 0.1596 - val_loss: 0.0044 - val_root_mean_squared_error: 0.0660\n"
     ]
    },
    {
     "name": "stderr",
     "output_type": "stream",
     "text": [
      "WARNING:absl:Found untraced functions such as gru_cell_layer_call_and_return_conditional_losses, gru_cell_layer_call_fn, gru_cell_layer_call_fn, gru_cell_layer_call_and_return_conditional_losses, gru_cell_layer_call_and_return_conditional_losses while saving (showing 5 of 5). These functions will not be directly callable after loading.\n"
     ]
    },
    {
     "name": "stdout",
     "output_type": "stream",
     "text": [
      "INFO:tensorflow:Assets written to: model4\\assets\n"
     ]
    },
    {
     "name": "stderr",
     "output_type": "stream",
     "text": [
      "INFO:tensorflow:Assets written to: model4\\assets\n"
     ]
    },
    {
     "name": "stdout",
     "output_type": "stream",
     "text": [
      "Epoch 2/50\n",
      "63/63 [==============================] - 0s 4ms/step - loss: 0.0034 - root_mean_squared_error: 0.0582 - val_loss: 0.0032 - val_root_mean_squared_error: 0.0569\n"
     ]
    },
    {
     "name": "stderr",
     "output_type": "stream",
     "text": [
      "WARNING:absl:Found untraced functions such as gru_cell_layer_call_and_return_conditional_losses, gru_cell_layer_call_fn, gru_cell_layer_call_fn, gru_cell_layer_call_and_return_conditional_losses, gru_cell_layer_call_and_return_conditional_losses while saving (showing 5 of 5). These functions will not be directly callable after loading.\n"
     ]
    },
    {
     "name": "stdout",
     "output_type": "stream",
     "text": [
      "INFO:tensorflow:Assets written to: model4\\assets\n"
     ]
    },
    {
     "name": "stderr",
     "output_type": "stream",
     "text": [
      "INFO:tensorflow:Assets written to: model4\\assets\n"
     ]
    },
    {
     "name": "stdout",
     "output_type": "stream",
     "text": [
      "Epoch 3/50\n",
      "63/63 [==============================] - 0s 4ms/step - loss: 0.0014 - root_mean_squared_error: 0.0373 - val_loss: 0.0015 - val_root_mean_squared_error: 0.0392\n"
     ]
    },
    {
     "name": "stderr",
     "output_type": "stream",
     "text": [
      "WARNING:absl:Found untraced functions such as gru_cell_layer_call_and_return_conditional_losses, gru_cell_layer_call_fn, gru_cell_layer_call_fn, gru_cell_layer_call_and_return_conditional_losses, gru_cell_layer_call_and_return_conditional_losses while saving (showing 5 of 5). These functions will not be directly callable after loading.\n"
     ]
    },
    {
     "name": "stdout",
     "output_type": "stream",
     "text": [
      "INFO:tensorflow:Assets written to: model4\\assets\n"
     ]
    },
    {
     "name": "stderr",
     "output_type": "stream",
     "text": [
      "INFO:tensorflow:Assets written to: model4\\assets\n"
     ]
    },
    {
     "name": "stdout",
     "output_type": "stream",
     "text": [
      "Epoch 4/50\n",
      "63/63 [==============================] - 0s 4ms/step - loss: 0.0010 - root_mean_squared_error: 0.0319 - val_loss: 6.8666e-04 - val_root_mean_squared_error: 0.0262\n"
     ]
    },
    {
     "name": "stderr",
     "output_type": "stream",
     "text": [
      "WARNING:absl:Found untraced functions such as gru_cell_layer_call_and_return_conditional_losses, gru_cell_layer_call_fn, gru_cell_layer_call_fn, gru_cell_layer_call_and_return_conditional_losses, gru_cell_layer_call_and_return_conditional_losses while saving (showing 5 of 5). These functions will not be directly callable after loading.\n"
     ]
    },
    {
     "name": "stdout",
     "output_type": "stream",
     "text": [
      "INFO:tensorflow:Assets written to: model4\\assets\n"
     ]
    },
    {
     "name": "stderr",
     "output_type": "stream",
     "text": [
      "INFO:tensorflow:Assets written to: model4\\assets\n"
     ]
    },
    {
     "name": "stdout",
     "output_type": "stream",
     "text": [
      "Epoch 5/50\n",
      "63/63 [==============================] - 0s 4ms/step - loss: 9.0423e-04 - root_mean_squared_error: 0.0301 - val_loss: 4.1997e-04 - val_root_mean_squared_error: 0.0205\n"
     ]
    },
    {
     "name": "stderr",
     "output_type": "stream",
     "text": [
      "WARNING:absl:Found untraced functions such as gru_cell_layer_call_and_return_conditional_losses, gru_cell_layer_call_fn, gru_cell_layer_call_fn, gru_cell_layer_call_and_return_conditional_losses, gru_cell_layer_call_and_return_conditional_losses while saving (showing 5 of 5). These functions will not be directly callable after loading.\n"
     ]
    },
    {
     "name": "stdout",
     "output_type": "stream",
     "text": [
      "INFO:tensorflow:Assets written to: model4\\assets\n"
     ]
    },
    {
     "name": "stderr",
     "output_type": "stream",
     "text": [
      "INFO:tensorflow:Assets written to: model4\\assets\n"
     ]
    },
    {
     "name": "stdout",
     "output_type": "stream",
     "text": [
      "Epoch 6/50\n",
      "63/63 [==============================] - 0s 4ms/step - loss: 7.8194e-04 - root_mean_squared_error: 0.0280 - val_loss: 3.0153e-04 - val_root_mean_squared_error: 0.0174\n"
     ]
    },
    {
     "name": "stderr",
     "output_type": "stream",
     "text": [
      "WARNING:absl:Found untraced functions such as gru_cell_layer_call_and_return_conditional_losses, gru_cell_layer_call_fn, gru_cell_layer_call_fn, gru_cell_layer_call_and_return_conditional_losses, gru_cell_layer_call_and_return_conditional_losses while saving (showing 5 of 5). These functions will not be directly callable after loading.\n"
     ]
    },
    {
     "name": "stdout",
     "output_type": "stream",
     "text": [
      "INFO:tensorflow:Assets written to: model4\\assets\n"
     ]
    },
    {
     "name": "stderr",
     "output_type": "stream",
     "text": [
      "INFO:tensorflow:Assets written to: model4\\assets\n"
     ]
    },
    {
     "name": "stdout",
     "output_type": "stream",
     "text": [
      "Epoch 7/50\n",
      "63/63 [==============================] - 0s 4ms/step - loss: 7.0512e-04 - root_mean_squared_error: 0.0265 - val_loss: 2.6632e-04 - val_root_mean_squared_error: 0.0163\n"
     ]
    },
    {
     "name": "stderr",
     "output_type": "stream",
     "text": [
      "WARNING:absl:Found untraced functions such as gru_cell_layer_call_and_return_conditional_losses, gru_cell_layer_call_fn, gru_cell_layer_call_fn, gru_cell_layer_call_and_return_conditional_losses, gru_cell_layer_call_and_return_conditional_losses while saving (showing 5 of 5). These functions will not be directly callable after loading.\n"
     ]
    },
    {
     "name": "stdout",
     "output_type": "stream",
     "text": [
      "INFO:tensorflow:Assets written to: model4\\assets\n"
     ]
    },
    {
     "name": "stderr",
     "output_type": "stream",
     "text": [
      "INFO:tensorflow:Assets written to: model4\\assets\n"
     ]
    },
    {
     "name": "stdout",
     "output_type": "stream",
     "text": [
      "Epoch 8/50\n",
      "63/63 [==============================] - 0s 4ms/step - loss: 6.9848e-04 - root_mean_squared_error: 0.0264 - val_loss: 2.5331e-04 - val_root_mean_squared_error: 0.0159\n"
     ]
    },
    {
     "name": "stderr",
     "output_type": "stream",
     "text": [
      "WARNING:absl:Found untraced functions such as gru_cell_layer_call_and_return_conditional_losses, gru_cell_layer_call_fn, gru_cell_layer_call_fn, gru_cell_layer_call_and_return_conditional_losses, gru_cell_layer_call_and_return_conditional_losses while saving (showing 5 of 5). These functions will not be directly callable after loading.\n"
     ]
    },
    {
     "name": "stdout",
     "output_type": "stream",
     "text": [
      "INFO:tensorflow:Assets written to: model4\\assets\n"
     ]
    },
    {
     "name": "stderr",
     "output_type": "stream",
     "text": [
      "INFO:tensorflow:Assets written to: model4\\assets\n"
     ]
    },
    {
     "name": "stdout",
     "output_type": "stream",
     "text": [
      "Epoch 9/50\n",
      "63/63 [==============================] - 0s 4ms/step - loss: 6.0171e-04 - root_mean_squared_error: 0.0245 - val_loss: 2.9324e-04 - val_root_mean_squared_error: 0.0171\n",
      "Epoch 10/50\n",
      "63/63 [==============================] - 0s 4ms/step - loss: 5.5431e-04 - root_mean_squared_error: 0.0235 - val_loss: 2.4774e-04 - val_root_mean_squared_error: 0.0157\n"
     ]
    },
    {
     "name": "stderr",
     "output_type": "stream",
     "text": [
      "WARNING:absl:Found untraced functions such as gru_cell_layer_call_and_return_conditional_losses, gru_cell_layer_call_fn, gru_cell_layer_call_fn, gru_cell_layer_call_and_return_conditional_losses, gru_cell_layer_call_and_return_conditional_losses while saving (showing 5 of 5). These functions will not be directly callable after loading.\n"
     ]
    },
    {
     "name": "stdout",
     "output_type": "stream",
     "text": [
      "INFO:tensorflow:Assets written to: model4\\assets\n"
     ]
    },
    {
     "name": "stderr",
     "output_type": "stream",
     "text": [
      "INFO:tensorflow:Assets written to: model4\\assets\n"
     ]
    },
    {
     "name": "stdout",
     "output_type": "stream",
     "text": [
      "Epoch 11/50\n",
      "63/63 [==============================] - 0s 4ms/step - loss: 5.3430e-04 - root_mean_squared_error: 0.0231 - val_loss: 2.5791e-04 - val_root_mean_squared_error: 0.0161\n",
      "Epoch 12/50\n",
      "63/63 [==============================] - 0s 4ms/step - loss: 5.3672e-04 - root_mean_squared_error: 0.0232 - val_loss: 2.1971e-04 - val_root_mean_squared_error: 0.0148\n"
     ]
    },
    {
     "name": "stderr",
     "output_type": "stream",
     "text": [
      "WARNING:absl:Found untraced functions such as gru_cell_layer_call_and_return_conditional_losses, gru_cell_layer_call_fn, gru_cell_layer_call_fn, gru_cell_layer_call_and_return_conditional_losses, gru_cell_layer_call_and_return_conditional_losses while saving (showing 5 of 5). These functions will not be directly callable after loading.\n"
     ]
    },
    {
     "name": "stdout",
     "output_type": "stream",
     "text": [
      "INFO:tensorflow:Assets written to: model4\\assets\n"
     ]
    },
    {
     "name": "stderr",
     "output_type": "stream",
     "text": [
      "INFO:tensorflow:Assets written to: model4\\assets\n"
     ]
    },
    {
     "name": "stdout",
     "output_type": "stream",
     "text": [
      "Epoch 13/50\n",
      "63/63 [==============================] - 0s 4ms/step - loss: 5.0794e-04 - root_mean_squared_error: 0.0225 - val_loss: 2.1837e-04 - val_root_mean_squared_error: 0.0148\n"
     ]
    },
    {
     "name": "stderr",
     "output_type": "stream",
     "text": [
      "WARNING:absl:Found untraced functions such as gru_cell_layer_call_and_return_conditional_losses, gru_cell_layer_call_fn, gru_cell_layer_call_fn, gru_cell_layer_call_and_return_conditional_losses, gru_cell_layer_call_and_return_conditional_losses while saving (showing 5 of 5). These functions will not be directly callable after loading.\n"
     ]
    },
    {
     "name": "stdout",
     "output_type": "stream",
     "text": [
      "INFO:tensorflow:Assets written to: model4\\assets\n"
     ]
    },
    {
     "name": "stderr",
     "output_type": "stream",
     "text": [
      "INFO:tensorflow:Assets written to: model4\\assets\n"
     ]
    },
    {
     "name": "stdout",
     "output_type": "stream",
     "text": [
      "Epoch 14/50\n",
      "63/63 [==============================] - 0s 4ms/step - loss: 4.7378e-04 - root_mean_squared_error: 0.0218 - val_loss: 2.0392e-04 - val_root_mean_squared_error: 0.0143\n"
     ]
    },
    {
     "name": "stderr",
     "output_type": "stream",
     "text": [
      "WARNING:absl:Found untraced functions such as gru_cell_layer_call_and_return_conditional_losses, gru_cell_layer_call_fn, gru_cell_layer_call_fn, gru_cell_layer_call_and_return_conditional_losses, gru_cell_layer_call_and_return_conditional_losses while saving (showing 5 of 5). These functions will not be directly callable after loading.\n"
     ]
    },
    {
     "name": "stdout",
     "output_type": "stream",
     "text": [
      "INFO:tensorflow:Assets written to: model4\\assets\n"
     ]
    },
    {
     "name": "stderr",
     "output_type": "stream",
     "text": [
      "INFO:tensorflow:Assets written to: model4\\assets\n"
     ]
    },
    {
     "name": "stdout",
     "output_type": "stream",
     "text": [
      "Epoch 15/50\n",
      "63/63 [==============================] - 0s 4ms/step - loss: 4.6740e-04 - root_mean_squared_error: 0.0216 - val_loss: 1.9936e-04 - val_root_mean_squared_error: 0.0141\n"
     ]
    },
    {
     "name": "stderr",
     "output_type": "stream",
     "text": [
      "WARNING:absl:Found untraced functions such as gru_cell_layer_call_and_return_conditional_losses, gru_cell_layer_call_fn, gru_cell_layer_call_fn, gru_cell_layer_call_and_return_conditional_losses, gru_cell_layer_call_and_return_conditional_losses while saving (showing 5 of 5). These functions will not be directly callable after loading.\n"
     ]
    },
    {
     "name": "stdout",
     "output_type": "stream",
     "text": [
      "INFO:tensorflow:Assets written to: model4\\assets\n"
     ]
    },
    {
     "name": "stderr",
     "output_type": "stream",
     "text": [
      "INFO:tensorflow:Assets written to: model4\\assets\n"
     ]
    },
    {
     "name": "stdout",
     "output_type": "stream",
     "text": [
      "Epoch 16/50\n",
      "63/63 [==============================] - 0s 4ms/step - loss: 4.4338e-04 - root_mean_squared_error: 0.0211 - val_loss: 2.1368e-04 - val_root_mean_squared_error: 0.0146\n",
      "Epoch 17/50\n",
      "63/63 [==============================] - 0s 4ms/step - loss: 4.0831e-04 - root_mean_squared_error: 0.0202 - val_loss: 1.9175e-04 - val_root_mean_squared_error: 0.0138\n"
     ]
    },
    {
     "name": "stderr",
     "output_type": "stream",
     "text": [
      "WARNING:absl:Found untraced functions such as gru_cell_layer_call_and_return_conditional_losses, gru_cell_layer_call_fn, gru_cell_layer_call_fn, gru_cell_layer_call_and_return_conditional_losses, gru_cell_layer_call_and_return_conditional_losses while saving (showing 5 of 5). These functions will not be directly callable after loading.\n"
     ]
    },
    {
     "name": "stdout",
     "output_type": "stream",
     "text": [
      "INFO:tensorflow:Assets written to: model4\\assets\n"
     ]
    },
    {
     "name": "stderr",
     "output_type": "stream",
     "text": [
      "INFO:tensorflow:Assets written to: model4\\assets\n"
     ]
    },
    {
     "name": "stdout",
     "output_type": "stream",
     "text": [
      "Epoch 18/50\n",
      "63/63 [==============================] - 0s 4ms/step - loss: 4.1563e-04 - root_mean_squared_error: 0.0204 - val_loss: 1.9134e-04 - val_root_mean_squared_error: 0.0138\n"
     ]
    },
    {
     "name": "stderr",
     "output_type": "stream",
     "text": [
      "WARNING:absl:Found untraced functions such as gru_cell_layer_call_and_return_conditional_losses, gru_cell_layer_call_fn, gru_cell_layer_call_fn, gru_cell_layer_call_and_return_conditional_losses, gru_cell_layer_call_and_return_conditional_losses while saving (showing 5 of 5). These functions will not be directly callable after loading.\n"
     ]
    },
    {
     "name": "stdout",
     "output_type": "stream",
     "text": [
      "INFO:tensorflow:Assets written to: model4\\assets\n"
     ]
    },
    {
     "name": "stderr",
     "output_type": "stream",
     "text": [
      "INFO:tensorflow:Assets written to: model4\\assets\n"
     ]
    },
    {
     "name": "stdout",
     "output_type": "stream",
     "text": [
      "Epoch 19/50\n",
      "63/63 [==============================] - 0s 4ms/step - loss: 3.9776e-04 - root_mean_squared_error: 0.0199 - val_loss: 1.9060e-04 - val_root_mean_squared_error: 0.0138\n"
     ]
    },
    {
     "name": "stderr",
     "output_type": "stream",
     "text": [
      "WARNING:absl:Found untraced functions such as gru_cell_layer_call_and_return_conditional_losses, gru_cell_layer_call_fn, gru_cell_layer_call_fn, gru_cell_layer_call_and_return_conditional_losses, gru_cell_layer_call_and_return_conditional_losses while saving (showing 5 of 5). These functions will not be directly callable after loading.\n"
     ]
    },
    {
     "name": "stdout",
     "output_type": "stream",
     "text": [
      "INFO:tensorflow:Assets written to: model4\\assets\n"
     ]
    },
    {
     "name": "stderr",
     "output_type": "stream",
     "text": [
      "INFO:tensorflow:Assets written to: model4\\assets\n"
     ]
    },
    {
     "name": "stdout",
     "output_type": "stream",
     "text": [
      "Epoch 20/50\n",
      "63/63 [==============================] - 0s 4ms/step - loss: 3.8131e-04 - root_mean_squared_error: 0.0195 - val_loss: 1.8301e-04 - val_root_mean_squared_error: 0.0135\n"
     ]
    },
    {
     "name": "stderr",
     "output_type": "stream",
     "text": [
      "WARNING:absl:Found untraced functions such as gru_cell_layer_call_and_return_conditional_losses, gru_cell_layer_call_fn, gru_cell_layer_call_fn, gru_cell_layer_call_and_return_conditional_losses, gru_cell_layer_call_and_return_conditional_losses while saving (showing 5 of 5). These functions will not be directly callable after loading.\n"
     ]
    },
    {
     "name": "stdout",
     "output_type": "stream",
     "text": [
      "INFO:tensorflow:Assets written to: model4\\assets\n"
     ]
    },
    {
     "name": "stderr",
     "output_type": "stream",
     "text": [
      "INFO:tensorflow:Assets written to: model4\\assets\n"
     ]
    },
    {
     "name": "stdout",
     "output_type": "stream",
     "text": [
      "Epoch 21/50\n",
      "63/63 [==============================] - 0s 4ms/step - loss: 3.6802e-04 - root_mean_squared_error: 0.0192 - val_loss: 1.9107e-04 - val_root_mean_squared_error: 0.0138\n",
      "Epoch 22/50\n",
      "63/63 [==============================] - 0s 4ms/step - loss: 3.4650e-04 - root_mean_squared_error: 0.0186 - val_loss: 1.7264e-04 - val_root_mean_squared_error: 0.0131\n"
     ]
    },
    {
     "name": "stderr",
     "output_type": "stream",
     "text": [
      "WARNING:absl:Found untraced functions such as gru_cell_layer_call_and_return_conditional_losses, gru_cell_layer_call_fn, gru_cell_layer_call_fn, gru_cell_layer_call_and_return_conditional_losses, gru_cell_layer_call_and_return_conditional_losses while saving (showing 5 of 5). These functions will not be directly callable after loading.\n"
     ]
    },
    {
     "name": "stdout",
     "output_type": "stream",
     "text": [
      "INFO:tensorflow:Assets written to: model4\\assets\n"
     ]
    },
    {
     "name": "stderr",
     "output_type": "stream",
     "text": [
      "INFO:tensorflow:Assets written to: model4\\assets\n"
     ]
    },
    {
     "name": "stdout",
     "output_type": "stream",
     "text": [
      "Epoch 23/50\n",
      "63/63 [==============================] - 0s 4ms/step - loss: 3.3989e-04 - root_mean_squared_error: 0.0184 - val_loss: 1.9241e-04 - val_root_mean_squared_error: 0.0139\n",
      "Epoch 24/50\n",
      "63/63 [==============================] - 0s 4ms/step - loss: 3.5944e-04 - root_mean_squared_error: 0.0189 - val_loss: 1.8252e-04 - val_root_mean_squared_error: 0.0135\n",
      "Epoch 25/50\n",
      "63/63 [==============================] - 0s 4ms/step - loss: 3.4483e-04 - root_mean_squared_error: 0.0185 - val_loss: 1.8951e-04 - val_root_mean_squared_error: 0.0138\n",
      "Epoch 26/50\n",
      "63/63 [==============================] - 0s 4ms/step - loss: 3.5540e-04 - root_mean_squared_error: 0.0188 - val_loss: 2.0339e-04 - val_root_mean_squared_error: 0.0143\n",
      "Epoch 27/50\n",
      "63/63 [==============================] - 0s 4ms/step - loss: 3.0630e-04 - root_mean_squared_error: 0.0175 - val_loss: 1.7913e-04 - val_root_mean_squared_error: 0.0134\n",
      "Epoch 28/50\n",
      "63/63 [==============================] - 0s 4ms/step - loss: 3.1164e-04 - root_mean_squared_error: 0.0176 - val_loss: 1.6843e-04 - val_root_mean_squared_error: 0.0130\n"
     ]
    },
    {
     "name": "stderr",
     "output_type": "stream",
     "text": [
      "WARNING:absl:Found untraced functions such as gru_cell_layer_call_and_return_conditional_losses, gru_cell_layer_call_fn, gru_cell_layer_call_fn, gru_cell_layer_call_and_return_conditional_losses, gru_cell_layer_call_and_return_conditional_losses while saving (showing 5 of 5). These functions will not be directly callable after loading.\n"
     ]
    },
    {
     "name": "stdout",
     "output_type": "stream",
     "text": [
      "INFO:tensorflow:Assets written to: model4\\assets\n"
     ]
    },
    {
     "name": "stderr",
     "output_type": "stream",
     "text": [
      "INFO:tensorflow:Assets written to: model4\\assets\n"
     ]
    },
    {
     "name": "stdout",
     "output_type": "stream",
     "text": [
      "Epoch 29/50\n",
      "63/63 [==============================] - 0s 4ms/step - loss: 3.0206e-04 - root_mean_squared_error: 0.0174 - val_loss: 1.8767e-04 - val_root_mean_squared_error: 0.0137\n",
      "Epoch 30/50\n",
      "63/63 [==============================] - 0s 4ms/step - loss: 3.0304e-04 - root_mean_squared_error: 0.0174 - val_loss: 1.6660e-04 - val_root_mean_squared_error: 0.0129\n"
     ]
    },
    {
     "name": "stderr",
     "output_type": "stream",
     "text": [
      "WARNING:absl:Found untraced functions such as gru_cell_layer_call_and_return_conditional_losses, gru_cell_layer_call_fn, gru_cell_layer_call_fn, gru_cell_layer_call_and_return_conditional_losses, gru_cell_layer_call_and_return_conditional_losses while saving (showing 5 of 5). These functions will not be directly callable after loading.\n"
     ]
    },
    {
     "name": "stdout",
     "output_type": "stream",
     "text": [
      "INFO:tensorflow:Assets written to: model4\\assets\n"
     ]
    },
    {
     "name": "stderr",
     "output_type": "stream",
     "text": [
      "INFO:tensorflow:Assets written to: model4\\assets\n"
     ]
    },
    {
     "name": "stdout",
     "output_type": "stream",
     "text": [
      "Epoch 31/50\n",
      "63/63 [==============================] - 0s 4ms/step - loss: 2.9264e-04 - root_mean_squared_error: 0.0171 - val_loss: 2.0079e-04 - val_root_mean_squared_error: 0.0142\n",
      "Epoch 32/50\n",
      "63/63 [==============================] - 0s 4ms/step - loss: 2.7794e-04 - root_mean_squared_error: 0.0167 - val_loss: 1.6639e-04 - val_root_mean_squared_error: 0.0129\n"
     ]
    },
    {
     "name": "stderr",
     "output_type": "stream",
     "text": [
      "WARNING:absl:Found untraced functions such as gru_cell_layer_call_and_return_conditional_losses, gru_cell_layer_call_fn, gru_cell_layer_call_fn, gru_cell_layer_call_and_return_conditional_losses, gru_cell_layer_call_and_return_conditional_losses while saving (showing 5 of 5). These functions will not be directly callable after loading.\n"
     ]
    },
    {
     "name": "stdout",
     "output_type": "stream",
     "text": [
      "INFO:tensorflow:Assets written to: model4\\assets\n"
     ]
    },
    {
     "name": "stderr",
     "output_type": "stream",
     "text": [
      "INFO:tensorflow:Assets written to: model4\\assets\n"
     ]
    },
    {
     "name": "stdout",
     "output_type": "stream",
     "text": [
      "Epoch 33/50\n",
      "63/63 [==============================] - 0s 4ms/step - loss: 2.7506e-04 - root_mean_squared_error: 0.0166 - val_loss: 2.1659e-04 - val_root_mean_squared_error: 0.0147\n",
      "Epoch 34/50\n",
      "63/63 [==============================] - 0s 4ms/step - loss: 2.6501e-04 - root_mean_squared_error: 0.0163 - val_loss: 1.9473e-04 - val_root_mean_squared_error: 0.0140\n",
      "Epoch 35/50\n",
      "63/63 [==============================] - 0s 4ms/step - loss: 2.5020e-04 - root_mean_squared_error: 0.0158 - val_loss: 1.7677e-04 - val_root_mean_squared_error: 0.0133\n",
      "Epoch 36/50\n",
      "63/63 [==============================] - 0s 4ms/step - loss: 2.5238e-04 - root_mean_squared_error: 0.0159 - val_loss: 1.7104e-04 - val_root_mean_squared_error: 0.0131\n",
      "Epoch 37/50\n",
      "63/63 [==============================] - 0s 4ms/step - loss: 2.6850e-04 - root_mean_squared_error: 0.0164 - val_loss: 2.0895e-04 - val_root_mean_squared_error: 0.0145\n",
      "Epoch 38/50\n",
      "63/63 [==============================] - 0s 4ms/step - loss: 2.6554e-04 - root_mean_squared_error: 0.0163 - val_loss: 1.6578e-04 - val_root_mean_squared_error: 0.0129\n"
     ]
    },
    {
     "name": "stderr",
     "output_type": "stream",
     "text": [
      "WARNING:absl:Found untraced functions such as gru_cell_layer_call_and_return_conditional_losses, gru_cell_layer_call_fn, gru_cell_layer_call_fn, gru_cell_layer_call_and_return_conditional_losses, gru_cell_layer_call_and_return_conditional_losses while saving (showing 5 of 5). These functions will not be directly callable after loading.\n"
     ]
    },
    {
     "name": "stdout",
     "output_type": "stream",
     "text": [
      "INFO:tensorflow:Assets written to: model4\\assets\n"
     ]
    },
    {
     "name": "stderr",
     "output_type": "stream",
     "text": [
      "INFO:tensorflow:Assets written to: model4\\assets\n"
     ]
    },
    {
     "name": "stdout",
     "output_type": "stream",
     "text": [
      "Epoch 39/50\n",
      "63/63 [==============================] - 0s 4ms/step - loss: 2.4718e-04 - root_mean_squared_error: 0.0157 - val_loss: 1.7440e-04 - val_root_mean_squared_error: 0.0132\n",
      "Epoch 40/50\n",
      "63/63 [==============================] - 0s 4ms/step - loss: 2.5047e-04 - root_mean_squared_error: 0.0158 - val_loss: 1.9161e-04 - val_root_mean_squared_error: 0.0138\n",
      "Epoch 41/50\n",
      "63/63 [==============================] - 0s 4ms/step - loss: 2.2359e-04 - root_mean_squared_error: 0.0149 - val_loss: 2.0116e-04 - val_root_mean_squared_error: 0.0142\n",
      "Epoch 42/50\n",
      "63/63 [==============================] - 0s 4ms/step - loss: 2.2086e-04 - root_mean_squared_error: 0.0148 - val_loss: 1.9519e-04 - val_root_mean_squared_error: 0.0140\n",
      "Epoch 43/50\n",
      "63/63 [==============================] - 0s 4ms/step - loss: 2.2935e-04 - root_mean_squared_error: 0.0151 - val_loss: 2.5366e-04 - val_root_mean_squared_error: 0.0159\n",
      "Epoch 44/50\n",
      "63/63 [==============================] - 0s 4ms/step - loss: 2.1090e-04 - root_mean_squared_error: 0.0145 - val_loss: 2.1431e-04 - val_root_mean_squared_error: 0.0146\n",
      "Epoch 45/50\n",
      "63/63 [==============================] - 0s 4ms/step - loss: 2.1671e-04 - root_mean_squared_error: 0.0147 - val_loss: 1.7960e-04 - val_root_mean_squared_error: 0.0134\n",
      "Epoch 46/50\n",
      "63/63 [==============================] - 0s 4ms/step - loss: 2.3118e-04 - root_mean_squared_error: 0.0152 - val_loss: 2.1393e-04 - val_root_mean_squared_error: 0.0146\n",
      "Epoch 47/50\n",
      "63/63 [==============================] - 0s 4ms/step - loss: 1.9237e-04 - root_mean_squared_error: 0.0138 - val_loss: 1.7366e-04 - val_root_mean_squared_error: 0.0132\n",
      "Epoch 48/50\n",
      "63/63 [==============================] - 0s 4ms/step - loss: 2.1240e-04 - root_mean_squared_error: 0.0146 - val_loss: 2.7095e-04 - val_root_mean_squared_error: 0.0165\n",
      "Epoch 49/50\n",
      "63/63 [==============================] - 0s 4ms/step - loss: 1.9686e-04 - root_mean_squared_error: 0.0140 - val_loss: 1.9599e-04 - val_root_mean_squared_error: 0.0140\n",
      "Epoch 50/50\n",
      "63/63 [==============================] - 0s 4ms/step - loss: 1.9239e-04 - root_mean_squared_error: 0.0139 - val_loss: 1.8618e-04 - val_root_mean_squared_error: 0.0136\n"
     ]
    },
    {
     "data": {
      "text/plain": [
       "<tensorflow.python.keras.callbacks.History at 0x2293ccf6970>"
      ]
     },
     "execution_count": 15,
     "metadata": {},
     "output_type": "execute_result"
    }
   ],
   "source": [
    "model4.fit(X2_train, y2_train, validation_data=(X2_val, y2_val), epochs=50, callbacks=[cp4])"
   ]
  },
  {
   "cell_type": "code",
   "execution_count": 16,
   "metadata": {},
   "outputs": [
    {
     "data": {
      "text/plain": [
       "(     Predictions   Actuals\n",
       " 0       0.052161  0.051650\n",
       " 1       0.049626  0.052649\n",
       " 2       0.047813  0.044108\n",
       " 3       0.045090  0.045328\n",
       " 4       0.044287  0.037381\n",
       " ..           ...       ...\n",
       " 433     0.019564  0.052057\n",
       " 434     0.013661  0.044937\n",
       " 435     0.007239  0.048803\n",
       " 436     0.005463  0.049585\n",
       " 437     0.009393  0.046653\n",
       " \n",
       " [438 rows x 2 columns],\n",
       " 0.0007206867664464556)"
      ]
     },
     "execution_count": 16,
     "metadata": {},
     "output_type": "execute_result"
    },
    {
     "data": {
      "image/png": "[encoded data removed]",
      "text/plain": [
       "<Figure size 640x480 with 1 Axes>"
      ]
     },
     "metadata": {},
     "output_type": "display_data"
    }
   ],
   "source": [
    "plot_predictions1(model4, X2_test, y2_test)"
   ]
  }
 ],
 "metadata": {
  "kernelspec": {
   "display_name": "Python 3",
   "language": "python",
   "name": "python3"
  },
  "language_info": {
   "codemirror_mode": {
    "name": "ipython",
    "version": 3
   },
   "file_extension": ".py",
   "mimetype": "text/x-python",
   "name": "python",
   "nbconvert_exporter": "python",
   "pygments_lexer": "ipython3",
   "version": "3.9.13"
  },
  "orig_nbformat": 4,
  "vscode": {
   "interpreter": {
    "hash": "1cfabbe1a808458982e8f7944cd3505766e9d1721057518e14a3ddac279330ef"
   }
  }
 },
 "nbformat": 4,
 "nbformat_minor": 2
}
